{
 "cells": [
  {
   "cell_type": "code",
   "execution_count": 60,
   "id": "a08d5964",
   "metadata": {},
   "outputs": [],
   "source": [
    "# install.packages(\"caret\")\n",
    "# install.packages(\"ROSE\")\n",
    "# install.packages(\"randomForest\")\n",
    "# install.packages(\"xgboost\")\n",
    "# install.packages(\"caTools\")"
   ]
  },
  {
   "cell_type": "code",
   "execution_count": 61,
   "id": "6e66c219",
   "metadata": {},
   "outputs": [],
   "source": [
    "library(dplyr)       \n",
    "library(caret)\n",
    "library(ROSE)\n",
    "library(randomForest)\n",
    "library(xgboost)\n",
    "library(caTools)"
   ]
  },
  {
   "cell_type": "markdown",
   "id": "33737805",
   "metadata": {},
   "source": [
    "#### Load the Dataset\n"
   ]
  },
  {
   "cell_type": "code",
   "execution_count": 62,
   "id": "fdb60f83",
   "metadata": {},
   "outputs": [
    {
     "data": {
      "text/html": [
       "<table class=\"dataframe\">\n",
       "<caption>A data.frame: 32560 × 15</caption>\n",
       "<thead>\n",
       "\t<tr><th scope=col>X39</th><th scope=col>State.gov</th><th scope=col>X77516</th><th scope=col>Bachelors</th><th scope=col>X13</th><th scope=col>Never.married</th><th scope=col>Adm.clerical</th><th scope=col>Not.in.family</th><th scope=col>White</th><th scope=col>Male</th><th scope=col>X2174</th><th scope=col>X0</th><th scope=col>X40</th><th scope=col>United.States</th><th scope=col>X..50K</th></tr>\n",
       "\t<tr><th scope=col>&lt;int&gt;</th><th scope=col>&lt;chr&gt;</th><th scope=col>&lt;int&gt;</th><th scope=col>&lt;chr&gt;</th><th scope=col>&lt;int&gt;</th><th scope=col>&lt;chr&gt;</th><th scope=col>&lt;chr&gt;</th><th scope=col>&lt;chr&gt;</th><th scope=col>&lt;chr&gt;</th><th scope=col>&lt;chr&gt;</th><th scope=col>&lt;int&gt;</th><th scope=col>&lt;int&gt;</th><th scope=col>&lt;int&gt;</th><th scope=col>&lt;chr&gt;</th><th scope=col>&lt;chr&gt;</th></tr>\n",
       "</thead>\n",
       "<tbody>\n",
       "\t<tr><td>50</td><td> Self-emp-not-inc</td><td> 83311</td><td><span style=white-space:pre-wrap> Bachelors   </span></td><td>13</td><td><span style=white-space:pre-wrap> Married-civ-spouse   </span></td><td><span style=white-space:pre-wrap> Exec-managerial  </span></td><td><span style=white-space:pre-wrap> Husband      </span></td><td><span style=white-space:pre-wrap> White             </span></td><td><span style=white-space:pre-wrap> Male  </span></td><td><span style=white-space:pre-wrap>    0</span></td><td><span style=white-space:pre-wrap>   0</span></td><td>13</td><td> United-States</td><td> &lt;=50K</td></tr>\n",
       "\t<tr><td>38</td><td><span style=white-space:pre-wrap> Private         </span></td><td>215646</td><td><span style=white-space:pre-wrap> HS-grad     </span></td><td> 9</td><td><span style=white-space:pre-wrap> Divorced             </span></td><td> Handlers-cleaners</td><td> Not-in-family</td><td><span style=white-space:pre-wrap> White             </span></td><td><span style=white-space:pre-wrap> Male  </span></td><td><span style=white-space:pre-wrap>    0</span></td><td><span style=white-space:pre-wrap>   0</span></td><td>40</td><td> United-States</td><td> &lt;=50K</td></tr>\n",
       "\t<tr><td>53</td><td><span style=white-space:pre-wrap> Private         </span></td><td>234721</td><td><span style=white-space:pre-wrap> 11th        </span></td><td> 7</td><td><span style=white-space:pre-wrap> Married-civ-spouse   </span></td><td> Handlers-cleaners</td><td><span style=white-space:pre-wrap> Husband      </span></td><td><span style=white-space:pre-wrap> Black             </span></td><td><span style=white-space:pre-wrap> Male  </span></td><td><span style=white-space:pre-wrap>    0</span></td><td><span style=white-space:pre-wrap>   0</span></td><td>40</td><td> United-States</td><td> &lt;=50K</td></tr>\n",
       "\t<tr><td>28</td><td><span style=white-space:pre-wrap> Private         </span></td><td>338409</td><td><span style=white-space:pre-wrap> Bachelors   </span></td><td>13</td><td><span style=white-space:pre-wrap> Married-civ-spouse   </span></td><td><span style=white-space:pre-wrap> Prof-specialty   </span></td><td><span style=white-space:pre-wrap> Wife         </span></td><td><span style=white-space:pre-wrap> Black             </span></td><td> Female</td><td><span style=white-space:pre-wrap>    0</span></td><td><span style=white-space:pre-wrap>   0</span></td><td>40</td><td><span style=white-space:pre-wrap> Cuba         </span></td><td> &lt;=50K</td></tr>\n",
       "\t<tr><td>37</td><td><span style=white-space:pre-wrap> Private         </span></td><td>284582</td><td><span style=white-space:pre-wrap> Masters     </span></td><td>14</td><td><span style=white-space:pre-wrap> Married-civ-spouse   </span></td><td><span style=white-space:pre-wrap> Exec-managerial  </span></td><td><span style=white-space:pre-wrap> Wife         </span></td><td><span style=white-space:pre-wrap> White             </span></td><td> Female</td><td><span style=white-space:pre-wrap>    0</span></td><td><span style=white-space:pre-wrap>   0</span></td><td>40</td><td> United-States</td><td> &lt;=50K</td></tr>\n",
       "\t<tr><td>49</td><td><span style=white-space:pre-wrap> Private         </span></td><td>160187</td><td><span style=white-space:pre-wrap> 9th         </span></td><td> 5</td><td> Married-spouse-absent</td><td><span style=white-space:pre-wrap> Other-service    </span></td><td> Not-in-family</td><td><span style=white-space:pre-wrap> Black             </span></td><td> Female</td><td><span style=white-space:pre-wrap>    0</span></td><td><span style=white-space:pre-wrap>   0</span></td><td>16</td><td><span style=white-space:pre-wrap> Jamaica      </span></td><td> &lt;=50K</td></tr>\n",
       "\t<tr><td>52</td><td> Self-emp-not-inc</td><td>209642</td><td><span style=white-space:pre-wrap> HS-grad     </span></td><td> 9</td><td><span style=white-space:pre-wrap> Married-civ-spouse   </span></td><td><span style=white-space:pre-wrap> Exec-managerial  </span></td><td><span style=white-space:pre-wrap> Husband      </span></td><td><span style=white-space:pre-wrap> White             </span></td><td><span style=white-space:pre-wrap> Male  </span></td><td><span style=white-space:pre-wrap>    0</span></td><td><span style=white-space:pre-wrap>   0</span></td><td>45</td><td> United-States</td><td> &gt;50K </td></tr>\n",
       "\t<tr><td>31</td><td><span style=white-space:pre-wrap> Private         </span></td><td> 45781</td><td><span style=white-space:pre-wrap> Masters     </span></td><td>14</td><td><span style=white-space:pre-wrap> Never-married        </span></td><td><span style=white-space:pre-wrap> Prof-specialty   </span></td><td> Not-in-family</td><td><span style=white-space:pre-wrap> White             </span></td><td> Female</td><td>14084</td><td><span style=white-space:pre-wrap>   0</span></td><td>50</td><td> United-States</td><td> &gt;50K </td></tr>\n",
       "\t<tr><td>42</td><td><span style=white-space:pre-wrap> Private         </span></td><td>159449</td><td><span style=white-space:pre-wrap> Bachelors   </span></td><td>13</td><td><span style=white-space:pre-wrap> Married-civ-spouse   </span></td><td><span style=white-space:pre-wrap> Exec-managerial  </span></td><td><span style=white-space:pre-wrap> Husband      </span></td><td><span style=white-space:pre-wrap> White             </span></td><td><span style=white-space:pre-wrap> Male  </span></td><td> 5178</td><td><span style=white-space:pre-wrap>   0</span></td><td>40</td><td> United-States</td><td> &gt;50K </td></tr>\n",
       "\t<tr><td>37</td><td><span style=white-space:pre-wrap> Private         </span></td><td>280464</td><td> Some-college</td><td>10</td><td><span style=white-space:pre-wrap> Married-civ-spouse   </span></td><td><span style=white-space:pre-wrap> Exec-managerial  </span></td><td><span style=white-space:pre-wrap> Husband      </span></td><td><span style=white-space:pre-wrap> Black             </span></td><td><span style=white-space:pre-wrap> Male  </span></td><td><span style=white-space:pre-wrap>    0</span></td><td><span style=white-space:pre-wrap>   0</span></td><td>80</td><td> United-States</td><td> &gt;50K </td></tr>\n",
       "\t<tr><td>30</td><td><span style=white-space:pre-wrap> State-gov       </span></td><td>141297</td><td><span style=white-space:pre-wrap> Bachelors   </span></td><td>13</td><td><span style=white-space:pre-wrap> Married-civ-spouse   </span></td><td><span style=white-space:pre-wrap> Prof-specialty   </span></td><td><span style=white-space:pre-wrap> Husband      </span></td><td> Asian-Pac-Islander</td><td><span style=white-space:pre-wrap> Male  </span></td><td><span style=white-space:pre-wrap>    0</span></td><td><span style=white-space:pre-wrap>   0</span></td><td>40</td><td><span style=white-space:pre-wrap> India        </span></td><td> &gt;50K </td></tr>\n",
       "\t<tr><td>23</td><td><span style=white-space:pre-wrap> Private         </span></td><td>122272</td><td><span style=white-space:pre-wrap> Bachelors   </span></td><td>13</td><td><span style=white-space:pre-wrap> Never-married        </span></td><td><span style=white-space:pre-wrap> Adm-clerical     </span></td><td><span style=white-space:pre-wrap> Own-child    </span></td><td><span style=white-space:pre-wrap> White             </span></td><td> Female</td><td><span style=white-space:pre-wrap>    0</span></td><td><span style=white-space:pre-wrap>   0</span></td><td>30</td><td> United-States</td><td> &lt;=50K</td></tr>\n",
       "\t<tr><td>32</td><td><span style=white-space:pre-wrap> Private         </span></td><td>205019</td><td><span style=white-space:pre-wrap> Assoc-acdm  </span></td><td>12</td><td><span style=white-space:pre-wrap> Never-married        </span></td><td><span style=white-space:pre-wrap> Sales            </span></td><td> Not-in-family</td><td><span style=white-space:pre-wrap> Black             </span></td><td><span style=white-space:pre-wrap> Male  </span></td><td><span style=white-space:pre-wrap>    0</span></td><td><span style=white-space:pre-wrap>   0</span></td><td>50</td><td> United-States</td><td> &lt;=50K</td></tr>\n",
       "\t<tr><td>40</td><td><span style=white-space:pre-wrap> Private         </span></td><td>121772</td><td><span style=white-space:pre-wrap> Assoc-voc   </span></td><td>11</td><td><span style=white-space:pre-wrap> Married-civ-spouse   </span></td><td><span style=white-space:pre-wrap> Craft-repair     </span></td><td><span style=white-space:pre-wrap> Husband      </span></td><td> Asian-Pac-Islander</td><td><span style=white-space:pre-wrap> Male  </span></td><td><span style=white-space:pre-wrap>    0</span></td><td><span style=white-space:pre-wrap>   0</span></td><td>40</td><td><span style=white-space:pre-wrap> ?            </span></td><td> &gt;50K </td></tr>\n",
       "\t<tr><td>34</td><td><span style=white-space:pre-wrap> Private         </span></td><td>245487</td><td><span style=white-space:pre-wrap> 7th-8th     </span></td><td> 4</td><td><span style=white-space:pre-wrap> Married-civ-spouse   </span></td><td> Transport-moving </td><td><span style=white-space:pre-wrap> Husband      </span></td><td> Amer-Indian-Eskimo</td><td><span style=white-space:pre-wrap> Male  </span></td><td><span style=white-space:pre-wrap>    0</span></td><td><span style=white-space:pre-wrap>   0</span></td><td>45</td><td><span style=white-space:pre-wrap> Mexico       </span></td><td> &lt;=50K</td></tr>\n",
       "\t<tr><td>25</td><td> Self-emp-not-inc</td><td>176756</td><td><span style=white-space:pre-wrap> HS-grad     </span></td><td> 9</td><td><span style=white-space:pre-wrap> Never-married        </span></td><td><span style=white-space:pre-wrap> Farming-fishing  </span></td><td><span style=white-space:pre-wrap> Own-child    </span></td><td><span style=white-space:pre-wrap> White             </span></td><td><span style=white-space:pre-wrap> Male  </span></td><td><span style=white-space:pre-wrap>    0</span></td><td><span style=white-space:pre-wrap>   0</span></td><td>35</td><td> United-States</td><td> &lt;=50K</td></tr>\n",
       "\t<tr><td>32</td><td><span style=white-space:pre-wrap> Private         </span></td><td>186824</td><td><span style=white-space:pre-wrap> HS-grad     </span></td><td> 9</td><td><span style=white-space:pre-wrap> Never-married        </span></td><td> Machine-op-inspct</td><td><span style=white-space:pre-wrap> Unmarried    </span></td><td><span style=white-space:pre-wrap> White             </span></td><td><span style=white-space:pre-wrap> Male  </span></td><td><span style=white-space:pre-wrap>    0</span></td><td><span style=white-space:pre-wrap>   0</span></td><td>40</td><td> United-States</td><td> &lt;=50K</td></tr>\n",
       "\t<tr><td>38</td><td><span style=white-space:pre-wrap> Private         </span></td><td> 28887</td><td><span style=white-space:pre-wrap> 11th        </span></td><td> 7</td><td><span style=white-space:pre-wrap> Married-civ-spouse   </span></td><td><span style=white-space:pre-wrap> Sales            </span></td><td><span style=white-space:pre-wrap> Husband      </span></td><td><span style=white-space:pre-wrap> White             </span></td><td><span style=white-space:pre-wrap> Male  </span></td><td><span style=white-space:pre-wrap>    0</span></td><td><span style=white-space:pre-wrap>   0</span></td><td>50</td><td> United-States</td><td> &lt;=50K</td></tr>\n",
       "\t<tr><td>43</td><td> Self-emp-not-inc</td><td>292175</td><td><span style=white-space:pre-wrap> Masters     </span></td><td>14</td><td><span style=white-space:pre-wrap> Divorced             </span></td><td><span style=white-space:pre-wrap> Exec-managerial  </span></td><td><span style=white-space:pre-wrap> Unmarried    </span></td><td><span style=white-space:pre-wrap> White             </span></td><td> Female</td><td><span style=white-space:pre-wrap>    0</span></td><td><span style=white-space:pre-wrap>   0</span></td><td>45</td><td> United-States</td><td> &gt;50K </td></tr>\n",
       "\t<tr><td>40</td><td><span style=white-space:pre-wrap> Private         </span></td><td>193524</td><td><span style=white-space:pre-wrap> Doctorate   </span></td><td>16</td><td><span style=white-space:pre-wrap> Married-civ-spouse   </span></td><td><span style=white-space:pre-wrap> Prof-specialty   </span></td><td><span style=white-space:pre-wrap> Husband      </span></td><td><span style=white-space:pre-wrap> White             </span></td><td><span style=white-space:pre-wrap> Male  </span></td><td><span style=white-space:pre-wrap>    0</span></td><td><span style=white-space:pre-wrap>   0</span></td><td>60</td><td> United-States</td><td> &gt;50K </td></tr>\n",
       "\t<tr><td>54</td><td><span style=white-space:pre-wrap> Private         </span></td><td>302146</td><td><span style=white-space:pre-wrap> HS-grad     </span></td><td> 9</td><td><span style=white-space:pre-wrap> Separated            </span></td><td><span style=white-space:pre-wrap> Other-service    </span></td><td><span style=white-space:pre-wrap> Unmarried    </span></td><td><span style=white-space:pre-wrap> Black             </span></td><td> Female</td><td><span style=white-space:pre-wrap>    0</span></td><td><span style=white-space:pre-wrap>   0</span></td><td>20</td><td> United-States</td><td> &lt;=50K</td></tr>\n",
       "\t<tr><td>35</td><td><span style=white-space:pre-wrap> Federal-gov     </span></td><td> 76845</td><td><span style=white-space:pre-wrap> 9th         </span></td><td> 5</td><td><span style=white-space:pre-wrap> Married-civ-spouse   </span></td><td><span style=white-space:pre-wrap> Farming-fishing  </span></td><td><span style=white-space:pre-wrap> Husband      </span></td><td><span style=white-space:pre-wrap> Black             </span></td><td><span style=white-space:pre-wrap> Male  </span></td><td><span style=white-space:pre-wrap>    0</span></td><td><span style=white-space:pre-wrap>   0</span></td><td>40</td><td> United-States</td><td> &lt;=50K</td></tr>\n",
       "\t<tr><td>43</td><td><span style=white-space:pre-wrap> Private         </span></td><td>117037</td><td><span style=white-space:pre-wrap> 11th        </span></td><td> 7</td><td><span style=white-space:pre-wrap> Married-civ-spouse   </span></td><td> Transport-moving </td><td><span style=white-space:pre-wrap> Husband      </span></td><td><span style=white-space:pre-wrap> White             </span></td><td><span style=white-space:pre-wrap> Male  </span></td><td><span style=white-space:pre-wrap>    0</span></td><td>2042</td><td>40</td><td> United-States</td><td> &lt;=50K</td></tr>\n",
       "\t<tr><td>59</td><td><span style=white-space:pre-wrap> Private         </span></td><td>109015</td><td><span style=white-space:pre-wrap> HS-grad     </span></td><td> 9</td><td><span style=white-space:pre-wrap> Divorced             </span></td><td><span style=white-space:pre-wrap> Tech-support     </span></td><td><span style=white-space:pre-wrap> Unmarried    </span></td><td><span style=white-space:pre-wrap> White             </span></td><td> Female</td><td><span style=white-space:pre-wrap>    0</span></td><td><span style=white-space:pre-wrap>   0</span></td><td>40</td><td> United-States</td><td> &lt;=50K</td></tr>\n",
       "\t<tr><td>56</td><td><span style=white-space:pre-wrap> Local-gov       </span></td><td>216851</td><td><span style=white-space:pre-wrap> Bachelors   </span></td><td>13</td><td><span style=white-space:pre-wrap> Married-civ-spouse   </span></td><td><span style=white-space:pre-wrap> Tech-support     </span></td><td><span style=white-space:pre-wrap> Husband      </span></td><td><span style=white-space:pre-wrap> White             </span></td><td><span style=white-space:pre-wrap> Male  </span></td><td><span style=white-space:pre-wrap>    0</span></td><td><span style=white-space:pre-wrap>   0</span></td><td>40</td><td> United-States</td><td> &gt;50K </td></tr>\n",
       "\t<tr><td>19</td><td><span style=white-space:pre-wrap> Private         </span></td><td>168294</td><td><span style=white-space:pre-wrap> HS-grad     </span></td><td> 9</td><td><span style=white-space:pre-wrap> Never-married        </span></td><td><span style=white-space:pre-wrap> Craft-repair     </span></td><td><span style=white-space:pre-wrap> Own-child    </span></td><td><span style=white-space:pre-wrap> White             </span></td><td><span style=white-space:pre-wrap> Male  </span></td><td><span style=white-space:pre-wrap>    0</span></td><td><span style=white-space:pre-wrap>   0</span></td><td>40</td><td> United-States</td><td> &lt;=50K</td></tr>\n",
       "\t<tr><td>54</td><td><span style=white-space:pre-wrap> ?               </span></td><td>180211</td><td> Some-college</td><td>10</td><td><span style=white-space:pre-wrap> Married-civ-spouse   </span></td><td><span style=white-space:pre-wrap> ?                </span></td><td><span style=white-space:pre-wrap> Husband      </span></td><td> Asian-Pac-Islander</td><td><span style=white-space:pre-wrap> Male  </span></td><td><span style=white-space:pre-wrap>    0</span></td><td><span style=white-space:pre-wrap>   0</span></td><td>60</td><td><span style=white-space:pre-wrap> South        </span></td><td> &gt;50K </td></tr>\n",
       "\t<tr><td>39</td><td><span style=white-space:pre-wrap> Private         </span></td><td>367260</td><td><span style=white-space:pre-wrap> HS-grad     </span></td><td> 9</td><td><span style=white-space:pre-wrap> Divorced             </span></td><td><span style=white-space:pre-wrap> Exec-managerial  </span></td><td> Not-in-family</td><td><span style=white-space:pre-wrap> White             </span></td><td><span style=white-space:pre-wrap> Male  </span></td><td><span style=white-space:pre-wrap>    0</span></td><td><span style=white-space:pre-wrap>   0</span></td><td>80</td><td> United-States</td><td> &lt;=50K</td></tr>\n",
       "\t<tr><td>49</td><td><span style=white-space:pre-wrap> Private         </span></td><td>193366</td><td><span style=white-space:pre-wrap> HS-grad     </span></td><td> 9</td><td><span style=white-space:pre-wrap> Married-civ-spouse   </span></td><td><span style=white-space:pre-wrap> Craft-repair     </span></td><td><span style=white-space:pre-wrap> Husband      </span></td><td><span style=white-space:pre-wrap> White             </span></td><td><span style=white-space:pre-wrap> Male  </span></td><td><span style=white-space:pre-wrap>    0</span></td><td><span style=white-space:pre-wrap>   0</span></td><td>40</td><td> United-States</td><td> &lt;=50K</td></tr>\n",
       "\t<tr><td>23</td><td><span style=white-space:pre-wrap> Local-gov       </span></td><td>190709</td><td><span style=white-space:pre-wrap> Assoc-acdm  </span></td><td>12</td><td><span style=white-space:pre-wrap> Never-married        </span></td><td><span style=white-space:pre-wrap> Protective-serv  </span></td><td> Not-in-family</td><td><span style=white-space:pre-wrap> White             </span></td><td><span style=white-space:pre-wrap> Male  </span></td><td><span style=white-space:pre-wrap>    0</span></td><td><span style=white-space:pre-wrap>   0</span></td><td>52</td><td> United-States</td><td> &lt;=50K</td></tr>\n",
       "\t<tr><td>⋮</td><td>⋮</td><td>⋮</td><td>⋮</td><td>⋮</td><td>⋮</td><td>⋮</td><td>⋮</td><td>⋮</td><td>⋮</td><td>⋮</td><td>⋮</td><td>⋮</td><td>⋮</td><td>⋮</td></tr>\n",
       "\t<tr><td>30</td><td><span style=white-space:pre-wrap> ?               </span></td><td> 33811</td><td><span style=white-space:pre-wrap> Bachelors   </span></td><td>13</td><td><span style=white-space:pre-wrap> Never-married     </span></td><td><span style=white-space:pre-wrap> ?                </span></td><td> Not-in-family </td><td> Asian-Pac-Islander</td><td> Female</td><td><span style=white-space:pre-wrap>    0</span></td><td>0</td><td>99</td><td> United-States</td><td> &lt;=50K</td></tr>\n",
       "\t<tr><td>34</td><td><span style=white-space:pre-wrap> Private         </span></td><td>204461</td><td><span style=white-space:pre-wrap> Doctorate   </span></td><td>16</td><td> Married-civ-spouse</td><td><span style=white-space:pre-wrap> Prof-specialty   </span></td><td><span style=white-space:pre-wrap> Husband       </span></td><td><span style=white-space:pre-wrap> White             </span></td><td><span style=white-space:pre-wrap> Male  </span></td><td><span style=white-space:pre-wrap>    0</span></td><td>0</td><td>60</td><td> United-States</td><td> &gt;50K </td></tr>\n",
       "\t<tr><td>54</td><td><span style=white-space:pre-wrap> Private         </span></td><td>337992</td><td><span style=white-space:pre-wrap> Bachelors   </span></td><td>13</td><td> Married-civ-spouse</td><td><span style=white-space:pre-wrap> Exec-managerial  </span></td><td><span style=white-space:pre-wrap> Husband       </span></td><td> Asian-Pac-Islander</td><td><span style=white-space:pre-wrap> Male  </span></td><td><span style=white-space:pre-wrap>    0</span></td><td>0</td><td>50</td><td><span style=white-space:pre-wrap> Japan        </span></td><td> &gt;50K </td></tr>\n",
       "\t<tr><td>37</td><td><span style=white-space:pre-wrap> Private         </span></td><td>179137</td><td> Some-college</td><td>10</td><td><span style=white-space:pre-wrap> Divorced          </span></td><td><span style=white-space:pre-wrap> Adm-clerical     </span></td><td><span style=white-space:pre-wrap> Unmarried     </span></td><td><span style=white-space:pre-wrap> White             </span></td><td> Female</td><td><span style=white-space:pre-wrap>    0</span></td><td>0</td><td>39</td><td> United-States</td><td> &lt;=50K</td></tr>\n",
       "\t<tr><td>22</td><td><span style=white-space:pre-wrap> Private         </span></td><td>325033</td><td><span style=white-space:pre-wrap> 12th        </span></td><td> 8</td><td><span style=white-space:pre-wrap> Never-married     </span></td><td><span style=white-space:pre-wrap> Protective-serv  </span></td><td><span style=white-space:pre-wrap> Own-child     </span></td><td><span style=white-space:pre-wrap> Black             </span></td><td><span style=white-space:pre-wrap> Male  </span></td><td><span style=white-space:pre-wrap>    0</span></td><td>0</td><td>35</td><td> United-States</td><td> &lt;=50K</td></tr>\n",
       "\t<tr><td>34</td><td><span style=white-space:pre-wrap> Private         </span></td><td>160216</td><td><span style=white-space:pre-wrap> Bachelors   </span></td><td>13</td><td><span style=white-space:pre-wrap> Never-married     </span></td><td><span style=white-space:pre-wrap> Exec-managerial  </span></td><td> Not-in-family </td><td><span style=white-space:pre-wrap> White             </span></td><td> Female</td><td><span style=white-space:pre-wrap>    0</span></td><td>0</td><td>55</td><td> United-States</td><td> &gt;50K </td></tr>\n",
       "\t<tr><td>30</td><td><span style=white-space:pre-wrap> Private         </span></td><td>345898</td><td><span style=white-space:pre-wrap> HS-grad     </span></td><td> 9</td><td><span style=white-space:pre-wrap> Never-married     </span></td><td><span style=white-space:pre-wrap> Craft-repair     </span></td><td> Not-in-family </td><td><span style=white-space:pre-wrap> Black             </span></td><td><span style=white-space:pre-wrap> Male  </span></td><td><span style=white-space:pre-wrap>    0</span></td><td>0</td><td>46</td><td> United-States</td><td> &lt;=50K</td></tr>\n",
       "\t<tr><td>38</td><td><span style=white-space:pre-wrap> Private         </span></td><td>139180</td><td><span style=white-space:pre-wrap> Bachelors   </span></td><td>13</td><td><span style=white-space:pre-wrap> Divorced          </span></td><td><span style=white-space:pre-wrap> Prof-specialty   </span></td><td><span style=white-space:pre-wrap> Unmarried     </span></td><td><span style=white-space:pre-wrap> Black             </span></td><td> Female</td><td>15020</td><td>0</td><td>45</td><td> United-States</td><td> &gt;50K </td></tr>\n",
       "\t<tr><td>71</td><td><span style=white-space:pre-wrap> ?               </span></td><td>287372</td><td><span style=white-space:pre-wrap> Doctorate   </span></td><td>16</td><td> Married-civ-spouse</td><td><span style=white-space:pre-wrap> ?                </span></td><td><span style=white-space:pre-wrap> Husband       </span></td><td><span style=white-space:pre-wrap> White             </span></td><td><span style=white-space:pre-wrap> Male  </span></td><td><span style=white-space:pre-wrap>    0</span></td><td>0</td><td>10</td><td> United-States</td><td> &gt;50K </td></tr>\n",
       "\t<tr><td>45</td><td><span style=white-space:pre-wrap> State-gov       </span></td><td>252208</td><td><span style=white-space:pre-wrap> HS-grad     </span></td><td> 9</td><td><span style=white-space:pre-wrap> Separated         </span></td><td><span style=white-space:pre-wrap> Adm-clerical     </span></td><td><span style=white-space:pre-wrap> Own-child     </span></td><td><span style=white-space:pre-wrap> White             </span></td><td> Female</td><td><span style=white-space:pre-wrap>    0</span></td><td>0</td><td>40</td><td> United-States</td><td> &lt;=50K</td></tr>\n",
       "\t<tr><td>41</td><td><span style=white-space:pre-wrap> ?               </span></td><td>202822</td><td><span style=white-space:pre-wrap> HS-grad     </span></td><td> 9</td><td><span style=white-space:pre-wrap> Separated         </span></td><td><span style=white-space:pre-wrap> ?                </span></td><td> Not-in-family </td><td><span style=white-space:pre-wrap> Black             </span></td><td> Female</td><td><span style=white-space:pre-wrap>    0</span></td><td>0</td><td>32</td><td> United-States</td><td> &lt;=50K</td></tr>\n",
       "\t<tr><td>72</td><td><span style=white-space:pre-wrap> ?               </span></td><td>129912</td><td><span style=white-space:pre-wrap> HS-grad     </span></td><td> 9</td><td> Married-civ-spouse</td><td><span style=white-space:pre-wrap> ?                </span></td><td><span style=white-space:pre-wrap> Husband       </span></td><td><span style=white-space:pre-wrap> White             </span></td><td><span style=white-space:pre-wrap> Male  </span></td><td><span style=white-space:pre-wrap>    0</span></td><td>0</td><td>25</td><td> United-States</td><td> &lt;=50K</td></tr>\n",
       "\t<tr><td>45</td><td><span style=white-space:pre-wrap> Local-gov       </span></td><td>119199</td><td><span style=white-space:pre-wrap> Assoc-acdm  </span></td><td>12</td><td><span style=white-space:pre-wrap> Divorced          </span></td><td><span style=white-space:pre-wrap> Prof-specialty   </span></td><td><span style=white-space:pre-wrap> Unmarried     </span></td><td><span style=white-space:pre-wrap> White             </span></td><td> Female</td><td><span style=white-space:pre-wrap>    0</span></td><td>0</td><td>48</td><td> United-States</td><td> &lt;=50K</td></tr>\n",
       "\t<tr><td>31</td><td><span style=white-space:pre-wrap> Private         </span></td><td>199655</td><td><span style=white-space:pre-wrap> Masters     </span></td><td>14</td><td><span style=white-space:pre-wrap> Divorced          </span></td><td><span style=white-space:pre-wrap> Other-service    </span></td><td> Not-in-family </td><td><span style=white-space:pre-wrap> Other             </span></td><td> Female</td><td><span style=white-space:pre-wrap>    0</span></td><td>0</td><td>30</td><td> United-States</td><td> &lt;=50K</td></tr>\n",
       "\t<tr><td>39</td><td><span style=white-space:pre-wrap> Local-gov       </span></td><td>111499</td><td><span style=white-space:pre-wrap> Assoc-acdm  </span></td><td>12</td><td> Married-civ-spouse</td><td><span style=white-space:pre-wrap> Adm-clerical     </span></td><td><span style=white-space:pre-wrap> Wife          </span></td><td><span style=white-space:pre-wrap> White             </span></td><td> Female</td><td><span style=white-space:pre-wrap>    0</span></td><td>0</td><td>20</td><td> United-States</td><td> &gt;50K </td></tr>\n",
       "\t<tr><td>37</td><td><span style=white-space:pre-wrap> Private         </span></td><td>198216</td><td><span style=white-space:pre-wrap> Assoc-acdm  </span></td><td>12</td><td><span style=white-space:pre-wrap> Divorced          </span></td><td><span style=white-space:pre-wrap> Tech-support     </span></td><td> Not-in-family </td><td><span style=white-space:pre-wrap> White             </span></td><td> Female</td><td><span style=white-space:pre-wrap>    0</span></td><td>0</td><td>40</td><td> United-States</td><td> &lt;=50K</td></tr>\n",
       "\t<tr><td>43</td><td><span style=white-space:pre-wrap> Private         </span></td><td>260761</td><td><span style=white-space:pre-wrap> HS-grad     </span></td><td> 9</td><td> Married-civ-spouse</td><td> Machine-op-inspct</td><td><span style=white-space:pre-wrap> Husband       </span></td><td><span style=white-space:pre-wrap> White             </span></td><td><span style=white-space:pre-wrap> Male  </span></td><td><span style=white-space:pre-wrap>    0</span></td><td>0</td><td>40</td><td><span style=white-space:pre-wrap> Mexico       </span></td><td> &lt;=50K</td></tr>\n",
       "\t<tr><td>65</td><td> Self-emp-not-inc</td><td> 99359</td><td> Prof-school </td><td>15</td><td><span style=white-space:pre-wrap> Never-married     </span></td><td><span style=white-space:pre-wrap> Prof-specialty   </span></td><td> Not-in-family </td><td><span style=white-space:pre-wrap> White             </span></td><td><span style=white-space:pre-wrap> Male  </span></td><td> 1086</td><td>0</td><td>60</td><td> United-States</td><td> &lt;=50K</td></tr>\n",
       "\t<tr><td>43</td><td><span style=white-space:pre-wrap> State-gov       </span></td><td>255835</td><td> Some-college</td><td>10</td><td><span style=white-space:pre-wrap> Divorced          </span></td><td><span style=white-space:pre-wrap> Adm-clerical     </span></td><td> Other-relative</td><td><span style=white-space:pre-wrap> White             </span></td><td> Female</td><td><span style=white-space:pre-wrap>    0</span></td><td>0</td><td>40</td><td> United-States</td><td> &lt;=50K</td></tr>\n",
       "\t<tr><td>43</td><td> Self-emp-not-inc</td><td> 27242</td><td> Some-college</td><td>10</td><td> Married-civ-spouse</td><td><span style=white-space:pre-wrap> Craft-repair     </span></td><td><span style=white-space:pre-wrap> Husband       </span></td><td><span style=white-space:pre-wrap> White             </span></td><td><span style=white-space:pre-wrap> Male  </span></td><td><span style=white-space:pre-wrap>    0</span></td><td>0</td><td>50</td><td> United-States</td><td> &lt;=50K</td></tr>\n",
       "\t<tr><td>32</td><td><span style=white-space:pre-wrap> Private         </span></td><td> 34066</td><td><span style=white-space:pre-wrap> 10th        </span></td><td> 6</td><td> Married-civ-spouse</td><td> Handlers-cleaners</td><td><span style=white-space:pre-wrap> Husband       </span></td><td> Amer-Indian-Eskimo</td><td><span style=white-space:pre-wrap> Male  </span></td><td><span style=white-space:pre-wrap>    0</span></td><td>0</td><td>40</td><td> United-States</td><td> &lt;=50K</td></tr>\n",
       "\t<tr><td>43</td><td><span style=white-space:pre-wrap> Private         </span></td><td> 84661</td><td><span style=white-space:pre-wrap> Assoc-voc   </span></td><td>11</td><td> Married-civ-spouse</td><td><span style=white-space:pre-wrap> Sales            </span></td><td><span style=white-space:pre-wrap> Husband       </span></td><td><span style=white-space:pre-wrap> White             </span></td><td><span style=white-space:pre-wrap> Male  </span></td><td><span style=white-space:pre-wrap>    0</span></td><td>0</td><td>45</td><td> United-States</td><td> &lt;=50K</td></tr>\n",
       "\t<tr><td>32</td><td><span style=white-space:pre-wrap> Private         </span></td><td>116138</td><td><span style=white-space:pre-wrap> Masters     </span></td><td>14</td><td><span style=white-space:pre-wrap> Never-married     </span></td><td><span style=white-space:pre-wrap> Tech-support     </span></td><td> Not-in-family </td><td> Asian-Pac-Islander</td><td><span style=white-space:pre-wrap> Male  </span></td><td><span style=white-space:pre-wrap>    0</span></td><td>0</td><td>11</td><td><span style=white-space:pre-wrap> Taiwan       </span></td><td> &lt;=50K</td></tr>\n",
       "\t<tr><td>53</td><td><span style=white-space:pre-wrap> Private         </span></td><td>321865</td><td><span style=white-space:pre-wrap> Masters     </span></td><td>14</td><td> Married-civ-spouse</td><td><span style=white-space:pre-wrap> Exec-managerial  </span></td><td><span style=white-space:pre-wrap> Husband       </span></td><td><span style=white-space:pre-wrap> White             </span></td><td><span style=white-space:pre-wrap> Male  </span></td><td><span style=white-space:pre-wrap>    0</span></td><td>0</td><td>40</td><td> United-States</td><td> &gt;50K </td></tr>\n",
       "\t<tr><td>22</td><td><span style=white-space:pre-wrap> Private         </span></td><td>310152</td><td> Some-college</td><td>10</td><td><span style=white-space:pre-wrap> Never-married     </span></td><td><span style=white-space:pre-wrap> Protective-serv  </span></td><td> Not-in-family </td><td><span style=white-space:pre-wrap> White             </span></td><td><span style=white-space:pre-wrap> Male  </span></td><td><span style=white-space:pre-wrap>    0</span></td><td>0</td><td>40</td><td> United-States</td><td> &lt;=50K</td></tr>\n",
       "\t<tr><td>27</td><td><span style=white-space:pre-wrap> Private         </span></td><td>257302</td><td><span style=white-space:pre-wrap> Assoc-acdm  </span></td><td>12</td><td> Married-civ-spouse</td><td><span style=white-space:pre-wrap> Tech-support     </span></td><td><span style=white-space:pre-wrap> Wife          </span></td><td><span style=white-space:pre-wrap> White             </span></td><td> Female</td><td><span style=white-space:pre-wrap>    0</span></td><td>0</td><td>38</td><td> United-States</td><td> &lt;=50K</td></tr>\n",
       "\t<tr><td>40</td><td><span style=white-space:pre-wrap> Private         </span></td><td>154374</td><td><span style=white-space:pre-wrap> HS-grad     </span></td><td> 9</td><td> Married-civ-spouse</td><td> Machine-op-inspct</td><td><span style=white-space:pre-wrap> Husband       </span></td><td><span style=white-space:pre-wrap> White             </span></td><td><span style=white-space:pre-wrap> Male  </span></td><td><span style=white-space:pre-wrap>    0</span></td><td>0</td><td>40</td><td> United-States</td><td> &gt;50K </td></tr>\n",
       "\t<tr><td>58</td><td><span style=white-space:pre-wrap> Private         </span></td><td>151910</td><td><span style=white-space:pre-wrap> HS-grad     </span></td><td> 9</td><td><span style=white-space:pre-wrap> Widowed           </span></td><td><span style=white-space:pre-wrap> Adm-clerical     </span></td><td><span style=white-space:pre-wrap> Unmarried     </span></td><td><span style=white-space:pre-wrap> White             </span></td><td> Female</td><td><span style=white-space:pre-wrap>    0</span></td><td>0</td><td>40</td><td> United-States</td><td> &lt;=50K</td></tr>\n",
       "\t<tr><td>22</td><td><span style=white-space:pre-wrap> Private         </span></td><td>201490</td><td><span style=white-space:pre-wrap> HS-grad     </span></td><td> 9</td><td><span style=white-space:pre-wrap> Never-married     </span></td><td><span style=white-space:pre-wrap> Adm-clerical     </span></td><td><span style=white-space:pre-wrap> Own-child     </span></td><td><span style=white-space:pre-wrap> White             </span></td><td><span style=white-space:pre-wrap> Male  </span></td><td><span style=white-space:pre-wrap>    0</span></td><td>0</td><td>20</td><td> United-States</td><td> &lt;=50K</td></tr>\n",
       "\t<tr><td>52</td><td><span style=white-space:pre-wrap> Self-emp-inc    </span></td><td>287927</td><td><span style=white-space:pre-wrap> HS-grad     </span></td><td> 9</td><td> Married-civ-spouse</td><td><span style=white-space:pre-wrap> Exec-managerial  </span></td><td><span style=white-space:pre-wrap> Wife          </span></td><td><span style=white-space:pre-wrap> White             </span></td><td> Female</td><td>15024</td><td>0</td><td>40</td><td> United-States</td><td> &gt;50K </td></tr>\n",
       "</tbody>\n",
       "</table>\n"
      ],
      "text/latex": [
       "A data.frame: 32560 × 15\n",
       "\\begin{tabular}{lllllllllllllll}\n",
       " X39 & State.gov & X77516 & Bachelors & X13 & Never.married & Adm.clerical & Not.in.family & White & Male & X2174 & X0 & X40 & United.States & X..50K\\\\\n",
       " <int> & <chr> & <int> & <chr> & <int> & <chr> & <chr> & <chr> & <chr> & <chr> & <int> & <int> & <int> & <chr> & <chr>\\\\\n",
       "\\hline\n",
       "\t 50 &  Self-emp-not-inc &  83311 &  Bachelors    & 13 &  Married-civ-spouse    &  Exec-managerial   &  Husband       &  White              &  Male   &     0 &    0 & 13 &  United-States &  <=50K\\\\\n",
       "\t 38 &  Private          & 215646 &  HS-grad      &  9 &  Divorced              &  Handlers-cleaners &  Not-in-family &  White              &  Male   &     0 &    0 & 40 &  United-States &  <=50K\\\\\n",
       "\t 53 &  Private          & 234721 &  11th         &  7 &  Married-civ-spouse    &  Handlers-cleaners &  Husband       &  Black              &  Male   &     0 &    0 & 40 &  United-States &  <=50K\\\\\n",
       "\t 28 &  Private          & 338409 &  Bachelors    & 13 &  Married-civ-spouse    &  Prof-specialty    &  Wife          &  Black              &  Female &     0 &    0 & 40 &  Cuba          &  <=50K\\\\\n",
       "\t 37 &  Private          & 284582 &  Masters      & 14 &  Married-civ-spouse    &  Exec-managerial   &  Wife          &  White              &  Female &     0 &    0 & 40 &  United-States &  <=50K\\\\\n",
       "\t 49 &  Private          & 160187 &  9th          &  5 &  Married-spouse-absent &  Other-service     &  Not-in-family &  Black              &  Female &     0 &    0 & 16 &  Jamaica       &  <=50K\\\\\n",
       "\t 52 &  Self-emp-not-inc & 209642 &  HS-grad      &  9 &  Married-civ-spouse    &  Exec-managerial   &  Husband       &  White              &  Male   &     0 &    0 & 45 &  United-States &  >50K \\\\\n",
       "\t 31 &  Private          &  45781 &  Masters      & 14 &  Never-married         &  Prof-specialty    &  Not-in-family &  White              &  Female & 14084 &    0 & 50 &  United-States &  >50K \\\\\n",
       "\t 42 &  Private          & 159449 &  Bachelors    & 13 &  Married-civ-spouse    &  Exec-managerial   &  Husband       &  White              &  Male   &  5178 &    0 & 40 &  United-States &  >50K \\\\\n",
       "\t 37 &  Private          & 280464 &  Some-college & 10 &  Married-civ-spouse    &  Exec-managerial   &  Husband       &  Black              &  Male   &     0 &    0 & 80 &  United-States &  >50K \\\\\n",
       "\t 30 &  State-gov        & 141297 &  Bachelors    & 13 &  Married-civ-spouse    &  Prof-specialty    &  Husband       &  Asian-Pac-Islander &  Male   &     0 &    0 & 40 &  India         &  >50K \\\\\n",
       "\t 23 &  Private          & 122272 &  Bachelors    & 13 &  Never-married         &  Adm-clerical      &  Own-child     &  White              &  Female &     0 &    0 & 30 &  United-States &  <=50K\\\\\n",
       "\t 32 &  Private          & 205019 &  Assoc-acdm   & 12 &  Never-married         &  Sales             &  Not-in-family &  Black              &  Male   &     0 &    0 & 50 &  United-States &  <=50K\\\\\n",
       "\t 40 &  Private          & 121772 &  Assoc-voc    & 11 &  Married-civ-spouse    &  Craft-repair      &  Husband       &  Asian-Pac-Islander &  Male   &     0 &    0 & 40 &  ?             &  >50K \\\\\n",
       "\t 34 &  Private          & 245487 &  7th-8th      &  4 &  Married-civ-spouse    &  Transport-moving  &  Husband       &  Amer-Indian-Eskimo &  Male   &     0 &    0 & 45 &  Mexico        &  <=50K\\\\\n",
       "\t 25 &  Self-emp-not-inc & 176756 &  HS-grad      &  9 &  Never-married         &  Farming-fishing   &  Own-child     &  White              &  Male   &     0 &    0 & 35 &  United-States &  <=50K\\\\\n",
       "\t 32 &  Private          & 186824 &  HS-grad      &  9 &  Never-married         &  Machine-op-inspct &  Unmarried     &  White              &  Male   &     0 &    0 & 40 &  United-States &  <=50K\\\\\n",
       "\t 38 &  Private          &  28887 &  11th         &  7 &  Married-civ-spouse    &  Sales             &  Husband       &  White              &  Male   &     0 &    0 & 50 &  United-States &  <=50K\\\\\n",
       "\t 43 &  Self-emp-not-inc & 292175 &  Masters      & 14 &  Divorced              &  Exec-managerial   &  Unmarried     &  White              &  Female &     0 &    0 & 45 &  United-States &  >50K \\\\\n",
       "\t 40 &  Private          & 193524 &  Doctorate    & 16 &  Married-civ-spouse    &  Prof-specialty    &  Husband       &  White              &  Male   &     0 &    0 & 60 &  United-States &  >50K \\\\\n",
       "\t 54 &  Private          & 302146 &  HS-grad      &  9 &  Separated             &  Other-service     &  Unmarried     &  Black              &  Female &     0 &    0 & 20 &  United-States &  <=50K\\\\\n",
       "\t 35 &  Federal-gov      &  76845 &  9th          &  5 &  Married-civ-spouse    &  Farming-fishing   &  Husband       &  Black              &  Male   &     0 &    0 & 40 &  United-States &  <=50K\\\\\n",
       "\t 43 &  Private          & 117037 &  11th         &  7 &  Married-civ-spouse    &  Transport-moving  &  Husband       &  White              &  Male   &     0 & 2042 & 40 &  United-States &  <=50K\\\\\n",
       "\t 59 &  Private          & 109015 &  HS-grad      &  9 &  Divorced              &  Tech-support      &  Unmarried     &  White              &  Female &     0 &    0 & 40 &  United-States &  <=50K\\\\\n",
       "\t 56 &  Local-gov        & 216851 &  Bachelors    & 13 &  Married-civ-spouse    &  Tech-support      &  Husband       &  White              &  Male   &     0 &    0 & 40 &  United-States &  >50K \\\\\n",
       "\t 19 &  Private          & 168294 &  HS-grad      &  9 &  Never-married         &  Craft-repair      &  Own-child     &  White              &  Male   &     0 &    0 & 40 &  United-States &  <=50K\\\\\n",
       "\t 54 &  ?                & 180211 &  Some-college & 10 &  Married-civ-spouse    &  ?                 &  Husband       &  Asian-Pac-Islander &  Male   &     0 &    0 & 60 &  South         &  >50K \\\\\n",
       "\t 39 &  Private          & 367260 &  HS-grad      &  9 &  Divorced              &  Exec-managerial   &  Not-in-family &  White              &  Male   &     0 &    0 & 80 &  United-States &  <=50K\\\\\n",
       "\t 49 &  Private          & 193366 &  HS-grad      &  9 &  Married-civ-spouse    &  Craft-repair      &  Husband       &  White              &  Male   &     0 &    0 & 40 &  United-States &  <=50K\\\\\n",
       "\t 23 &  Local-gov        & 190709 &  Assoc-acdm   & 12 &  Never-married         &  Protective-serv   &  Not-in-family &  White              &  Male   &     0 &    0 & 52 &  United-States &  <=50K\\\\\n",
       "\t ⋮ & ⋮ & ⋮ & ⋮ & ⋮ & ⋮ & ⋮ & ⋮ & ⋮ & ⋮ & ⋮ & ⋮ & ⋮ & ⋮ & ⋮\\\\\n",
       "\t 30 &  ?                &  33811 &  Bachelors    & 13 &  Never-married      &  ?                 &  Not-in-family  &  Asian-Pac-Islander &  Female &     0 & 0 & 99 &  United-States &  <=50K\\\\\n",
       "\t 34 &  Private          & 204461 &  Doctorate    & 16 &  Married-civ-spouse &  Prof-specialty    &  Husband        &  White              &  Male   &     0 & 0 & 60 &  United-States &  >50K \\\\\n",
       "\t 54 &  Private          & 337992 &  Bachelors    & 13 &  Married-civ-spouse &  Exec-managerial   &  Husband        &  Asian-Pac-Islander &  Male   &     0 & 0 & 50 &  Japan         &  >50K \\\\\n",
       "\t 37 &  Private          & 179137 &  Some-college & 10 &  Divorced           &  Adm-clerical      &  Unmarried      &  White              &  Female &     0 & 0 & 39 &  United-States &  <=50K\\\\\n",
       "\t 22 &  Private          & 325033 &  12th         &  8 &  Never-married      &  Protective-serv   &  Own-child      &  Black              &  Male   &     0 & 0 & 35 &  United-States &  <=50K\\\\\n",
       "\t 34 &  Private          & 160216 &  Bachelors    & 13 &  Never-married      &  Exec-managerial   &  Not-in-family  &  White              &  Female &     0 & 0 & 55 &  United-States &  >50K \\\\\n",
       "\t 30 &  Private          & 345898 &  HS-grad      &  9 &  Never-married      &  Craft-repair      &  Not-in-family  &  Black              &  Male   &     0 & 0 & 46 &  United-States &  <=50K\\\\\n",
       "\t 38 &  Private          & 139180 &  Bachelors    & 13 &  Divorced           &  Prof-specialty    &  Unmarried      &  Black              &  Female & 15020 & 0 & 45 &  United-States &  >50K \\\\\n",
       "\t 71 &  ?                & 287372 &  Doctorate    & 16 &  Married-civ-spouse &  ?                 &  Husband        &  White              &  Male   &     0 & 0 & 10 &  United-States &  >50K \\\\\n",
       "\t 45 &  State-gov        & 252208 &  HS-grad      &  9 &  Separated          &  Adm-clerical      &  Own-child      &  White              &  Female &     0 & 0 & 40 &  United-States &  <=50K\\\\\n",
       "\t 41 &  ?                & 202822 &  HS-grad      &  9 &  Separated          &  ?                 &  Not-in-family  &  Black              &  Female &     0 & 0 & 32 &  United-States &  <=50K\\\\\n",
       "\t 72 &  ?                & 129912 &  HS-grad      &  9 &  Married-civ-spouse &  ?                 &  Husband        &  White              &  Male   &     0 & 0 & 25 &  United-States &  <=50K\\\\\n",
       "\t 45 &  Local-gov        & 119199 &  Assoc-acdm   & 12 &  Divorced           &  Prof-specialty    &  Unmarried      &  White              &  Female &     0 & 0 & 48 &  United-States &  <=50K\\\\\n",
       "\t 31 &  Private          & 199655 &  Masters      & 14 &  Divorced           &  Other-service     &  Not-in-family  &  Other              &  Female &     0 & 0 & 30 &  United-States &  <=50K\\\\\n",
       "\t 39 &  Local-gov        & 111499 &  Assoc-acdm   & 12 &  Married-civ-spouse &  Adm-clerical      &  Wife           &  White              &  Female &     0 & 0 & 20 &  United-States &  >50K \\\\\n",
       "\t 37 &  Private          & 198216 &  Assoc-acdm   & 12 &  Divorced           &  Tech-support      &  Not-in-family  &  White              &  Female &     0 & 0 & 40 &  United-States &  <=50K\\\\\n",
       "\t 43 &  Private          & 260761 &  HS-grad      &  9 &  Married-civ-spouse &  Machine-op-inspct &  Husband        &  White              &  Male   &     0 & 0 & 40 &  Mexico        &  <=50K\\\\\n",
       "\t 65 &  Self-emp-not-inc &  99359 &  Prof-school  & 15 &  Never-married      &  Prof-specialty    &  Not-in-family  &  White              &  Male   &  1086 & 0 & 60 &  United-States &  <=50K\\\\\n",
       "\t 43 &  State-gov        & 255835 &  Some-college & 10 &  Divorced           &  Adm-clerical      &  Other-relative &  White              &  Female &     0 & 0 & 40 &  United-States &  <=50K\\\\\n",
       "\t 43 &  Self-emp-not-inc &  27242 &  Some-college & 10 &  Married-civ-spouse &  Craft-repair      &  Husband        &  White              &  Male   &     0 & 0 & 50 &  United-States &  <=50K\\\\\n",
       "\t 32 &  Private          &  34066 &  10th         &  6 &  Married-civ-spouse &  Handlers-cleaners &  Husband        &  Amer-Indian-Eskimo &  Male   &     0 & 0 & 40 &  United-States &  <=50K\\\\\n",
       "\t 43 &  Private          &  84661 &  Assoc-voc    & 11 &  Married-civ-spouse &  Sales             &  Husband        &  White              &  Male   &     0 & 0 & 45 &  United-States &  <=50K\\\\\n",
       "\t 32 &  Private          & 116138 &  Masters      & 14 &  Never-married      &  Tech-support      &  Not-in-family  &  Asian-Pac-Islander &  Male   &     0 & 0 & 11 &  Taiwan        &  <=50K\\\\\n",
       "\t 53 &  Private          & 321865 &  Masters      & 14 &  Married-civ-spouse &  Exec-managerial   &  Husband        &  White              &  Male   &     0 & 0 & 40 &  United-States &  >50K \\\\\n",
       "\t 22 &  Private          & 310152 &  Some-college & 10 &  Never-married      &  Protective-serv   &  Not-in-family  &  White              &  Male   &     0 & 0 & 40 &  United-States &  <=50K\\\\\n",
       "\t 27 &  Private          & 257302 &  Assoc-acdm   & 12 &  Married-civ-spouse &  Tech-support      &  Wife           &  White              &  Female &     0 & 0 & 38 &  United-States &  <=50K\\\\\n",
       "\t 40 &  Private          & 154374 &  HS-grad      &  9 &  Married-civ-spouse &  Machine-op-inspct &  Husband        &  White              &  Male   &     0 & 0 & 40 &  United-States &  >50K \\\\\n",
       "\t 58 &  Private          & 151910 &  HS-grad      &  9 &  Widowed            &  Adm-clerical      &  Unmarried      &  White              &  Female &     0 & 0 & 40 &  United-States &  <=50K\\\\\n",
       "\t 22 &  Private          & 201490 &  HS-grad      &  9 &  Never-married      &  Adm-clerical      &  Own-child      &  White              &  Male   &     0 & 0 & 20 &  United-States &  <=50K\\\\\n",
       "\t 52 &  Self-emp-inc     & 287927 &  HS-grad      &  9 &  Married-civ-spouse &  Exec-managerial   &  Wife           &  White              &  Female & 15024 & 0 & 40 &  United-States &  >50K \\\\\n",
       "\\end{tabular}\n"
      ],
      "text/markdown": [
       "\n",
       "A data.frame: 32560 × 15\n",
       "\n",
       "| X39 &lt;int&gt; | State.gov &lt;chr&gt; | X77516 &lt;int&gt; | Bachelors &lt;chr&gt; | X13 &lt;int&gt; | Never.married &lt;chr&gt; | Adm.clerical &lt;chr&gt; | Not.in.family &lt;chr&gt; | White &lt;chr&gt; | Male &lt;chr&gt; | X2174 &lt;int&gt; | X0 &lt;int&gt; | X40 &lt;int&gt; | United.States &lt;chr&gt; | X..50K &lt;chr&gt; |\n",
       "|---|---|---|---|---|---|---|---|---|---|---|---|---|---|---|\n",
       "| 50 |  Self-emp-not-inc |  83311 |  Bachelors    | 13 |  Married-civ-spouse    |  Exec-managerial   |  Husband       |  White              |  Male   |     0 |    0 | 13 |  United-States |  &lt;=50K |\n",
       "| 38 |  Private          | 215646 |  HS-grad      |  9 |  Divorced              |  Handlers-cleaners |  Not-in-family |  White              |  Male   |     0 |    0 | 40 |  United-States |  &lt;=50K |\n",
       "| 53 |  Private          | 234721 |  11th         |  7 |  Married-civ-spouse    |  Handlers-cleaners |  Husband       |  Black              |  Male   |     0 |    0 | 40 |  United-States |  &lt;=50K |\n",
       "| 28 |  Private          | 338409 |  Bachelors    | 13 |  Married-civ-spouse    |  Prof-specialty    |  Wife          |  Black              |  Female |     0 |    0 | 40 |  Cuba          |  &lt;=50K |\n",
       "| 37 |  Private          | 284582 |  Masters      | 14 |  Married-civ-spouse    |  Exec-managerial   |  Wife          |  White              |  Female |     0 |    0 | 40 |  United-States |  &lt;=50K |\n",
       "| 49 |  Private          | 160187 |  9th          |  5 |  Married-spouse-absent |  Other-service     |  Not-in-family |  Black              |  Female |     0 |    0 | 16 |  Jamaica       |  &lt;=50K |\n",
       "| 52 |  Self-emp-not-inc | 209642 |  HS-grad      |  9 |  Married-civ-spouse    |  Exec-managerial   |  Husband       |  White              |  Male   |     0 |    0 | 45 |  United-States |  &gt;50K  |\n",
       "| 31 |  Private          |  45781 |  Masters      | 14 |  Never-married         |  Prof-specialty    |  Not-in-family |  White              |  Female | 14084 |    0 | 50 |  United-States |  &gt;50K  |\n",
       "| 42 |  Private          | 159449 |  Bachelors    | 13 |  Married-civ-spouse    |  Exec-managerial   |  Husband       |  White              |  Male   |  5178 |    0 | 40 |  United-States |  &gt;50K  |\n",
       "| 37 |  Private          | 280464 |  Some-college | 10 |  Married-civ-spouse    |  Exec-managerial   |  Husband       |  Black              |  Male   |     0 |    0 | 80 |  United-States |  &gt;50K  |\n",
       "| 30 |  State-gov        | 141297 |  Bachelors    | 13 |  Married-civ-spouse    |  Prof-specialty    |  Husband       |  Asian-Pac-Islander |  Male   |     0 |    0 | 40 |  India         |  &gt;50K  |\n",
       "| 23 |  Private          | 122272 |  Bachelors    | 13 |  Never-married         |  Adm-clerical      |  Own-child     |  White              |  Female |     0 |    0 | 30 |  United-States |  &lt;=50K |\n",
       "| 32 |  Private          | 205019 |  Assoc-acdm   | 12 |  Never-married         |  Sales             |  Not-in-family |  Black              |  Male   |     0 |    0 | 50 |  United-States |  &lt;=50K |\n",
       "| 40 |  Private          | 121772 |  Assoc-voc    | 11 |  Married-civ-spouse    |  Craft-repair      |  Husband       |  Asian-Pac-Islander |  Male   |     0 |    0 | 40 |  ?             |  &gt;50K  |\n",
       "| 34 |  Private          | 245487 |  7th-8th      |  4 |  Married-civ-spouse    |  Transport-moving  |  Husband       |  Amer-Indian-Eskimo |  Male   |     0 |    0 | 45 |  Mexico        |  &lt;=50K |\n",
       "| 25 |  Self-emp-not-inc | 176756 |  HS-grad      |  9 |  Never-married         |  Farming-fishing   |  Own-child     |  White              |  Male   |     0 |    0 | 35 |  United-States |  &lt;=50K |\n",
       "| 32 |  Private          | 186824 |  HS-grad      |  9 |  Never-married         |  Machine-op-inspct |  Unmarried     |  White              |  Male   |     0 |    0 | 40 |  United-States |  &lt;=50K |\n",
       "| 38 |  Private          |  28887 |  11th         |  7 |  Married-civ-spouse    |  Sales             |  Husband       |  White              |  Male   |     0 |    0 | 50 |  United-States |  &lt;=50K |\n",
       "| 43 |  Self-emp-not-inc | 292175 |  Masters      | 14 |  Divorced              |  Exec-managerial   |  Unmarried     |  White              |  Female |     0 |    0 | 45 |  United-States |  &gt;50K  |\n",
       "| 40 |  Private          | 193524 |  Doctorate    | 16 |  Married-civ-spouse    |  Prof-specialty    |  Husband       |  White              |  Male   |     0 |    0 | 60 |  United-States |  &gt;50K  |\n",
       "| 54 |  Private          | 302146 |  HS-grad      |  9 |  Separated             |  Other-service     |  Unmarried     |  Black              |  Female |     0 |    0 | 20 |  United-States |  &lt;=50K |\n",
       "| 35 |  Federal-gov      |  76845 |  9th          |  5 |  Married-civ-spouse    |  Farming-fishing   |  Husband       |  Black              |  Male   |     0 |    0 | 40 |  United-States |  &lt;=50K |\n",
       "| 43 |  Private          | 117037 |  11th         |  7 |  Married-civ-spouse    |  Transport-moving  |  Husband       |  White              |  Male   |     0 | 2042 | 40 |  United-States |  &lt;=50K |\n",
       "| 59 |  Private          | 109015 |  HS-grad      |  9 |  Divorced              |  Tech-support      |  Unmarried     |  White              |  Female |     0 |    0 | 40 |  United-States |  &lt;=50K |\n",
       "| 56 |  Local-gov        | 216851 |  Bachelors    | 13 |  Married-civ-spouse    |  Tech-support      |  Husband       |  White              |  Male   |     0 |    0 | 40 |  United-States |  &gt;50K  |\n",
       "| 19 |  Private          | 168294 |  HS-grad      |  9 |  Never-married         |  Craft-repair      |  Own-child     |  White              |  Male   |     0 |    0 | 40 |  United-States |  &lt;=50K |\n",
       "| 54 |  ?                | 180211 |  Some-college | 10 |  Married-civ-spouse    |  ?                 |  Husband       |  Asian-Pac-Islander |  Male   |     0 |    0 | 60 |  South         |  &gt;50K  |\n",
       "| 39 |  Private          | 367260 |  HS-grad      |  9 |  Divorced              |  Exec-managerial   |  Not-in-family |  White              |  Male   |     0 |    0 | 80 |  United-States |  &lt;=50K |\n",
       "| 49 |  Private          | 193366 |  HS-grad      |  9 |  Married-civ-spouse    |  Craft-repair      |  Husband       |  White              |  Male   |     0 |    0 | 40 |  United-States |  &lt;=50K |\n",
       "| 23 |  Local-gov        | 190709 |  Assoc-acdm   | 12 |  Never-married         |  Protective-serv   |  Not-in-family |  White              |  Male   |     0 |    0 | 52 |  United-States |  &lt;=50K |\n",
       "| ⋮ | ⋮ | ⋮ | ⋮ | ⋮ | ⋮ | ⋮ | ⋮ | ⋮ | ⋮ | ⋮ | ⋮ | ⋮ | ⋮ | ⋮ |\n",
       "| 30 |  ?                |  33811 |  Bachelors    | 13 |  Never-married      |  ?                 |  Not-in-family  |  Asian-Pac-Islander |  Female |     0 | 0 | 99 |  United-States |  &lt;=50K |\n",
       "| 34 |  Private          | 204461 |  Doctorate    | 16 |  Married-civ-spouse |  Prof-specialty    |  Husband        |  White              |  Male   |     0 | 0 | 60 |  United-States |  &gt;50K  |\n",
       "| 54 |  Private          | 337992 |  Bachelors    | 13 |  Married-civ-spouse |  Exec-managerial   |  Husband        |  Asian-Pac-Islander |  Male   |     0 | 0 | 50 |  Japan         |  &gt;50K  |\n",
       "| 37 |  Private          | 179137 |  Some-college | 10 |  Divorced           |  Adm-clerical      |  Unmarried      |  White              |  Female |     0 | 0 | 39 |  United-States |  &lt;=50K |\n",
       "| 22 |  Private          | 325033 |  12th         |  8 |  Never-married      |  Protective-serv   |  Own-child      |  Black              |  Male   |     0 | 0 | 35 |  United-States |  &lt;=50K |\n",
       "| 34 |  Private          | 160216 |  Bachelors    | 13 |  Never-married      |  Exec-managerial   |  Not-in-family  |  White              |  Female |     0 | 0 | 55 |  United-States |  &gt;50K  |\n",
       "| 30 |  Private          | 345898 |  HS-grad      |  9 |  Never-married      |  Craft-repair      |  Not-in-family  |  Black              |  Male   |     0 | 0 | 46 |  United-States |  &lt;=50K |\n",
       "| 38 |  Private          | 139180 |  Bachelors    | 13 |  Divorced           |  Prof-specialty    |  Unmarried      |  Black              |  Female | 15020 | 0 | 45 |  United-States |  &gt;50K  |\n",
       "| 71 |  ?                | 287372 |  Doctorate    | 16 |  Married-civ-spouse |  ?                 |  Husband        |  White              |  Male   |     0 | 0 | 10 |  United-States |  &gt;50K  |\n",
       "| 45 |  State-gov        | 252208 |  HS-grad      |  9 |  Separated          |  Adm-clerical      |  Own-child      |  White              |  Female |     0 | 0 | 40 |  United-States |  &lt;=50K |\n",
       "| 41 |  ?                | 202822 |  HS-grad      |  9 |  Separated          |  ?                 |  Not-in-family  |  Black              |  Female |     0 | 0 | 32 |  United-States |  &lt;=50K |\n",
       "| 72 |  ?                | 129912 |  HS-grad      |  9 |  Married-civ-spouse |  ?                 |  Husband        |  White              |  Male   |     0 | 0 | 25 |  United-States |  &lt;=50K |\n",
       "| 45 |  Local-gov        | 119199 |  Assoc-acdm   | 12 |  Divorced           |  Prof-specialty    |  Unmarried      |  White              |  Female |     0 | 0 | 48 |  United-States |  &lt;=50K |\n",
       "| 31 |  Private          | 199655 |  Masters      | 14 |  Divorced           |  Other-service     |  Not-in-family  |  Other              |  Female |     0 | 0 | 30 |  United-States |  &lt;=50K |\n",
       "| 39 |  Local-gov        | 111499 |  Assoc-acdm   | 12 |  Married-civ-spouse |  Adm-clerical      |  Wife           |  White              |  Female |     0 | 0 | 20 |  United-States |  &gt;50K  |\n",
       "| 37 |  Private          | 198216 |  Assoc-acdm   | 12 |  Divorced           |  Tech-support      |  Not-in-family  |  White              |  Female |     0 | 0 | 40 |  United-States |  &lt;=50K |\n",
       "| 43 |  Private          | 260761 |  HS-grad      |  9 |  Married-civ-spouse |  Machine-op-inspct |  Husband        |  White              |  Male   |     0 | 0 | 40 |  Mexico        |  &lt;=50K |\n",
       "| 65 |  Self-emp-not-inc |  99359 |  Prof-school  | 15 |  Never-married      |  Prof-specialty    |  Not-in-family  |  White              |  Male   |  1086 | 0 | 60 |  United-States |  &lt;=50K |\n",
       "| 43 |  State-gov        | 255835 |  Some-college | 10 |  Divorced           |  Adm-clerical      |  Other-relative |  White              |  Female |     0 | 0 | 40 |  United-States |  &lt;=50K |\n",
       "| 43 |  Self-emp-not-inc |  27242 |  Some-college | 10 |  Married-civ-spouse |  Craft-repair      |  Husband        |  White              |  Male   |     0 | 0 | 50 |  United-States |  &lt;=50K |\n",
       "| 32 |  Private          |  34066 |  10th         |  6 |  Married-civ-spouse |  Handlers-cleaners |  Husband        |  Amer-Indian-Eskimo |  Male   |     0 | 0 | 40 |  United-States |  &lt;=50K |\n",
       "| 43 |  Private          |  84661 |  Assoc-voc    | 11 |  Married-civ-spouse |  Sales             |  Husband        |  White              |  Male   |     0 | 0 | 45 |  United-States |  &lt;=50K |\n",
       "| 32 |  Private          | 116138 |  Masters      | 14 |  Never-married      |  Tech-support      |  Not-in-family  |  Asian-Pac-Islander |  Male   |     0 | 0 | 11 |  Taiwan        |  &lt;=50K |\n",
       "| 53 |  Private          | 321865 |  Masters      | 14 |  Married-civ-spouse |  Exec-managerial   |  Husband        |  White              |  Male   |     0 | 0 | 40 |  United-States |  &gt;50K  |\n",
       "| 22 |  Private          | 310152 |  Some-college | 10 |  Never-married      |  Protective-serv   |  Not-in-family  |  White              |  Male   |     0 | 0 | 40 |  United-States |  &lt;=50K |\n",
       "| 27 |  Private          | 257302 |  Assoc-acdm   | 12 |  Married-civ-spouse |  Tech-support      |  Wife           |  White              |  Female |     0 | 0 | 38 |  United-States |  &lt;=50K |\n",
       "| 40 |  Private          | 154374 |  HS-grad      |  9 |  Married-civ-spouse |  Machine-op-inspct |  Husband        |  White              |  Male   |     0 | 0 | 40 |  United-States |  &gt;50K  |\n",
       "| 58 |  Private          | 151910 |  HS-grad      |  9 |  Widowed            |  Adm-clerical      |  Unmarried      |  White              |  Female |     0 | 0 | 40 |  United-States |  &lt;=50K |\n",
       "| 22 |  Private          | 201490 |  HS-grad      |  9 |  Never-married      |  Adm-clerical      |  Own-child      |  White              |  Male   |     0 | 0 | 20 |  United-States |  &lt;=50K |\n",
       "| 52 |  Self-emp-inc     | 287927 |  HS-grad      |  9 |  Married-civ-spouse |  Exec-managerial   |  Wife           |  White              |  Female | 15024 | 0 | 40 |  United-States |  &gt;50K  |\n",
       "\n"
      ],
      "text/plain": [
       "      X39 State.gov         X77516 Bachelors     X13 Never.married         \n",
       "1     50   Self-emp-not-inc  83311  Bachelors    13   Married-civ-spouse   \n",
       "2     38   Private          215646  HS-grad       9   Divorced             \n",
       "3     53   Private          234721  11th          7   Married-civ-spouse   \n",
       "4     28   Private          338409  Bachelors    13   Married-civ-spouse   \n",
       "5     37   Private          284582  Masters      14   Married-civ-spouse   \n",
       "6     49   Private          160187  9th           5   Married-spouse-absent\n",
       "7     52   Self-emp-not-inc 209642  HS-grad       9   Married-civ-spouse   \n",
       "8     31   Private           45781  Masters      14   Never-married        \n",
       "9     42   Private          159449  Bachelors    13   Married-civ-spouse   \n",
       "10    37   Private          280464  Some-college 10   Married-civ-spouse   \n",
       "11    30   State-gov        141297  Bachelors    13   Married-civ-spouse   \n",
       "12    23   Private          122272  Bachelors    13   Never-married        \n",
       "13    32   Private          205019  Assoc-acdm   12   Never-married        \n",
       "14    40   Private          121772  Assoc-voc    11   Married-civ-spouse   \n",
       "15    34   Private          245487  7th-8th       4   Married-civ-spouse   \n",
       "16    25   Self-emp-not-inc 176756  HS-grad       9   Never-married        \n",
       "17    32   Private          186824  HS-grad       9   Never-married        \n",
       "18    38   Private           28887  11th          7   Married-civ-spouse   \n",
       "19    43   Self-emp-not-inc 292175  Masters      14   Divorced             \n",
       "20    40   Private          193524  Doctorate    16   Married-civ-spouse   \n",
       "21    54   Private          302146  HS-grad       9   Separated            \n",
       "22    35   Federal-gov       76845  9th           5   Married-civ-spouse   \n",
       "23    43   Private          117037  11th          7   Married-civ-spouse   \n",
       "24    59   Private          109015  HS-grad       9   Divorced             \n",
       "25    56   Local-gov        216851  Bachelors    13   Married-civ-spouse   \n",
       "26    19   Private          168294  HS-grad       9   Never-married        \n",
       "27    54   ?                180211  Some-college 10   Married-civ-spouse   \n",
       "28    39   Private          367260  HS-grad       9   Divorced             \n",
       "29    49   Private          193366  HS-grad       9   Married-civ-spouse   \n",
       "30    23   Local-gov        190709  Assoc-acdm   12   Never-married        \n",
       "⋮     ⋮   ⋮                 ⋮      ⋮             ⋮   ⋮                     \n",
       "32531 30   ?                 33811  Bachelors    13   Never-married        \n",
       "32532 34   Private          204461  Doctorate    16   Married-civ-spouse   \n",
       "32533 54   Private          337992  Bachelors    13   Married-civ-spouse   \n",
       "32534 37   Private          179137  Some-college 10   Divorced             \n",
       "32535 22   Private          325033  12th          8   Never-married        \n",
       "32536 34   Private          160216  Bachelors    13   Never-married        \n",
       "32537 30   Private          345898  HS-grad       9   Never-married        \n",
       "32538 38   Private          139180  Bachelors    13   Divorced             \n",
       "32539 71   ?                287372  Doctorate    16   Married-civ-spouse   \n",
       "32540 45   State-gov        252208  HS-grad       9   Separated            \n",
       "32541 41   ?                202822  HS-grad       9   Separated            \n",
       "32542 72   ?                129912  HS-grad       9   Married-civ-spouse   \n",
       "32543 45   Local-gov        119199  Assoc-acdm   12   Divorced             \n",
       "32544 31   Private          199655  Masters      14   Divorced             \n",
       "32545 39   Local-gov        111499  Assoc-acdm   12   Married-civ-spouse   \n",
       "32546 37   Private          198216  Assoc-acdm   12   Divorced             \n",
       "32547 43   Private          260761  HS-grad       9   Married-civ-spouse   \n",
       "32548 65   Self-emp-not-inc  99359  Prof-school  15   Never-married        \n",
       "32549 43   State-gov        255835  Some-college 10   Divorced             \n",
       "32550 43   Self-emp-not-inc  27242  Some-college 10   Married-civ-spouse   \n",
       "32551 32   Private           34066  10th          6   Married-civ-spouse   \n",
       "32552 43   Private           84661  Assoc-voc    11   Married-civ-spouse   \n",
       "32553 32   Private          116138  Masters      14   Never-married        \n",
       "32554 53   Private          321865  Masters      14   Married-civ-spouse   \n",
       "32555 22   Private          310152  Some-college 10   Never-married        \n",
       "32556 27   Private          257302  Assoc-acdm   12   Married-civ-spouse   \n",
       "32557 40   Private          154374  HS-grad       9   Married-civ-spouse   \n",
       "32558 58   Private          151910  HS-grad       9   Widowed              \n",
       "32559 22   Private          201490  HS-grad       9   Never-married        \n",
       "32560 52   Self-emp-inc     287927  HS-grad       9   Married-civ-spouse   \n",
       "      Adm.clerical       Not.in.family   White               Male    X2174 X0  \n",
       "1      Exec-managerial    Husband         White               Male       0    0\n",
       "2      Handlers-cleaners  Not-in-family   White               Male       0    0\n",
       "3      Handlers-cleaners  Husband         Black               Male       0    0\n",
       "4      Prof-specialty     Wife            Black               Female     0    0\n",
       "5      Exec-managerial    Wife            White               Female     0    0\n",
       "6      Other-service      Not-in-family   Black               Female     0    0\n",
       "7      Exec-managerial    Husband         White               Male       0    0\n",
       "8      Prof-specialty     Not-in-family   White               Female 14084    0\n",
       "9      Exec-managerial    Husband         White               Male    5178    0\n",
       "10     Exec-managerial    Husband         Black               Male       0    0\n",
       "11     Prof-specialty     Husband         Asian-Pac-Islander  Male       0    0\n",
       "12     Adm-clerical       Own-child       White               Female     0    0\n",
       "13     Sales              Not-in-family   Black               Male       0    0\n",
       "14     Craft-repair       Husband         Asian-Pac-Islander  Male       0    0\n",
       "15     Transport-moving   Husband         Amer-Indian-Eskimo  Male       0    0\n",
       "16     Farming-fishing    Own-child       White               Male       0    0\n",
       "17     Machine-op-inspct  Unmarried       White               Male       0    0\n",
       "18     Sales              Husband         White               Male       0    0\n",
       "19     Exec-managerial    Unmarried       White               Female     0    0\n",
       "20     Prof-specialty     Husband         White               Male       0    0\n",
       "21     Other-service      Unmarried       Black               Female     0    0\n",
       "22     Farming-fishing    Husband         Black               Male       0    0\n",
       "23     Transport-moving   Husband         White               Male       0 2042\n",
       "24     Tech-support       Unmarried       White               Female     0    0\n",
       "25     Tech-support       Husband         White               Male       0    0\n",
       "26     Craft-repair       Own-child       White               Male       0    0\n",
       "27     ?                  Husband         Asian-Pac-Islander  Male       0    0\n",
       "28     Exec-managerial    Not-in-family   White               Male       0    0\n",
       "29     Craft-repair       Husband         White               Male       0    0\n",
       "30     Protective-serv    Not-in-family   White               Male       0    0\n",
       "⋮     ⋮                  ⋮               ⋮                   ⋮       ⋮     ⋮   \n",
       "32531  ?                  Not-in-family   Asian-Pac-Islander  Female     0 0   \n",
       "32532  Prof-specialty     Husband         White               Male       0 0   \n",
       "32533  Exec-managerial    Husband         Asian-Pac-Islander  Male       0 0   \n",
       "32534  Adm-clerical       Unmarried       White               Female     0 0   \n",
       "32535  Protective-serv    Own-child       Black               Male       0 0   \n",
       "32536  Exec-managerial    Not-in-family   White               Female     0 0   \n",
       "32537  Craft-repair       Not-in-family   Black               Male       0 0   \n",
       "32538  Prof-specialty     Unmarried       Black               Female 15020 0   \n",
       "32539  ?                  Husband         White               Male       0 0   \n",
       "32540  Adm-clerical       Own-child       White               Female     0 0   \n",
       "32541  ?                  Not-in-family   Black               Female     0 0   \n",
       "32542  ?                  Husband         White               Male       0 0   \n",
       "32543  Prof-specialty     Unmarried       White               Female     0 0   \n",
       "32544  Other-service      Not-in-family   Other               Female     0 0   \n",
       "32545  Adm-clerical       Wife            White               Female     0 0   \n",
       "32546  Tech-support       Not-in-family   White               Female     0 0   \n",
       "32547  Machine-op-inspct  Husband         White               Male       0 0   \n",
       "32548  Prof-specialty     Not-in-family   White               Male    1086 0   \n",
       "32549  Adm-clerical       Other-relative  White               Female     0 0   \n",
       "32550  Craft-repair       Husband         White               Male       0 0   \n",
       "32551  Handlers-cleaners  Husband         Amer-Indian-Eskimo  Male       0 0   \n",
       "32552  Sales              Husband         White               Male       0 0   \n",
       "32553  Tech-support       Not-in-family   Asian-Pac-Islander  Male       0 0   \n",
       "32554  Exec-managerial    Husband         White               Male       0 0   \n",
       "32555  Protective-serv    Not-in-family   White               Male       0 0   \n",
       "32556  Tech-support       Wife            White               Female     0 0   \n",
       "32557  Machine-op-inspct  Husband         White               Male       0 0   \n",
       "32558  Adm-clerical       Unmarried       White               Female     0 0   \n",
       "32559  Adm-clerical       Own-child       White               Male       0 0   \n",
       "32560  Exec-managerial    Wife            White               Female 15024 0   \n",
       "      X40 United.States  X..50K\n",
       "1     13   United-States  <=50K\n",
       "2     40   United-States  <=50K\n",
       "3     40   United-States  <=50K\n",
       "4     40   Cuba           <=50K\n",
       "5     40   United-States  <=50K\n",
       "6     16   Jamaica        <=50K\n",
       "7     45   United-States  >50K \n",
       "8     50   United-States  >50K \n",
       "9     40   United-States  >50K \n",
       "10    80   United-States  >50K \n",
       "11    40   India          >50K \n",
       "12    30   United-States  <=50K\n",
       "13    50   United-States  <=50K\n",
       "14    40   ?              >50K \n",
       "15    45   Mexico         <=50K\n",
       "16    35   United-States  <=50K\n",
       "17    40   United-States  <=50K\n",
       "18    50   United-States  <=50K\n",
       "19    45   United-States  >50K \n",
       "20    60   United-States  >50K \n",
       "21    20   United-States  <=50K\n",
       "22    40   United-States  <=50K\n",
       "23    40   United-States  <=50K\n",
       "24    40   United-States  <=50K\n",
       "25    40   United-States  >50K \n",
       "26    40   United-States  <=50K\n",
       "27    60   South          >50K \n",
       "28    80   United-States  <=50K\n",
       "29    40   United-States  <=50K\n",
       "30    52   United-States  <=50K\n",
       "⋮     ⋮   ⋮              ⋮     \n",
       "32531 99   United-States  <=50K\n",
       "32532 60   United-States  >50K \n",
       "32533 50   Japan          >50K \n",
       "32534 39   United-States  <=50K\n",
       "32535 35   United-States  <=50K\n",
       "32536 55   United-States  >50K \n",
       "32537 46   United-States  <=50K\n",
       "32538 45   United-States  >50K \n",
       "32539 10   United-States  >50K \n",
       "32540 40   United-States  <=50K\n",
       "32541 32   United-States  <=50K\n",
       "32542 25   United-States  <=50K\n",
       "32543 48   United-States  <=50K\n",
       "32544 30   United-States  <=50K\n",
       "32545 20   United-States  >50K \n",
       "32546 40   United-States  <=50K\n",
       "32547 40   Mexico         <=50K\n",
       "32548 60   United-States  <=50K\n",
       "32549 40   United-States  <=50K\n",
       "32550 50   United-States  <=50K\n",
       "32551 40   United-States  <=50K\n",
       "32552 45   United-States  <=50K\n",
       "32553 11   Taiwan         <=50K\n",
       "32554 40   United-States  >50K \n",
       "32555 40   United-States  <=50K\n",
       "32556 38   United-States  <=50K\n",
       "32557 40   United-States  >50K \n",
       "32558 40   United-States  <=50K\n",
       "32559 20   United-States  <=50K\n",
       "32560 40   United-States  >50K "
      ]
     },
     "metadata": {},
     "output_type": "display_data"
    }
   ],
   "source": [
    "df <- read.csv('adult.csv')\n",
    "df"
   ]
  },
  {
   "cell_type": "code",
   "execution_count": 63,
   "id": "bbe024d5",
   "metadata": {},
   "outputs": [
    {
     "data": {
      "text/plain": [
       "      X39         State.gov             X77516         Bachelors        \n",
       " Min.   :17.00   Length:32560       Min.   :  12285   Length:32560      \n",
       " 1st Qu.:28.00   Class :character   1st Qu.: 117832   Class :character  \n",
       " Median :37.00   Mode  :character   Median : 178363   Mode  :character  \n",
       " Mean   :38.58                      Mean   : 189782                     \n",
       " 3rd Qu.:48.00                      3rd Qu.: 237054                     \n",
       " Max.   :90.00                      Max.   :1484705                     \n",
       "      X13        Never.married      Adm.clerical       Not.in.family     \n",
       " Min.   : 1.00   Length:32560       Length:32560       Length:32560      \n",
       " 1st Qu.: 9.00   Class :character   Class :character   Class :character  \n",
       " Median :10.00   Mode  :character   Mode  :character   Mode  :character  \n",
       " Mean   :10.08                                                           \n",
       " 3rd Qu.:12.00                                                           \n",
       " Max.   :16.00                                                           \n",
       "    White               Male               X2174             X0         \n",
       " Length:32560       Length:32560       Min.   :    0   Min.   :   0.00  \n",
       " Class :character   Class :character   1st Qu.:    0   1st Qu.:   0.00  \n",
       " Mode  :character   Mode  :character   Median :    0   Median :   0.00  \n",
       "                                       Mean   : 1078   Mean   :  87.31  \n",
       "                                       3rd Qu.:    0   3rd Qu.:   0.00  \n",
       "                                       Max.   :99999   Max.   :4356.00  \n",
       "      X40        United.States         X..50K         \n",
       " Min.   : 1.00   Length:32560       Length:32560      \n",
       " 1st Qu.:40.00   Class :character   Class :character  \n",
       " Median :40.00   Mode  :character   Mode  :character  \n",
       " Mean   :40.44                                        \n",
       " 3rd Qu.:45.00                                        \n",
       " Max.   :99.00                                        "
      ]
     },
     "metadata": {},
     "output_type": "display_data"
    }
   ],
   "source": [
    "summary(df)"
   ]
  },
  {
   "cell_type": "code",
   "execution_count": 64,
   "id": "6c34de81",
   "metadata": {},
   "outputs": [
    {
     "name": "stdout",
     "output_type": "stream",
     "text": [
      "'data.frame':\t32560 obs. of  15 variables:\n",
      " $ X39          : int  50 38 53 28 37 49 52 31 42 37 ...\n",
      " $ State.gov    : chr  \" Self-emp-not-inc\" \" Private\" \" Private\" \" Private\" ...\n",
      " $ X77516       : int  83311 215646 234721 338409 284582 160187 209642 45781 159449 280464 ...\n",
      " $ Bachelors    : chr  \" Bachelors\" \" HS-grad\" \" 11th\" \" Bachelors\" ...\n",
      " $ X13          : int  13 9 7 13 14 5 9 14 13 10 ...\n",
      " $ Never.married: chr  \" Married-civ-spouse\" \" Divorced\" \" Married-civ-spouse\" \" Married-civ-spouse\" ...\n",
      " $ Adm.clerical : chr  \" Exec-managerial\" \" Handlers-cleaners\" \" Handlers-cleaners\" \" Prof-specialty\" ...\n",
      " $ Not.in.family: chr  \" Husband\" \" Not-in-family\" \" Husband\" \" Wife\" ...\n",
      " $ White        : chr  \" White\" \" White\" \" Black\" \" Black\" ...\n",
      " $ Male         : chr  \" Male\" \" Male\" \" Male\" \" Female\" ...\n",
      " $ X2174        : int  0 0 0 0 0 0 0 14084 5178 0 ...\n",
      " $ X0           : int  0 0 0 0 0 0 0 0 0 0 ...\n",
      " $ X40          : int  13 40 40 40 40 16 45 50 40 80 ...\n",
      " $ United.States: chr  \" United-States\" \" United-States\" \" United-States\" \" Cuba\" ...\n",
      " $ X..50K       : chr  \" <=50K\" \" <=50K\" \" <=50K\" \" <=50K\" ...\n"
     ]
    }
   ],
   "source": [
    "str(df)"
   ]
  },
  {
   "cell_type": "code",
   "execution_count": 65,
   "id": "6e911109",
   "metadata": {},
   "outputs": [
    {
     "data": {
      "text/html": [
       "<style>\n",
       ".list-inline {list-style: none; margin:0; padding: 0}\n",
       ".list-inline>li {display: inline-block}\n",
       ".list-inline>li:not(:last-child)::after {content: \"\\00b7\"; padding: 0 .5ex}\n",
       "</style>\n",
       "<ol class=list-inline><li>'X39'</li><li>'State.gov'</li><li>'X77516'</li><li>'Bachelors'</li><li>'X13'</li><li>'Never.married'</li><li>'Adm.clerical'</li><li>'Not.in.family'</li><li>'White'</li><li>'Male'</li><li>'X2174'</li><li>'X0'</li><li>'X40'</li><li>'United.States'</li><li>'X..50K'</li></ol>\n"
      ],
      "text/latex": [
       "\\begin{enumerate*}\n",
       "\\item 'X39'\n",
       "\\item 'State.gov'\n",
       "\\item 'X77516'\n",
       "\\item 'Bachelors'\n",
       "\\item 'X13'\n",
       "\\item 'Never.married'\n",
       "\\item 'Adm.clerical'\n",
       "\\item 'Not.in.family'\n",
       "\\item 'White'\n",
       "\\item 'Male'\n",
       "\\item 'X2174'\n",
       "\\item 'X0'\n",
       "\\item 'X40'\n",
       "\\item 'United.States'\n",
       "\\item 'X..50K'\n",
       "\\end{enumerate*}\n"
      ],
      "text/markdown": [
       "1. 'X39'\n",
       "2. 'State.gov'\n",
       "3. 'X77516'\n",
       "4. 'Bachelors'\n",
       "5. 'X13'\n",
       "6. 'Never.married'\n",
       "7. 'Adm.clerical'\n",
       "8. 'Not.in.family'\n",
       "9. 'White'\n",
       "10. 'Male'\n",
       "11. 'X2174'\n",
       "12. 'X0'\n",
       "13. 'X40'\n",
       "14. 'United.States'\n",
       "15. 'X..50K'\n",
       "\n",
       "\n"
      ],
      "text/plain": [
       " [1] \"X39\"           \"State.gov\"     \"X77516\"        \"Bachelors\"    \n",
       " [5] \"X13\"           \"Never.married\" \"Adm.clerical\"  \"Not.in.family\"\n",
       " [9] \"White\"         \"Male\"          \"X2174\"         \"X0\"           \n",
       "[13] \"X40\"           \"United.States\" \"X..50K\"       "
      ]
     },
     "metadata": {},
     "output_type": "display_data"
    }
   ],
   "source": [
    "names(df)"
   ]
  },
  {
   "cell_type": "code",
   "execution_count": 66,
   "id": "ecd00ff4",
   "metadata": {},
   "outputs": [
    {
     "data": {
      "text/html": [
       "<style>\n",
       ".list-inline {list-style: none; margin:0; padding: 0}\n",
       ".list-inline>li {display: inline-block}\n",
       ".list-inline>li:not(:last-child)::after {content: \"\\00b7\"; padding: 0 .5ex}\n",
       "</style>\n",
       "<ol class=list-inline><li>32560</li><li>15</li></ol>\n"
      ],
      "text/latex": [
       "\\begin{enumerate*}\n",
       "\\item 32560\n",
       "\\item 15\n",
       "\\end{enumerate*}\n"
      ],
      "text/markdown": [
       "1. 32560\n",
       "2. 15\n",
       "\n",
       "\n"
      ],
      "text/plain": [
       "[1] 32560    15"
      ]
     },
     "metadata": {},
     "output_type": "display_data"
    }
   ],
   "source": [
    "dim(df)"
   ]
  },
  {
   "cell_type": "code",
   "execution_count": 67,
   "id": "e9d836d1",
   "metadata": {},
   "outputs": [
    {
     "data": {
      "text/html": [
       "32560"
      ],
      "text/latex": [
       "32560"
      ],
      "text/markdown": [
       "32560"
      ],
      "text/plain": [
       "[1] 32560"
      ]
     },
     "metadata": {},
     "output_type": "display_data"
    }
   ],
   "source": [
    "rows_of_df <- nrow(df)\n",
    "rows_of_df"
   ]
  },
  {
   "cell_type": "code",
   "execution_count": 68,
   "id": "f628126c",
   "metadata": {},
   "outputs": [
    {
     "data": {
      "text/html": [
       "15"
      ],
      "text/latex": [
       "15"
      ],
      "text/markdown": [
       "15"
      ],
      "text/plain": [
       "[1] 15"
      ]
     },
     "metadata": {},
     "output_type": "display_data"
    }
   ],
   "source": [
    "cols_of_df <- ncol(df)\n",
    "cols_of_df"
   ]
  },
  {
   "cell_type": "code",
   "execution_count": 69,
   "id": "36fb546f",
   "metadata": {},
   "outputs": [],
   "source": [
    "# 14 independent and 1 dependent variable"
   ]
  },
  {
   "cell_type": "code",
   "execution_count": 70,
   "id": "07218571",
   "metadata": {},
   "outputs": [],
   "source": [
    "# Convert character columns to factor\n",
    "df <- df %>%\n",
    "  mutate_if(is.character, as.factor)"
   ]
  },
  {
   "cell_type": "code",
   "execution_count": 71,
   "id": "34322cdd",
   "metadata": {},
   "outputs": [],
   "source": [
    "df[df == \" ?\"] <- NA"
   ]
  },
  {
   "cell_type": "markdown",
   "id": "23525de9",
   "metadata": {},
   "source": [
    "#### Remove irrelevant variables:"
   ]
  },
  {
   "cell_type": "code",
   "execution_count": 72,
   "id": "6d00a536",
   "metadata": {},
   "outputs": [],
   "source": [
    "df <- df[, sapply(df, function(x) {\n",
    "  if (is.factor(x)) {\n",
    "    return(TRUE)  # Exclude factor variables\n",
    "  } else {\n",
    "    return(var(x) > 0)  # Calculate variance for non-factor variables\n",
    "  }\n",
    "})]"
   ]
  },
  {
   "cell_type": "code",
   "execution_count": 73,
   "id": "577ccb81",
   "metadata": {},
   "outputs": [],
   "source": [
    "d<-dim(df)"
   ]
  },
  {
   "cell_type": "code",
   "execution_count": 74,
   "id": "e42ecdab",
   "metadata": {},
   "outputs": [
    {
     "name": "stdout",
     "output_type": "stream",
     "text": [
      "[1] \"Number of Irrelevant Variables Removed: 0\"\n",
      "[1] \"Proportion of Irrelevant Variables Removed: 0\"\n"
     ]
    }
   ],
   "source": [
    "# Print the number and proportion of irrelevant predictive/independent variables removed\n",
    "rmvd <- cols_of_df - d[2]\n",
    "prop <- rmvd / cols_of_df\n",
    "print(paste(\"Number of Irrelevant Variables Removed:\", rmvd))\n",
    "print(paste(\"Proportion of Irrelevant Variables Removed:\", prop))"
   ]
  },
  {
   "cell_type": "markdown",
   "id": "d0d0b635",
   "metadata": {},
   "source": [
    "#### Identify and remove out outliers:"
   ]
  },
  {
   "cell_type": "code",
   "execution_count": 75,
   "id": "781fd0b2",
   "metadata": {},
   "outputs": [
    {
     "data": {
      "image/png": "[encoded data removed]",
      "text/plain": [
       "Plot with title “Boxplot of X2174”"
      ]
     },
     "metadata": {
      "image/png": {
       "height": 420,
       "width": 420
      }
     },
     "output_type": "display_data"
    },
    {
     "data": {
      "image/png": "[encoded data removed]",
      "text/plain": [
       "Plot with title “Boxplot of X40”"
      ]
     },
     "metadata": {
      "image/png": {
       "height": 420,
       "width": 420
      }
     },
     "output_type": "display_data"
    }
   ],
   "source": [
    "par(mfrow=c(2,2))\n",
    "\n",
    "cols <- c('X39','X77516','X13','X2174','X0','X40')\n",
    "\n",
    "for (col in cols) {\n",
    "  boxplot(df[[col]], main = paste(\"Boxplot of\", col))\n",
    "}"
   ]
  },
  {
   "cell_type": "code",
   "execution_count": 76,
   "id": "799f646a",
   "metadata": {},
   "outputs": [],
   "source": [
    "winso <- function(x) {\n",
    "  Q1 <- quantile(x, 0.25)\n",
    "  Q3 <- quantile(x, 0.75)\n",
    "  IQR <- Q3 - Q1\n",
    "  lower_threshold <- Q1 - 1.5 * IQR\n",
    "  upper_threshold <- Q3 + 1.5 * IQR\n",
    "  outliers <- x < lower_threshold | x > upper_threshold\n",
    "  return(outliers)\n",
    "}"
   ]
  },
  {
   "cell_type": "code",
   "execution_count": 77,
   "id": "6d775d57",
   "metadata": {},
   "outputs": [
    {
     "data": {
      "text/html": [
       "15571"
      ],
      "text/latex": [
       "15571"
      ],
      "text/markdown": [
       "15571"
      ],
      "text/plain": [
       "[1] 15571"
      ]
     },
     "metadata": {},
     "output_type": "display_data"
    }
   ],
   "source": [
    "# assign numerical variables to nuim_vars\n",
    "num_vars <- sapply(df, is.numeric)\n",
    "\n",
    "# identify outliers i the dataframe\n",
    "outlier <- sapply(df[, num_vars], winso)\n",
    "\n",
    "# sum of outliers\n",
    "total <- sum(rowSums(outlier))\n",
    "total"
   ]
  },
  {
   "cell_type": "code",
   "execution_count": 78,
   "id": "f45772d3",
   "metadata": {},
   "outputs": [],
   "source": [
    "new_df <- as.data.frame(lapply(df[, num_vars], winso))"
   ]
  },
  {
   "cell_type": "code",
   "execution_count": 79,
   "id": "f19e3c72",
   "metadata": {},
   "outputs": [],
   "source": [
    "# Count the number of outliers filtered\n",
    "fltrd <- sum(new_df != df[, num_vars])"
   ]
  },
  {
   "cell_type": "code",
   "execution_count": 80,
   "id": "1b328875",
   "metadata": {},
   "outputs": [],
   "source": [
    "# Calculate the proportion of outliers filtered\n",
    "prop <- fltrd / (nrow(df) * length(num_vars))"
   ]
  },
  {
   "cell_type": "code",
   "execution_count": 81,
   "id": "c413f170",
   "metadata": {},
   "outputs": [
    {
     "name": "stdout",
     "output_type": "stream",
     "text": [
      "Number of outliers filtered: 134399 \n",
      "Proportion of outliers filtered: 0.2751822 \n"
     ]
    }
   ],
   "source": [
    "# Output the results\n",
    "cat(\"Number of outliers filtered:\", fltrd, \"\\n\")\n",
    "cat(\"Proportion of outliers filtered:\", prop, \"\\n\")"
   ]
  },
  {
   "cell_type": "markdown",
   "id": "f0b8670a",
   "metadata": {},
   "source": [
    "#### Romove duplicates"
   ]
  },
  {
   "cell_type": "code",
   "execution_count": 82,
   "id": "9d48bcae",
   "metadata": {},
   "outputs": [],
   "source": [
    "dimention <- dim(new_df)"
   ]
  },
  {
   "cell_type": "code",
   "execution_count": 83,
   "id": "674c8444",
   "metadata": {},
   "outputs": [],
   "source": [
    "new_df <- unique(df)"
   ]
  },
  {
   "cell_type": "code",
   "execution_count": 84,
   "id": "1b92e381",
   "metadata": {},
   "outputs": [],
   "source": [
    "dimention_after <- dim(new_df)"
   ]
  },
  {
   "cell_type": "code",
   "execution_count": 85,
   "id": "0a58d90e",
   "metadata": {},
   "outputs": [
    {
     "name": "stdout",
     "output_type": "stream",
     "text": [
      "[1] \"Number of Duplicate Records Removed: 24\"    \n",
      "[2] \"Number of Duplicate Records Removed: -32530\"\n",
      "[1] \"Proportion of Duplicate Records Removed: 0.000737100737100737\"\n",
      "[2] \"Proportion of Duplicate Records Removed: -5421.66666666667\"   \n"
     ]
    }
   ],
   "source": [
    "removed <- dimention - dimention_after[1]\n",
    "prop <- removed / dimention\n",
    "print(paste(\"Number of Duplicate Records Removed:\", removed))\n",
    "print(paste(\"Proportion of Duplicate Records Removed:\", prop))"
   ]
  },
  {
   "cell_type": "markdown",
   "id": "757aa71b",
   "metadata": {},
   "source": [
    "#### Remove Missing Values"
   ]
  },
  {
   "cell_type": "code",
   "execution_count": 86,
   "id": "b5d65119",
   "metadata": {},
   "outputs": [
    {
     "data": {
      "text/html": [
       "4261"
      ],
      "text/latex": [
       "4261"
      ],
      "text/markdown": [
       "4261"
      ],
      "text/plain": [
       "[1] 4261"
      ]
     },
     "metadata": {},
     "output_type": "display_data"
    }
   ],
   "source": [
    "sum(is.na(new_df))"
   ]
  },
  {
   "cell_type": "code",
   "execution_count": 87,
   "id": "ffa26ee2",
   "metadata": {},
   "outputs": [
    {
     "data": {
      "text/html": [
       "<style>\n",
       ".dl-inline {width: auto; margin:0; padding: 0}\n",
       ".dl-inline>dt, .dl-inline>dd {float: none; width: auto; display: inline-block}\n",
       ".dl-inline>dt::after {content: \":\\0020\"; padding-right: .5ex}\n",
       ".dl-inline>dt:not(:first-of-type) {padding-left: .5ex}\n",
       "</style><dl class=dl-inline><dt>X39</dt><dd>0</dd><dt>State.gov</dt><dd>1836</dd><dt>X77516</dt><dd>0</dd><dt>Bachelors</dt><dd>0</dd><dt>X13</dt><dd>0</dd><dt>Never.married</dt><dd>0</dd><dt>Adm.clerical</dt><dd>1843</dd><dt>Not.in.family</dt><dd>0</dd><dt>White</dt><dd>0</dd><dt>Male</dt><dd>0</dd><dt>X2174</dt><dd>0</dd><dt>X0</dt><dd>0</dd><dt>X40</dt><dd>0</dd><dt>United.States</dt><dd>582</dd><dt>X..50K</dt><dd>0</dd></dl>\n"
      ],
      "text/latex": [
       "\\begin{description*}\n",
       "\\item[X39] 0\n",
       "\\item[State.gov] 1836\n",
       "\\item[X77516] 0\n",
       "\\item[Bachelors] 0\n",
       "\\item[X13] 0\n",
       "\\item[Never.married] 0\n",
       "\\item[Adm.clerical] 1843\n",
       "\\item[Not.in.family] 0\n",
       "\\item[White] 0\n",
       "\\item[Male] 0\n",
       "\\item[X2174] 0\n",
       "\\item[X0] 0\n",
       "\\item[X40] 0\n",
       "\\item[United.States] 582\n",
       "\\item[X..50K] 0\n",
       "\\end{description*}\n"
      ],
      "text/markdown": [
       "X39\n",
       ":   0State.gov\n",
       ":   1836X77516\n",
       ":   0Bachelors\n",
       ":   0X13\n",
       ":   0Never.married\n",
       ":   0Adm.clerical\n",
       ":   1843Not.in.family\n",
       ":   0White\n",
       ":   0Male\n",
       ":   0X2174\n",
       ":   0X0\n",
       ":   0X40\n",
       ":   0United.States\n",
       ":   582X..50K\n",
       ":   0\n",
       "\n"
      ],
      "text/plain": [
       "          X39     State.gov        X77516     Bachelors           X13 \n",
       "            0          1836             0             0             0 \n",
       "Never.married  Adm.clerical Not.in.family         White          Male \n",
       "            0          1843             0             0             0 \n",
       "        X2174            X0           X40 United.States        X..50K \n",
       "            0             0             0           582             0 "
      ]
     },
     "metadata": {},
     "output_type": "display_data"
    }
   ],
   "source": [
    "colSums(is.na(new_df))"
   ]
  },
  {
   "cell_type": "code",
   "execution_count": 88,
   "id": "0685fbf6",
   "metadata": {},
   "outputs": [],
   "source": [
    "new_df[new_df == \" ?\"] <- NA"
   ]
  },
  {
   "cell_type": "code",
   "execution_count": 89,
   "id": "57b0467e",
   "metadata": {},
   "outputs": [
    {
     "data": {
      "text/html": [
       "<style>\n",
       ".list-inline {list-style: none; margin:0; padding: 0}\n",
       ".list-inline>li {display: inline-block}\n",
       ".list-inline>li:not(:last-child)::after {content: \"\\00b7\"; padding: 0 .5ex}\n",
       "</style>\n",
       "<ol class=list-inline><li> Self-emp-not-inc</li><li> Private</li><li> State-gov</li><li> Federal-gov</li><li> Local-gov</li><li>&lt;NA&gt;</li><li> Self-emp-inc</li><li> Without-pay</li><li> Never-worked</li></ol>\n",
       "\n",
       "<details>\n",
       "\t<summary style=display:list-item;cursor:pointer>\n",
       "\t\t<strong>Levels</strong>:\n",
       "\t</summary>\n",
       "\t<style>\n",
       "\t.list-inline {list-style: none; margin:0; padding: 0}\n",
       "\t.list-inline>li {display: inline-block}\n",
       "\t.list-inline>li:not(:last-child)::after {content: \"\\00b7\"; padding: 0 .5ex}\n",
       "\t</style>\n",
       "\t<ol class=list-inline><li>' ?'</li><li>' Federal-gov'</li><li>' Local-gov'</li><li>' Never-worked'</li><li>' Private'</li><li>' Self-emp-inc'</li><li>' Self-emp-not-inc'</li><li>' State-gov'</li><li>' Without-pay'</li></ol>\n",
       "</details>"
      ],
      "text/latex": [
       "\\begin{enumerate*}\n",
       "\\item  Self-emp-not-inc\n",
       "\\item  Private\n",
       "\\item  State-gov\n",
       "\\item  Federal-gov\n",
       "\\item  Local-gov\n",
       "\\item <NA>\n",
       "\\item  Self-emp-inc\n",
       "\\item  Without-pay\n",
       "\\item  Never-worked\n",
       "\\end{enumerate*}\n",
       "\n",
       "\\emph{Levels}: \\begin{enumerate*}\n",
       "\\item ' ?'\n",
       "\\item ' Federal-gov'\n",
       "\\item ' Local-gov'\n",
       "\\item ' Never-worked'\n",
       "\\item ' Private'\n",
       "\\item ' Self-emp-inc'\n",
       "\\item ' Self-emp-not-inc'\n",
       "\\item ' State-gov'\n",
       "\\item ' Without-pay'\n",
       "\\end{enumerate*}\n"
      ],
      "text/markdown": [
       "1.  Self-emp-not-inc\n",
       "2.  Private\n",
       "3.  State-gov\n",
       "4.  Federal-gov\n",
       "5.  Local-gov\n",
       "6. &lt;NA&gt;\n",
       "7.  Self-emp-inc\n",
       "8.  Without-pay\n",
       "9.  Never-worked\n",
       "\n",
       "\n",
       "\n",
       "**Levels**: 1. ' ?'\n",
       "2. ' Federal-gov'\n",
       "3. ' Local-gov'\n",
       "4. ' Never-worked'\n",
       "5. ' Private'\n",
       "6. ' Self-emp-inc'\n",
       "7. ' Self-emp-not-inc'\n",
       "8. ' State-gov'\n",
       "9. ' Without-pay'\n",
       "\n",
       "\n"
      ],
      "text/plain": [
       "[1]  Self-emp-not-inc  Private           State-gov         Federal-gov     \n",
       "[5]  Local-gov        <NA>               Self-emp-inc      Without-pay     \n",
       "[9]  Never-worked    \n",
       "9 Levels:  ?  Federal-gov  Local-gov  Never-worked  Private ...  Without-pay"
      ]
     },
     "metadata": {},
     "output_type": "display_data"
    }
   ],
   "source": [
    "unique_values <- unique(new_df$State.gov)\n",
    "unique_values"
   ]
  },
  {
   "cell_type": "code",
   "execution_count": 90,
   "id": "325fc397",
   "metadata": {},
   "outputs": [
    {
     "data": {
      "text/html": [
       "<style>\n",
       ".list-inline {list-style: none; margin:0; padding: 0}\n",
       ".list-inline>li {display: inline-block}\n",
       ".list-inline>li:not(:last-child)::after {content: \"\\00b7\"; padding: 0 .5ex}\n",
       "</style>\n",
       "<ol class=list-inline><li> Exec-managerial</li><li> Handlers-cleaners</li><li> Prof-specialty</li><li> Other-service</li><li> Adm-clerical</li><li> Sales</li><li> Craft-repair</li><li> Transport-moving</li><li> Farming-fishing</li><li> Machine-op-inspct</li><li> Tech-support</li><li>&lt;NA&gt;</li><li> Protective-serv</li><li> Armed-Forces</li><li> Priv-house-serv</li></ol>\n",
       "\n",
       "<details>\n",
       "\t<summary style=display:list-item;cursor:pointer>\n",
       "\t\t<strong>Levels</strong>:\n",
       "\t</summary>\n",
       "\t<style>\n",
       "\t.list-inline {list-style: none; margin:0; padding: 0}\n",
       "\t.list-inline>li {display: inline-block}\n",
       "\t.list-inline>li:not(:last-child)::after {content: \"\\00b7\"; padding: 0 .5ex}\n",
       "\t</style>\n",
       "\t<ol class=list-inline><li>' ?'</li><li>' Adm-clerical'</li><li>' Armed-Forces'</li><li>' Craft-repair'</li><li>' Exec-managerial'</li><li>' Farming-fishing'</li><li>' Handlers-cleaners'</li><li>' Machine-op-inspct'</li><li>' Other-service'</li><li>' Priv-house-serv'</li><li>' Prof-specialty'</li><li>' Protective-serv'</li><li>' Sales'</li><li>' Tech-support'</li><li>' Transport-moving'</li></ol>\n",
       "</details>"
      ],
      "text/latex": [
       "\\begin{enumerate*}\n",
       "\\item  Exec-managerial\n",
       "\\item  Handlers-cleaners\n",
       "\\item  Prof-specialty\n",
       "\\item  Other-service\n",
       "\\item  Adm-clerical\n",
       "\\item  Sales\n",
       "\\item  Craft-repair\n",
       "\\item  Transport-moving\n",
       "\\item  Farming-fishing\n",
       "\\item  Machine-op-inspct\n",
       "\\item  Tech-support\n",
       "\\item <NA>\n",
       "\\item  Protective-serv\n",
       "\\item  Armed-Forces\n",
       "\\item  Priv-house-serv\n",
       "\\end{enumerate*}\n",
       "\n",
       "\\emph{Levels}: \\begin{enumerate*}\n",
       "\\item ' ?'\n",
       "\\item ' Adm-clerical'\n",
       "\\item ' Armed-Forces'\n",
       "\\item ' Craft-repair'\n",
       "\\item ' Exec-managerial'\n",
       "\\item ' Farming-fishing'\n",
       "\\item ' Handlers-cleaners'\n",
       "\\item ' Machine-op-inspct'\n",
       "\\item ' Other-service'\n",
       "\\item ' Priv-house-serv'\n",
       "\\item ' Prof-specialty'\n",
       "\\item ' Protective-serv'\n",
       "\\item ' Sales'\n",
       "\\item ' Tech-support'\n",
       "\\item ' Transport-moving'\n",
       "\\end{enumerate*}\n"
      ],
      "text/markdown": [
       "1.  Exec-managerial\n",
       "2.  Handlers-cleaners\n",
       "3.  Prof-specialty\n",
       "4.  Other-service\n",
       "5.  Adm-clerical\n",
       "6.  Sales\n",
       "7.  Craft-repair\n",
       "8.  Transport-moving\n",
       "9.  Farming-fishing\n",
       "10.  Machine-op-inspct\n",
       "11.  Tech-support\n",
       "12. &lt;NA&gt;\n",
       "13.  Protective-serv\n",
       "14.  Armed-Forces\n",
       "15.  Priv-house-serv\n",
       "\n",
       "\n",
       "\n",
       "**Levels**: 1. ' ?'\n",
       "2. ' Adm-clerical'\n",
       "3. ' Armed-Forces'\n",
       "4. ' Craft-repair'\n",
       "5. ' Exec-managerial'\n",
       "6. ' Farming-fishing'\n",
       "7. ' Handlers-cleaners'\n",
       "8. ' Machine-op-inspct'\n",
       "9. ' Other-service'\n",
       "10. ' Priv-house-serv'\n",
       "11. ' Prof-specialty'\n",
       "12. ' Protective-serv'\n",
       "13. ' Sales'\n",
       "14. ' Tech-support'\n",
       "15. ' Transport-moving'\n",
       "\n",
       "\n"
      ],
      "text/plain": [
       " [1]  Exec-managerial    Handlers-cleaners  Prof-specialty     Other-service    \n",
       " [5]  Adm-clerical       Sales              Craft-repair       Transport-moving \n",
       " [9]  Farming-fishing    Machine-op-inspct  Tech-support      <NA>              \n",
       "[13]  Protective-serv    Armed-Forces       Priv-house-serv  \n",
       "15 Levels:  ?  Adm-clerical  Armed-Forces  Craft-repair ...  Transport-moving"
      ]
     },
     "metadata": {},
     "output_type": "display_data"
    }
   ],
   "source": [
    "unique_values <- unique(new_df$Adm.clerical)\n",
    "unique_values"
   ]
  },
  {
   "cell_type": "code",
   "execution_count": 91,
   "id": "67c29289",
   "metadata": {},
   "outputs": [
    {
     "data": {
      "text/html": [
       "<style>\n",
       ".list-inline {list-style: none; margin:0; padding: 0}\n",
       ".list-inline>li {display: inline-block}\n",
       ".list-inline>li:not(:last-child)::after {content: \"\\00b7\"; padding: 0 .5ex}\n",
       "</style>\n",
       "<ol class=list-inline><li> United-States</li><li> Cuba</li><li> Jamaica</li><li> India</li><li>&lt;NA&gt;</li><li> Mexico</li><li> South</li><li> Puerto-Rico</li><li> Honduras</li><li> England</li><li> Canada</li><li> Germany</li><li> Iran</li><li> Philippines</li><li> Italy</li><li> Poland</li><li> Columbia</li><li> Cambodia</li><li> Thailand</li><li> Ecuador</li><li> Laos</li><li> Taiwan</li><li> Haiti</li><li> Portugal</li><li> Dominican-Republic</li><li> El-Salvador</li><li> France</li><li> Guatemala</li><li> China</li><li> Japan</li><li> Yugoslavia</li><li> Peru</li><li> Outlying-US(Guam-USVI-etc)</li><li> Scotland</li><li> Trinadad&amp;Tobago</li><li> Greece</li><li> Nicaragua</li><li> Vietnam</li><li> Hong</li><li> Ireland</li><li> Hungary</li><li> Holand-Netherlands</li></ol>\n",
       "\n",
       "<details>\n",
       "\t<summary style=display:list-item;cursor:pointer>\n",
       "\t\t<strong>Levels</strong>:\n",
       "\t</summary>\n",
       "\t<style>\n",
       "\t.list-inline {list-style: none; margin:0; padding: 0}\n",
       "\t.list-inline>li {display: inline-block}\n",
       "\t.list-inline>li:not(:last-child)::after {content: \"\\00b7\"; padding: 0 .5ex}\n",
       "\t</style>\n",
       "\t<ol class=list-inline><li>' ?'</li><li>' Cambodia'</li><li>' Canada'</li><li>' China'</li><li>' Columbia'</li><li>' Cuba'</li><li>' Dominican-Republic'</li><li>' Ecuador'</li><li>' El-Salvador'</li><li>' England'</li><li>' France'</li><li>' Germany'</li><li>' Greece'</li><li>' Guatemala'</li><li>' Haiti'</li><li>' Holand-Netherlands'</li><li>' Honduras'</li><li>' Hong'</li><li>' Hungary'</li><li>' India'</li><li>' Iran'</li><li>' Ireland'</li><li>' Italy'</li><li>' Jamaica'</li><li>' Japan'</li><li>' Laos'</li><li>' Mexico'</li><li>' Nicaragua'</li><li>' Outlying-US(Guam-USVI-etc)'</li><li>' Peru'</li><li>' Philippines'</li><li>' Poland'</li><li>' Portugal'</li><li>' Puerto-Rico'</li><li>' Scotland'</li><li>' South'</li><li>' Taiwan'</li><li>' Thailand'</li><li>' Trinadad&amp;Tobago'</li><li>' United-States'</li><li>' Vietnam'</li><li>' Yugoslavia'</li></ol>\n",
       "</details>"
      ],
      "text/latex": [
       "\\begin{enumerate*}\n",
       "\\item  United-States\n",
       "\\item  Cuba\n",
       "\\item  Jamaica\n",
       "\\item  India\n",
       "\\item <NA>\n",
       "\\item  Mexico\n",
       "\\item  South\n",
       "\\item  Puerto-Rico\n",
       "\\item  Honduras\n",
       "\\item  England\n",
       "\\item  Canada\n",
       "\\item  Germany\n",
       "\\item  Iran\n",
       "\\item  Philippines\n",
       "\\item  Italy\n",
       "\\item  Poland\n",
       "\\item  Columbia\n",
       "\\item  Cambodia\n",
       "\\item  Thailand\n",
       "\\item  Ecuador\n",
       "\\item  Laos\n",
       "\\item  Taiwan\n",
       "\\item  Haiti\n",
       "\\item  Portugal\n",
       "\\item  Dominican-Republic\n",
       "\\item  El-Salvador\n",
       "\\item  France\n",
       "\\item  Guatemala\n",
       "\\item  China\n",
       "\\item  Japan\n",
       "\\item  Yugoslavia\n",
       "\\item  Peru\n",
       "\\item  Outlying-US(Guam-USVI-etc)\n",
       "\\item  Scotland\n",
       "\\item  Trinadad\\&Tobago\n",
       "\\item  Greece\n",
       "\\item  Nicaragua\n",
       "\\item  Vietnam\n",
       "\\item  Hong\n",
       "\\item  Ireland\n",
       "\\item  Hungary\n",
       "\\item  Holand-Netherlands\n",
       "\\end{enumerate*}\n",
       "\n",
       "\\emph{Levels}: \\begin{enumerate*}\n",
       "\\item ' ?'\n",
       "\\item ' Cambodia'\n",
       "\\item ' Canada'\n",
       "\\item ' China'\n",
       "\\item ' Columbia'\n",
       "\\item ' Cuba'\n",
       "\\item ' Dominican-Republic'\n",
       "\\item ' Ecuador'\n",
       "\\item ' El-Salvador'\n",
       "\\item ' England'\n",
       "\\item ' France'\n",
       "\\item ' Germany'\n",
       "\\item ' Greece'\n",
       "\\item ' Guatemala'\n",
       "\\item ' Haiti'\n",
       "\\item ' Holand-Netherlands'\n",
       "\\item ' Honduras'\n",
       "\\item ' Hong'\n",
       "\\item ' Hungary'\n",
       "\\item ' India'\n",
       "\\item ' Iran'\n",
       "\\item ' Ireland'\n",
       "\\item ' Italy'\n",
       "\\item ' Jamaica'\n",
       "\\item ' Japan'\n",
       "\\item ' Laos'\n",
       "\\item ' Mexico'\n",
       "\\item ' Nicaragua'\n",
       "\\item ' Outlying-US(Guam-USVI-etc)'\n",
       "\\item ' Peru'\n",
       "\\item ' Philippines'\n",
       "\\item ' Poland'\n",
       "\\item ' Portugal'\n",
       "\\item ' Puerto-Rico'\n",
       "\\item ' Scotland'\n",
       "\\item ' South'\n",
       "\\item ' Taiwan'\n",
       "\\item ' Thailand'\n",
       "\\item ' Trinadad\\&Tobago'\n",
       "\\item ' United-States'\n",
       "\\item ' Vietnam'\n",
       "\\item ' Yugoslavia'\n",
       "\\end{enumerate*}\n"
      ],
      "text/markdown": [
       "1.  United-States\n",
       "2.  Cuba\n",
       "3.  Jamaica\n",
       "4.  India\n",
       "5. &lt;NA&gt;\n",
       "6.  Mexico\n",
       "7.  South\n",
       "8.  Puerto-Rico\n",
       "9.  Honduras\n",
       "10.  England\n",
       "11.  Canada\n",
       "12.  Germany\n",
       "13.  Iran\n",
       "14.  Philippines\n",
       "15.  Italy\n",
       "16.  Poland\n",
       "17.  Columbia\n",
       "18.  Cambodia\n",
       "19.  Thailand\n",
       "20.  Ecuador\n",
       "21.  Laos\n",
       "22.  Taiwan\n",
       "23.  Haiti\n",
       "24.  Portugal\n",
       "25.  Dominican-Republic\n",
       "26.  El-Salvador\n",
       "27.  France\n",
       "28.  Guatemala\n",
       "29.  China\n",
       "30.  Japan\n",
       "31.  Yugoslavia\n",
       "32.  Peru\n",
       "33.  Outlying-US(Guam-USVI-etc)\n",
       "34.  Scotland\n",
       "35.  Trinadad&amp;Tobago\n",
       "36.  Greece\n",
       "37.  Nicaragua\n",
       "38.  Vietnam\n",
       "39.  Hong\n",
       "40.  Ireland\n",
       "41.  Hungary\n",
       "42.  Holand-Netherlands\n",
       "\n",
       "\n",
       "\n",
       "**Levels**: 1. ' ?'\n",
       "2. ' Cambodia'\n",
       "3. ' Canada'\n",
       "4. ' China'\n",
       "5. ' Columbia'\n",
       "6. ' Cuba'\n",
       "7. ' Dominican-Republic'\n",
       "8. ' Ecuador'\n",
       "9. ' El-Salvador'\n",
       "10. ' England'\n",
       "11. ' France'\n",
       "12. ' Germany'\n",
       "13. ' Greece'\n",
       "14. ' Guatemala'\n",
       "15. ' Haiti'\n",
       "16. ' Holand-Netherlands'\n",
       "17. ' Honduras'\n",
       "18. ' Hong'\n",
       "19. ' Hungary'\n",
       "20. ' India'\n",
       "21. ' Iran'\n",
       "22. ' Ireland'\n",
       "23. ' Italy'\n",
       "24. ' Jamaica'\n",
       "25. ' Japan'\n",
       "26. ' Laos'\n",
       "27. ' Mexico'\n",
       "28. ' Nicaragua'\n",
       "29. ' Outlying-US(Guam-USVI-etc)'\n",
       "30. ' Peru'\n",
       "31. ' Philippines'\n",
       "32. ' Poland'\n",
       "33. ' Portugal'\n",
       "34. ' Puerto-Rico'\n",
       "35. ' Scotland'\n",
       "36. ' South'\n",
       "37. ' Taiwan'\n",
       "38. ' Thailand'\n",
       "39. ' Trinadad&amp;Tobago'\n",
       "40. ' United-States'\n",
       "41. ' Vietnam'\n",
       "42. ' Yugoslavia'\n",
       "\n",
       "\n"
      ],
      "text/plain": [
       " [1]  United-States               Cuba                      \n",
       " [3]  Jamaica                     India                     \n",
       " [5] <NA>                         Mexico                    \n",
       " [7]  South                       Puerto-Rico               \n",
       " [9]  Honduras                    England                   \n",
       "[11]  Canada                      Germany                   \n",
       "[13]  Iran                        Philippines               \n",
       "[15]  Italy                       Poland                    \n",
       "[17]  Columbia                    Cambodia                  \n",
       "[19]  Thailand                    Ecuador                   \n",
       "[21]  Laos                        Taiwan                    \n",
       "[23]  Haiti                       Portugal                  \n",
       "[25]  Dominican-Republic          El-Salvador               \n",
       "[27]  France                      Guatemala                 \n",
       "[29]  China                       Japan                     \n",
       "[31]  Yugoslavia                  Peru                      \n",
       "[33]  Outlying-US(Guam-USVI-etc)  Scotland                  \n",
       "[35]  Trinadad&Tobago             Greece                    \n",
       "[37]  Nicaragua                   Vietnam                   \n",
       "[39]  Hong                        Ireland                   \n",
       "[41]  Hungary                     Holand-Netherlands        \n",
       "42 Levels:  ?  Cambodia  Canada  China  Columbia  Cuba ...  Yugoslavia"
      ]
     },
     "metadata": {},
     "output_type": "display_data"
    }
   ],
   "source": [
    "unique_values <- unique(new_df$United.States)\n",
    "unique_values"
   ]
  },
  {
   "cell_type": "code",
   "execution_count": 92,
   "id": "c41480be",
   "metadata": {},
   "outputs": [],
   "source": [
    "cols <- c(\"State.gov\", \"Adm.clerical\", \"United.States\")\n",
    "\n",
    "\n",
    "for (column in cols) {\n",
    "  # mode\n",
    "  mode <- names(sort(table(new_df[[column]]), decreasing = TRUE))[1]\n",
    "  \n",
    "  # Impute missing values using the mode\n",
    "  new_df[[column]][is.na(new_df[[column]])] <- mode\n",
    "}\n"
   ]
  },
  {
   "cell_type": "code",
   "execution_count": 93,
   "id": "42f5ec9e",
   "metadata": {},
   "outputs": [
    {
     "data": {
      "text/html": [
       "0"
      ],
      "text/latex": [
       "0"
      ],
      "text/markdown": [
       "0"
      ],
      "text/plain": [
       "[1] 0"
      ]
     },
     "metadata": {},
     "output_type": "display_data"
    }
   ],
   "source": [
    "sum(is.na(new_df))"
   ]
  },
  {
   "cell_type": "markdown",
   "id": "88670727",
   "metadata": {},
   "source": [
    "#### Dimensionality reduction based on PCA"
   ]
  },
  {
   "cell_type": "code",
   "execution_count": 94,
   "id": "75dc25a3",
   "metadata": {},
   "outputs": [],
   "source": [
    "# numeric variables\n",
    "num_cols <- sapply(new_df, is.numeric)"
   ]
  },
  {
   "cell_type": "code",
   "execution_count": 95,
   "id": "76a8a422",
   "metadata": {},
   "outputs": [],
   "source": [
    "# PCA \n",
    "pca <- prcomp(new_df[, num_cols], scale. = TRUE)"
   ]
  },
  {
   "cell_type": "code",
   "execution_count": 96,
   "id": "a54ec688",
   "metadata": {},
   "outputs": [
    {
     "data": {
      "text/plain": [
       "Importance of components:\n",
       "                          PC1    PC2    PC3    PC4    PC5    PC6\n",
       "Standard deviation     1.1448 1.0203 1.0092 0.9707 0.9414 0.8952\n",
       "Proportion of Variance 0.2184 0.1735 0.1698 0.1570 0.1477 0.1336\n",
       "Cumulative Proportion  0.2184 0.3919 0.5617 0.7187 0.8664 1.0000"
      ]
     },
     "metadata": {},
     "output_type": "display_data"
    }
   ],
   "source": [
    "# Summary of PCA results\n",
    "summary(pca)"
   ]
  },
  {
   "cell_type": "code",
   "execution_count": 97,
   "id": "3a0e7855",
   "metadata": {},
   "outputs": [],
   "source": [
    "# Extract the principal components\n",
    "principal_components <- pca$x"
   ]
  },
  {
   "cell_type": "code",
   "execution_count": 98,
   "id": "60514014",
   "metadata": {},
   "outputs": [
    {
     "data": {
      "image/png": "[encoded data removed]",
      "text/plain": [
       "Plot with title “pca”"
      ]
     },
     "metadata": {
      "image/png": {
       "height": 420,
       "width": 420
      }
     },
     "output_type": "display_data"
    }
   ],
   "source": [
    "# Optional: Scree plot\n",
    "plot(pca)"
   ]
  },
  {
   "cell_type": "code",
   "execution_count": 99,
   "id": "870e3b72",
   "metadata": {},
   "outputs": [],
   "source": [
    "# Assuming 'pca_result' contains the PCA-transformed features and 'new_df' is the original dataset\n",
    "df_new <- cbind(new_df, principal_components)"
   ]
  },
  {
   "cell_type": "markdown",
   "id": "37626ce6",
   "metadata": {},
   "source": [
    "#### Correlation matrix"
   ]
  },
  {
   "cell_type": "code",
   "execution_count": 100,
   "id": "9636cab7",
   "metadata": {},
   "outputs": [],
   "source": [
    "# convert factor to numeric\n",
    "factor_columns <- sapply(df_new, is.factor)\n",
    "df_new[factor_columns] <- lapply(df_new[factor_columns], as.numeric)\n",
    "\n",
    "# correlation matrix\n",
    "cormat <- round(cor(df_new), 2)"
   ]
  },
  {
   "cell_type": "code",
   "execution_count": 101,
   "id": "d71d0cdc",
   "metadata": {},
   "outputs": [],
   "source": [
    "get_upper_tri <- function(cormat)\n",
    "    \n",
    "{   \n",
    "    cormat[lower.tri(cormat)]<- NA\n",
    "    return(cormat)\n",
    "}"
   ]
  },
  {
   "cell_type": "code",
   "execution_count": 102,
   "id": "1bebfbb8",
   "metadata": {},
   "outputs": [],
   "source": [
    "upper_tri <- get_upper_tri(cormat)"
   ]
  },
  {
   "cell_type": "code",
   "execution_count": 103,
   "id": "cc847362",
   "metadata": {},
   "outputs": [],
   "source": [
    "# Melt the correlation matrix\n",
    "library(reshape2)\n",
    "cor_melt <- melt(upper_tri, na.rm = TRUE)"
   ]
  },
  {
   "cell_type": "code",
   "execution_count": 104,
   "id": "7205b486",
   "metadata": {},
   "outputs": [
    {
     "data": {
      "image/png": "[encoded data removed]",
      "text/plain": [
       "plot without title"
      ]
     },
     "metadata": {
      "image/png": {
       "height": 420,
       "width": 420
      }
     },
     "output_type": "display_data"
    }
   ],
   "source": [
    "# Heatmap\n",
    "library(ggplot2)\n",
    "\n",
    "ggplot(data = cor_melt, aes(Var2, Var1, fill = value))+\n",
    " geom_tile(color = \"white\")+\n",
    " scale_fill_gradient2(low = \"blue\", high = \"red\", mid = \"white\", \n",
    "   midpoint = 0, limit = c(-1,1), space = \"Lab\", \n",
    "   name=\"Pearson\\nCorrelation\") +\n",
    "  theme_minimal()+ \n",
    " theme(axis.text.x = element_text(angle = 45, vjust = 1, \n",
    "    size = 12, hjust = 1))+\n",
    " coord_fixed()"
   ]
  },
  {
   "cell_type": "markdown",
   "id": "6f08531b",
   "metadata": {},
   "source": [
    "#### Normalise the data"
   ]
  },
  {
   "cell_type": "code",
   "execution_count": 105,
   "id": "6cd11d9f",
   "metadata": {},
   "outputs": [],
   "source": [
    "# Normalize numerical variables using Min-Max scaling\n",
    "\n",
    "df_new[, sapply(df_new, is.numeric)] <- \n",
    "                apply(df_new[, sapply(df_new, is.numeric)], \n",
    "                2, function(x) (x - min(x)) / (max(x) - min(x)))"
   ]
  },
  {
   "cell_type": "code",
   "execution_count": 106,
   "id": "dca4e984",
   "metadata": {},
   "outputs": [
    {
     "name": "stdout",
     "output_type": "stream",
     "text": [
      "[1] \"Min-Max Scaled Data:\"\n",
      "        X39 State.gov    X77516  Bachelors       X13 Never.married Adm.clerical\n",
      "1 0.4520548 0.7142857 0.0482376 0.60000000 0.8000000     0.3333333    0.2307692\n",
      "2 0.2876712 0.4285714 0.1381134 0.73333333 0.5333333     0.0000000    0.3846154\n",
      "3 0.4931507 0.4285714 0.1510683 0.06666667 0.4000000     0.3333333    0.3846154\n",
      "4 0.1506849 0.4285714 0.2214884 0.60000000 0.8000000     0.3333333    0.6923077\n",
      "5 0.2739726 0.4285714 0.1849316 0.80000000 0.8666667     0.3333333    0.2307692\n",
      "6 0.4383562 0.4285714 0.1004482 0.40000000 0.2666667     0.5000000    0.5384615\n",
      "  Not.in.family White Male X2174 X0       X40 United.States X..50K       PC1\n",
      "1           0.0   1.0    1     0  0 0.1224490          0.95      0 0.7044156\n",
      "2           0.2   1.0    1     0  0 0.3979592          0.95      0 0.7318749\n",
      "3           0.0   0.5    1     0  0 0.3979592          0.95      0 0.7356167\n",
      "4           1.0   0.5    0     0  0 0.3979592          0.10      0 0.7049049\n",
      "5           1.0   1.0    0     0  0 0.3979592          0.95      0 0.6582984\n",
      "6           0.2   0.5    0     0  0 0.1530612          0.55      0 0.8482577\n",
      "        PC2       PC3       PC4       PC5       PC6\n",
      "1 0.6121467 0.6191537 0.7260180 0.4387581 0.2093077\n",
      "2 0.5528852 0.5279992 0.6860155 0.6113861 0.3598790\n",
      "3 0.5781410 0.5688989 0.5729885 0.6483968 0.3650378\n",
      "4 0.4842325 0.4276280 0.7247005 0.5726155 0.2699122\n",
      "5 0.5101074 0.4632679 0.7253265 0.5686131 0.2368172\n",
      "6 0.6181731 0.6370177 0.5751947 0.5349759 0.3817368\n"
     ]
    }
   ],
   "source": [
    "print(\"Min-Max Scaled Data:\")\n",
    "print(head(df_new))"
   ]
  },
  {
   "cell_type": "markdown",
   "id": "045d8897",
   "metadata": {},
   "source": [
    "#### Balance the data"
   ]
  },
  {
   "cell_type": "code",
   "execution_count": 107,
   "id": "81444cc1",
   "metadata": {},
   "outputs": [],
   "source": [
    "df_new <- ovun.sample(X..50K ~ ., data = df_new, method = \"both\", N = nrow(df), seed = 123)$data"
   ]
  },
  {
   "cell_type": "code",
   "execution_count": 108,
   "id": "0894966c",
   "metadata": {},
   "outputs": [],
   "source": [
    "write.csv(df_new, file = \"adult_r_preprocessed.csv\", row.names = FALSE) "
   ]
  },
  {
   "cell_type": "markdown",
   "id": "abdf809e",
   "metadata": {},
   "source": [
    "#### Modelling "
   ]
  },
  {
   "cell_type": "markdown",
   "id": "3f01989a",
   "metadata": {},
   "source": [
    "#### Train Test Split"
   ]
  },
  {
   "cell_type": "code",
   "execution_count": 109,
   "id": "1c9b76bb",
   "metadata": {},
   "outputs": [
    {
     "name": "stdout",
     "output_type": "stream",
     "text": [
      "[1] \"Class Distribution:\"\n",
      "\n",
      " <=50K   >50K \n",
      " 24697   7839 \n"
     ]
    }
   ],
   "source": [
    "class_distribution <- table(new_df$X..50K)\n",
    "print(\"Class Distribution:\")\n",
    "print(class_distribution)"
   ]
  },
  {
   "cell_type": "code",
   "execution_count": 110,
   "id": "f86ef09c",
   "metadata": {},
   "outputs": [],
   "source": [
    "# Train test Split\n",
    "set.seed(123)  \n",
    "trainIndex <- createDataPartition(df_new[[\"X..50K\"]], p = 0.7, list = FALSE)\n",
    "train_data <- df_new[trainIndex, , drop = FALSE] \n",
    "test_data <- df_new[-trainIndex, , drop = FALSE]  \n"
   ]
  },
  {
   "cell_type": "code",
   "execution_count": 111,
   "id": "436925dc",
   "metadata": {},
   "outputs": [
    {
     "name": "stdout",
     "output_type": "stream",
     "text": [
      "[1] \"Train Class Distribution:\"\n",
      "\n",
      "    0     1 \n",
      "11456 11336 \n",
      "[1] \"Test Class Distribution:\"\n",
      "\n",
      "   0    1 \n",
      "5035 4733 \n"
     ]
    }
   ],
   "source": [
    "train_class_distribution <- table(train_data$X..50K)\n",
    "test_class_distribution <- table(test_data$X..50K)\n",
    "\n",
    "print(\"Train Class Distribution:\")\n",
    "print(train_class_distribution)\n",
    "print(\"Test Class Distribution:\")\n",
    "print(test_class_distribution)"
   ]
  },
  {
   "cell_type": "code",
   "execution_count": 112,
   "id": "80a11fbf",
   "metadata": {},
   "outputs": [
    {
     "data": {
      "text/html": [
       "'numeric'"
      ],
      "text/latex": [
       "'numeric'"
      ],
      "text/markdown": [
       "'numeric'"
      ],
      "text/plain": [
       "[1] \"numeric\""
      ]
     },
     "metadata": {},
     "output_type": "display_data"
    },
    {
     "data": {
      "text/html": [
       "'numeric'"
      ],
      "text/latex": [
       "'numeric'"
      ],
      "text/markdown": [
       "'numeric'"
      ],
      "text/plain": [
       "[1] \"numeric\""
      ]
     },
     "metadata": {},
     "output_type": "display_data"
    }
   ],
   "source": [
    "class(train_data$X..50K)\n",
    "class(test_data$X..50K)"
   ]
  },
  {
   "cell_type": "code",
   "execution_count": 113,
   "id": "8435124d",
   "metadata": {},
   "outputs": [],
   "source": [
    "train_data$X..50K <- as.factor(train_data$X..50K)\n",
    "test_data$X..50K <- as.factor(test_data$X..50K)"
   ]
  },
  {
   "cell_type": "markdown",
   "id": "ae33627d",
   "metadata": {},
   "source": [
    "#### Random Forest"
   ]
  },
  {
   "cell_type": "code",
   "execution_count": 114,
   "id": "c1261663",
   "metadata": {},
   "outputs": [],
   "source": [
    "rf <- randomForest(X..50K ~ ., \n",
    "                   data = train_data, \n",
    "                   ntree = 500, \n",
    "                   type = \"classification\"\n",
    ")"
   ]
  },
  {
   "cell_type": "code",
   "execution_count": 115,
   "id": "a0b96840",
   "metadata": {},
   "outputs": [
    {
     "data": {
      "text/plain": [
       "                Length Class  Mode     \n",
       "call                5  -none- call     \n",
       "type                1  -none- character\n",
       "predicted       22792  factor numeric  \n",
       "err.rate         1500  -none- numeric  \n",
       "confusion           6  -none- numeric  \n",
       "votes           45584  matrix numeric  \n",
       "oob.times       22792  -none- numeric  \n",
       "classes             2  -none- character\n",
       "importance         20  -none- numeric  \n",
       "importanceSD        0  -none- NULL     \n",
       "localImportance     0  -none- NULL     \n",
       "proximity           0  -none- NULL     \n",
       "ntree               1  -none- numeric  \n",
       "mtry                1  -none- numeric  \n",
       "forest             14  -none- list     \n",
       "y               22792  factor numeric  \n",
       "test                0  -none- NULL     \n",
       "inbag               0  -none- NULL     \n",
       "terms               3  terms  call     "
      ]
     },
     "metadata": {},
     "output_type": "display_data"
    }
   ],
   "source": [
    "summary(rf)"
   ]
  },
  {
   "cell_type": "code",
   "execution_count": 116,
   "id": "fd5e53d4",
   "metadata": {},
   "outputs": [],
   "source": [
    "# Make predictions on the test set\n",
    "pred <- predict(rf, test_data)"
   ]
  },
  {
   "cell_type": "code",
   "execution_count": 117,
   "id": "6e23da27",
   "metadata": {},
   "outputs": [
    {
     "name": "stdout",
     "output_type": "stream",
     "text": [
      "    \n",
      "pred    0    1\n",
      "   0 4491  219\n",
      "   1  544 4514\n",
      "[1] \"Accuracy: 0.921887796887797\"\n"
     ]
    }
   ],
   "source": [
    "confusion_matrix <- table(pred, test_data$X..50K)\n",
    "accuracy <- sum(diag(confusion_matrix)) / sum(confusion_matrix)\n",
    "print(confusion_matrix)\n",
    "print(paste(\"Accuracy:\", accuracy))"
   ]
  },
  {
   "cell_type": "code",
   "execution_count": 118,
   "id": "3a959b1f",
   "metadata": {},
   "outputs": [
    {
     "name": "stdout",
     "output_type": "stream",
     "text": [
      "F1 Score class 0: 0.9217034 \n",
      "F1 Score class 1: 0.9220713 \n"
     ]
    }
   ],
   "source": [
    "precision_0 <- 4491 / (4491 + 544)\n",
    "recall_0 <- 4491 / (4491 + 219)\n",
    "precision_1 <- 4514 / (4514 + 219)\n",
    "recall_1 <- 4514 / (4514 + 544)\n",
    "\n",
    "f1_0 <- 2 * (precision_0 * recall_0) / (precision_0 + recall_0)\n",
    "\n",
    "f1_1 <- 2 * (precision_1 * recall_1) / (precision_1 + recall_1)\n",
    "\n",
    "cat(\"F1 Score class 0:\", f1_0, \"\\n\")\n",
    "cat(\"F1 Score class 1:\", f1_1, \"\\n\")\n"
   ]
  },
  {
   "cell_type": "markdown",
   "id": "087b528a",
   "metadata": {},
   "source": [
    "#### Gradient Boosting"
   ]
  },
  {
   "cell_type": "code",
   "execution_count": 119,
   "id": "c5479286",
   "metadata": {},
   "outputs": [],
   "source": [
    "# Set seed for reproducibility\n",
    "set.seed(123)"
   ]
  },
  {
   "cell_type": "code",
   "execution_count": 120,
   "id": "59b495e4",
   "metadata": {},
   "outputs": [],
   "source": [
    "# Split the data into training and testing sets\n",
    "split <- sample.split(df_new, SplitRatio = 0.8) "
   ]
  },
  {
   "cell_type": "code",
   "execution_count": 121,
   "id": "bafb49ad",
   "metadata": {},
   "outputs": [],
   "source": [
    "# Create the training set\n",
    "train_data <- subset(df_new, split == TRUE)"
   ]
  },
  {
   "cell_type": "code",
   "execution_count": 122,
   "id": "c703e1f7",
   "metadata": {},
   "outputs": [],
   "source": [
    "# Create the testing set\n",
    "test_data <- subset(df_new, split == FALSE)"
   ]
  },
  {
   "cell_type": "code",
   "execution_count": 123,
   "id": "33441e85",
   "metadata": {},
   "outputs": [],
   "source": [
    "# Perform one-hot encoding on factor variables\n",
    "train_data_encoded <- model.matrix(~ . - 1, data = train_data[, -which(names(train_data) == \"X..50K\")])\n",
    "test_data_encoded <- model.matrix(~ . - 1, data = test_data[, -which(names(test_data) == \"X..50K\")])"
   ]
  },
  {
   "cell_type": "code",
   "execution_count": 124,
   "id": "48ccea50",
   "metadata": {},
   "outputs": [],
   "source": [
    "# # Encode the target variable as a factor\n",
    "# train_data$X..50K <- as.factor(train_data$X..50K)"
   ]
  },
  {
   "cell_type": "code",
   "execution_count": 125,
   "id": "f2d63d70",
   "metadata": {},
   "outputs": [],
   "source": [
    "# # Convert factor levels to numeric (0 and 1)\n",
    "# train_data$X..50K <- as.numeric(train_data$X..50K) - 1"
   ]
  },
  {
   "cell_type": "code",
   "execution_count": 126,
   "id": "b655d990",
   "metadata": {
    "scrolled": true
   },
   "outputs": [
    {
     "name": "stdout",
     "output_type": "stream",
     "text": [
      "[1]\ttrain-mlogloss:0.565105 \n",
      "[2]\ttrain-mlogloss:0.494267 \n",
      "[3]\ttrain-mlogloss:0.449428 \n",
      "[4]\ttrain-mlogloss:0.418113 \n",
      "[5]\ttrain-mlogloss:0.395950 \n",
      "[6]\ttrain-mlogloss:0.380102 \n",
      "[7]\ttrain-mlogloss:0.368355 \n",
      "[8]\ttrain-mlogloss:0.359206 \n",
      "[9]\ttrain-mlogloss:0.351559 \n",
      "[10]\ttrain-mlogloss:0.343710 \n",
      "[11]\ttrain-mlogloss:0.339144 \n",
      "[12]\ttrain-mlogloss:0.335627 \n",
      "[13]\ttrain-mlogloss:0.332891 \n",
      "[14]\ttrain-mlogloss:0.328116 \n",
      "[15]\ttrain-mlogloss:0.322597 \n",
      "[16]\ttrain-mlogloss:0.320032 \n",
      "[17]\ttrain-mlogloss:0.312654 \n",
      "[18]\ttrain-mlogloss:0.307967 \n",
      "[19]\ttrain-mlogloss:0.305633 \n",
      "[20]\ttrain-mlogloss:0.302984 \n",
      "[21]\ttrain-mlogloss:0.301146 \n",
      "[22]\ttrain-mlogloss:0.297404 \n",
      "[23]\ttrain-mlogloss:0.291956 \n",
      "[24]\ttrain-mlogloss:0.290337 \n",
      "[25]\ttrain-mlogloss:0.288443 \n",
      "[26]\ttrain-mlogloss:0.285173 \n",
      "[27]\ttrain-mlogloss:0.283953 \n",
      "[28]\ttrain-mlogloss:0.282578 \n",
      "[29]\ttrain-mlogloss:0.282032 \n",
      "[30]\ttrain-mlogloss:0.281155 \n",
      "[31]\ttrain-mlogloss:0.279320 \n",
      "[32]\ttrain-mlogloss:0.276558 \n",
      "[33]\ttrain-mlogloss:0.273846 \n",
      "[34]\ttrain-mlogloss:0.271320 \n",
      "[35]\ttrain-mlogloss:0.269388 \n",
      "[36]\ttrain-mlogloss:0.266394 \n",
      "[37]\ttrain-mlogloss:0.265214 \n",
      "[38]\ttrain-mlogloss:0.262235 \n",
      "[39]\ttrain-mlogloss:0.261469 \n",
      "[40]\ttrain-mlogloss:0.260794 \n",
      "[41]\ttrain-mlogloss:0.258632 \n",
      "[42]\ttrain-mlogloss:0.258216 \n",
      "[43]\ttrain-mlogloss:0.256284 \n",
      "[44]\ttrain-mlogloss:0.254136 \n",
      "[45]\ttrain-mlogloss:0.253483 \n",
      "[46]\ttrain-mlogloss:0.250783 \n",
      "[47]\ttrain-mlogloss:0.247946 \n",
      "[48]\ttrain-mlogloss:0.245539 \n",
      "[49]\ttrain-mlogloss:0.244461 \n",
      "[50]\ttrain-mlogloss:0.244001 \n",
      "[51]\ttrain-mlogloss:0.243024 \n",
      "[52]\ttrain-mlogloss:0.242298 \n",
      "[53]\ttrain-mlogloss:0.241284 \n",
      "[54]\ttrain-mlogloss:0.238945 \n",
      "[55]\ttrain-mlogloss:0.236509 \n",
      "[56]\ttrain-mlogloss:0.234221 \n",
      "[57]\ttrain-mlogloss:0.233295 \n",
      "[58]\ttrain-mlogloss:0.230352 \n",
      "[59]\ttrain-mlogloss:0.229239 \n",
      "[60]\ttrain-mlogloss:0.228423 \n",
      "[61]\ttrain-mlogloss:0.227759 \n",
      "[62]\ttrain-mlogloss:0.227273 \n",
      "[63]\ttrain-mlogloss:0.225452 \n",
      "[64]\ttrain-mlogloss:0.223134 \n",
      "[65]\ttrain-mlogloss:0.222195 \n",
      "[66]\ttrain-mlogloss:0.221856 \n",
      "[67]\ttrain-mlogloss:0.221441 \n",
      "[68]\ttrain-mlogloss:0.217431 \n",
      "[69]\ttrain-mlogloss:0.216276 \n",
      "[70]\ttrain-mlogloss:0.213838 \n",
      "[71]\ttrain-mlogloss:0.212758 \n",
      "[72]\ttrain-mlogloss:0.212291 \n",
      "[73]\ttrain-mlogloss:0.211587 \n",
      "[74]\ttrain-mlogloss:0.210320 \n",
      "[75]\ttrain-mlogloss:0.210063 \n",
      "[76]\ttrain-mlogloss:0.208145 \n",
      "[77]\ttrain-mlogloss:0.205640 \n",
      "[78]\ttrain-mlogloss:0.204284 \n",
      "[79]\ttrain-mlogloss:0.202474 \n",
      "[80]\ttrain-mlogloss:0.202165 \n",
      "[81]\ttrain-mlogloss:0.200541 \n",
      "[82]\ttrain-mlogloss:0.198687 \n",
      "[83]\ttrain-mlogloss:0.197611 \n",
      "[84]\ttrain-mlogloss:0.197000 \n",
      "[85]\ttrain-mlogloss:0.196022 \n",
      "[86]\ttrain-mlogloss:0.195337 \n",
      "[87]\ttrain-mlogloss:0.193537 \n",
      "[88]\ttrain-mlogloss:0.192668 \n",
      "[89]\ttrain-mlogloss:0.190985 \n",
      "[90]\ttrain-mlogloss:0.189285 \n",
      "[91]\ttrain-mlogloss:0.187426 \n",
      "[92]\ttrain-mlogloss:0.186584 \n",
      "[93]\ttrain-mlogloss:0.185269 \n",
      "[94]\ttrain-mlogloss:0.184766 \n",
      "[95]\ttrain-mlogloss:0.183193 \n",
      "[96]\ttrain-mlogloss:0.182970 \n",
      "[97]\ttrain-mlogloss:0.181580 \n",
      "[98]\ttrain-mlogloss:0.179307 \n",
      "[99]\ttrain-mlogloss:0.178478 \n",
      "[100]\ttrain-mlogloss:0.176949 \n"
     ]
    }
   ],
   "source": [
    "# Train the XGBoost model\n",
    "xgb <- xgboost(\n",
    "  data = as.matrix(train_data_encoded),\n",
    "  label = train_data$X..50K,\n",
    "  nrounds = 100,\n",
    "  objective = \"multi:softmax\",\n",
    "  num_class = 2)"
   ]
  },
  {
   "cell_type": "code",
   "execution_count": 127,
   "id": "f3a19ee8",
   "metadata": {},
   "outputs": [
    {
     "name": "stdout",
     "output_type": "stream",
     "text": [
      "##### xgb.Booster\n",
      "raw: 644.3 Kb \n",
      "call:\n",
      "  xgb.train(params = params, data = dtrain, nrounds = nrounds, \n",
      "    watchlist = watchlist, verbose = verbose, print_every_n = print_every_n, \n",
      "    early_stopping_rounds = early_stopping_rounds, maximize = maximize, \n",
      "    save_period = save_period, save_name = save_name, xgb_model = xgb_model, \n",
      "    callbacks = callbacks, objective = \"multi:softmax\", num_class = 2)\n",
      "params (as set within xgb.train):\n",
      "  objective = \"multi:softmax\", num_class = \"2\", validate_parameters = \"TRUE\"\n",
      "xgb.attributes:\n",
      "  niter\n",
      "callbacks:\n",
      "  cb.print.evaluation(period = print_every_n)\n",
      "  cb.evaluation.log()\n",
      "# of features: 20 \n",
      "niter: 100\n",
      "nfeatures : 20 \n",
      "evaluation_log:\n",
      "     iter train_mlogloss\n",
      "    <num>          <num>\n",
      "        1      0.5651051\n",
      "        2      0.4942675\n",
      "---                     \n",
      "       99      0.1784785\n",
      "      100      0.1769487\n"
     ]
    }
   ],
   "source": [
    "print(xgb)"
   ]
  },
  {
   "cell_type": "code",
   "execution_count": 128,
   "id": "00d8cef6",
   "metadata": {},
   "outputs": [
    {
     "data": {
      "text/plain": [
       "               Length Class              Mode       \n",
       "handle              1 xgb.Booster.handle externalptr\n",
       "raw            659739 -none-             raw        \n",
       "niter               1 -none-             numeric    \n",
       "evaluation_log      2 data.table         list       \n",
       "call               15 -none-             call       \n",
       "params              3 -none-             list       \n",
       "callbacks           2 -none-             list       \n",
       "feature_names      20 -none-             character  \n",
       "nfeatures           1 -none-             numeric    "
      ]
     },
     "metadata": {},
     "output_type": "display_data"
    }
   ],
   "source": [
    "summary(xgb)"
   ]
  },
  {
   "cell_type": "code",
   "execution_count": 129,
   "id": "29a108c5",
   "metadata": {},
   "outputs": [],
   "source": [
    "pred_test <- predict(xgb, test_data_encoded)"
   ]
  },
  {
   "cell_type": "code",
   "execution_count": 130,
   "id": "3cf3736b",
   "metadata": {},
   "outputs": [],
   "source": [
    "pred_test <- as.factor(pred_test)"
   ]
  },
  {
   "cell_type": "code",
   "execution_count": 131,
   "id": "350238c0",
   "metadata": {},
   "outputs": [
    {
     "name": "stdout",
     "output_type": "stream",
     "text": [
      "[1] \"Accuracy: 0.89125386996904\"\n"
     ]
    }
   ],
   "source": [
    "accuracy <- mean(pred_test == test_data$X..50K)\n",
    "print(paste(\"Accuracy:\", accuracy))"
   ]
  },
  {
   "cell_type": "code",
   "execution_count": null,
   "id": "37551e54",
   "metadata": {},
   "outputs": [],
   "source": []
  },
  {
   "cell_type": "code",
   "execution_count": null,
   "id": "e489dbe1",
   "metadata": {},
   "outputs": [],
   "source": []
  }
 ],
 "metadata": {
  "kernelspec": {
   "display_name": "R",
   "language": "R",
   "name": "ir"
  },
  "language_info": {
   "codemirror_mode": "r",
   "file_extension": ".r",
   "mimetype": "text/x-r-source",
   "name": "R",
   "pygments_lexer": "r",
   "version": "4.3.2"
  }
 },
 "nbformat": 4,
 "nbformat_minor": 5
}
