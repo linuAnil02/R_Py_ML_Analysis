{
 "cells": [
  {
   "cell_type": "code",
   "execution_count": 1,
   "id": "9906c299",
   "metadata": {},
   "outputs": [],
   "source": [
    "# install.packages(\"caret\")\n",
    "# install.packages(\"ROSE\")\n",
    "# install.packages(\"randomForest\")\n",
    "# install.packages(\"xgboost\")\n",
    "# install.packages(\"caTools\")"
   ]
  },
  {
   "cell_type": "code",
   "execution_count": 5,
   "id": "85927354",
   "metadata": {},
   "outputs": [],
   "source": [
    "library(dplyr)       \n",
    "library(caret)\n",
    "library(ROSE)\n",
    "library(randomForest)\n",
    "library(xgboost)\n",
    "library(caTools)"
   ]
  },
  {
   "cell_type": "markdown",
   "id": "b2fff31a",
   "metadata": {},
   "source": [
    "#### Load the Dataset"
   ]
  },
  {
   "cell_type": "code",
   "execution_count": 6,
   "id": "af7f599c",
   "metadata": {},
   "outputs": [
    {
     "data": {
      "text/html": [
       "<table class=\"dataframe\">\n",
       "<caption>A data.frame: 61069 × 21</caption>\n",
       "<thead>\n",
       "\t<tr><th scope=col>S</th><th scope=col>cap.diameter</th><th scope=col>cap.shape</th><th scope=col>cap.surface</th><th scope=col>cap.color</th><th scope=col>does.bruise.or.bleed</th><th scope=col>gill.attachment</th><th scope=col>gill.spacing</th><th scope=col>gill.color</th><th scope=col>stem.height</th><th scope=col>⋯</th><th scope=col>stem.root</th><th scope=col>stem.surface</th><th scope=col>stem.color</th><th scope=col>veil.type</th><th scope=col>veil.color</th><th scope=col>has.ring</th><th scope=col>ring.type</th><th scope=col>spore.print.color</th><th scope=col>habitat</th><th scope=col>season</th></tr>\n",
       "\t<tr><th scope=col>&lt;chr&gt;</th><th scope=col>&lt;dbl&gt;</th><th scope=col>&lt;chr&gt;</th><th scope=col>&lt;chr&gt;</th><th scope=col>&lt;chr&gt;</th><th scope=col>&lt;chr&gt;</th><th scope=col>&lt;chr&gt;</th><th scope=col>&lt;chr&gt;</th><th scope=col>&lt;chr&gt;</th><th scope=col>&lt;dbl&gt;</th><th scope=col>⋯</th><th scope=col>&lt;chr&gt;</th><th scope=col>&lt;chr&gt;</th><th scope=col>&lt;chr&gt;</th><th scope=col>&lt;chr&gt;</th><th scope=col>&lt;chr&gt;</th><th scope=col>&lt;chr&gt;</th><th scope=col>&lt;chr&gt;</th><th scope=col>&lt;chr&gt;</th><th scope=col>&lt;chr&gt;</th><th scope=col>&lt;chr&gt;</th></tr>\n",
       "</thead>\n",
       "<tbody>\n",
       "\t<tr><td>p</td><td>15.26</td><td>x</td><td>g</td><td>o</td><td>f</td><td>e</td><td></td><td>w</td><td>16.95</td><td>⋯</td><td>s</td><td>y</td><td>w</td><td>u</td><td>w</td><td>t</td><td>g</td><td></td><td>d</td><td>w</td></tr>\n",
       "\t<tr><td>p</td><td>16.60</td><td>x</td><td>g</td><td>o</td><td>f</td><td>e</td><td></td><td>w</td><td>17.99</td><td>⋯</td><td>s</td><td>y</td><td>w</td><td>u</td><td>w</td><td>t</td><td>g</td><td></td><td>d</td><td>u</td></tr>\n",
       "\t<tr><td>p</td><td>14.07</td><td>x</td><td>g</td><td>o</td><td>f</td><td>e</td><td></td><td>w</td><td>17.80</td><td>⋯</td><td>s</td><td>y</td><td>w</td><td>u</td><td>w</td><td>t</td><td>g</td><td></td><td>d</td><td>w</td></tr>\n",
       "\t<tr><td>p</td><td>14.17</td><td>f</td><td>h</td><td>e</td><td>f</td><td>e</td><td></td><td>w</td><td>15.77</td><td>⋯</td><td>s</td><td>y</td><td>w</td><td>u</td><td>w</td><td>t</td><td>p</td><td></td><td>d</td><td>w</td></tr>\n",
       "\t<tr><td>p</td><td>14.64</td><td>x</td><td>h</td><td>o</td><td>f</td><td>e</td><td></td><td>w</td><td>16.53</td><td>⋯</td><td>s</td><td>y</td><td>w</td><td>u</td><td>w</td><td>t</td><td>p</td><td></td><td>d</td><td>w</td></tr>\n",
       "\t<tr><td>p</td><td>15.34</td><td>x</td><td>g</td><td>o</td><td>f</td><td>e</td><td></td><td>w</td><td>17.84</td><td>⋯</td><td>s</td><td>y</td><td>w</td><td>u</td><td>w</td><td>t</td><td>p</td><td></td><td>d</td><td>u</td></tr>\n",
       "\t<tr><td>p</td><td>14.85</td><td>f</td><td>h</td><td>o</td><td>f</td><td>e</td><td></td><td>w</td><td>17.71</td><td>⋯</td><td>s</td><td>y</td><td>w</td><td>u</td><td>w</td><td>t</td><td>g</td><td></td><td>d</td><td>w</td></tr>\n",
       "\t<tr><td>p</td><td>14.86</td><td>x</td><td>h</td><td>e</td><td>f</td><td>e</td><td></td><td>w</td><td>17.03</td><td>⋯</td><td>s</td><td>y</td><td>w</td><td>u</td><td>w</td><td>t</td><td>p</td><td></td><td>d</td><td>u</td></tr>\n",
       "\t<tr><td>p</td><td>12.85</td><td>f</td><td>g</td><td>o</td><td>f</td><td>e</td><td></td><td>w</td><td>17.27</td><td>⋯</td><td>s</td><td>y</td><td>w</td><td>u</td><td>w</td><td>t</td><td>p</td><td></td><td>d</td><td>a</td></tr>\n",
       "\t<tr><td>p</td><td>13.55</td><td>f</td><td>g</td><td>e</td><td>f</td><td>e</td><td></td><td>w</td><td>16.04</td><td>⋯</td><td>s</td><td>y</td><td>w</td><td>u</td><td>w</td><td>t</td><td>p</td><td></td><td>d</td><td>w</td></tr>\n",
       "\t<tr><td>p</td><td>14.17</td><td>f</td><td>h</td><td>e</td><td>f</td><td>e</td><td></td><td>w</td><td>17.86</td><td>⋯</td><td>s</td><td>y</td><td>w</td><td>u</td><td>w</td><td>t</td><td>p</td><td></td><td>d</td><td>a</td></tr>\n",
       "\t<tr><td>p</td><td>13.40</td><td>x</td><td>h</td><td>o</td><td>f</td><td>e</td><td></td><td>w</td><td>17.95</td><td>⋯</td><td>s</td><td>y</td><td>w</td><td>u</td><td>w</td><td>t</td><td>p</td><td></td><td>d</td><td>u</td></tr>\n",
       "\t<tr><td>p</td><td>17.37</td><td>x</td><td>h</td><td>o</td><td>f</td><td>e</td><td></td><td>w</td><td>18.10</td><td>⋯</td><td>s</td><td>y</td><td>w</td><td>u</td><td>w</td><td>t</td><td>g</td><td></td><td>d</td><td>u</td></tr>\n",
       "\t<tr><td>p</td><td>16.56</td><td>x</td><td>h</td><td>o</td><td>f</td><td>e</td><td></td><td>w</td><td>18.89</td><td>⋯</td><td>s</td><td>y</td><td>w</td><td>u</td><td>w</td><td>t</td><td>p</td><td></td><td>d</td><td>u</td></tr>\n",
       "\t<tr><td>p</td><td>15.37</td><td>x</td><td>h</td><td>e</td><td>f</td><td>e</td><td></td><td>w</td><td>18.19</td><td>⋯</td><td>s</td><td>y</td><td>w</td><td>u</td><td>w</td><td>t</td><td>g</td><td></td><td>d</td><td>a</td></tr>\n",
       "\t<tr><td>p</td><td>15.54</td><td>f</td><td>h</td><td>e</td><td>f</td><td>e</td><td></td><td>w</td><td>18.26</td><td>⋯</td><td>s</td><td>y</td><td>w</td><td>u</td><td>w</td><td>t</td><td>p</td><td></td><td>d</td><td>a</td></tr>\n",
       "\t<tr><td>p</td><td>15.19</td><td>x</td><td>g</td><td>e</td><td>f</td><td>e</td><td></td><td>w</td><td>17.42</td><td>⋯</td><td>s</td><td>y</td><td>w</td><td>u</td><td>w</td><td>t</td><td>p</td><td></td><td>d</td><td>a</td></tr>\n",
       "\t<tr><td>p</td><td>17.40</td><td>x</td><td>h</td><td>o</td><td>f</td><td>e</td><td></td><td>w</td><td>18.48</td><td>⋯</td><td>s</td><td>y</td><td>w</td><td>u</td><td>w</td><td>t</td><td>p</td><td></td><td>d</td><td>a</td></tr>\n",
       "\t<tr><td>p</td><td>16.16</td><td>x</td><td>g</td><td>o</td><td>f</td><td>e</td><td></td><td>w</td><td>19.46</td><td>⋯</td><td>s</td><td>y</td><td>w</td><td>u</td><td>w</td><td>t</td><td>p</td><td></td><td>d</td><td>w</td></tr>\n",
       "\t<tr><td>p</td><td>16.93</td><td>x</td><td>h</td><td>e</td><td>f</td><td>e</td><td></td><td>w</td><td>18.31</td><td>⋯</td><td>s</td><td>y</td><td>w</td><td>u</td><td>w</td><td>t</td><td>p</td><td></td><td>d</td><td>u</td></tr>\n",
       "\t<tr><td>p</td><td>13.00</td><td>f</td><td>g</td><td>e</td><td>f</td><td>e</td><td></td><td>w</td><td>17.30</td><td>⋯</td><td>s</td><td>y</td><td>w</td><td>u</td><td>w</td><td>t</td><td>g</td><td></td><td>d</td><td>w</td></tr>\n",
       "\t<tr><td>p</td><td>13.06</td><td>x</td><td>g</td><td>e</td><td>f</td><td>e</td><td></td><td>w</td><td>16.90</td><td>⋯</td><td>s</td><td>y</td><td>w</td><td>u</td><td>w</td><td>t</td><td>g</td><td></td><td>d</td><td>u</td></tr>\n",
       "\t<tr><td>p</td><td>17.23</td><td>x</td><td>h</td><td>o</td><td>f</td><td>e</td><td></td><td>w</td><td>17.63</td><td>⋯</td><td>s</td><td>y</td><td>w</td><td>u</td><td>w</td><td>t</td><td>g</td><td></td><td>d</td><td>w</td></tr>\n",
       "\t<tr><td>p</td><td>14.39</td><td>x</td><td>g</td><td>e</td><td>f</td><td>e</td><td></td><td>w</td><td>16.98</td><td>⋯</td><td>s</td><td>y</td><td>w</td><td>u</td><td>w</td><td>t</td><td>p</td><td></td><td>d</td><td>w</td></tr>\n",
       "\t<tr><td>p</td><td>15.56</td><td>f</td><td>g</td><td>o</td><td>f</td><td>e</td><td></td><td>w</td><td>17.28</td><td>⋯</td><td>s</td><td>y</td><td>w</td><td>u</td><td>w</td><td>t</td><td>p</td><td></td><td>d</td><td>u</td></tr>\n",
       "\t<tr><td>p</td><td>13.20</td><td>x</td><td>g</td><td>o</td><td>f</td><td>e</td><td></td><td>w</td><td>16.91</td><td>⋯</td><td>s</td><td>y</td><td>w</td><td>u</td><td>w</td><td>t</td><td>p</td><td></td><td>d</td><td>w</td></tr>\n",
       "\t<tr><td>p</td><td>13.90</td><td>f</td><td>h</td><td>e</td><td>f</td><td>e</td><td></td><td>w</td><td>17.81</td><td>⋯</td><td>s</td><td>y</td><td>w</td><td>u</td><td>w</td><td>t</td><td>g</td><td></td><td>d</td><td>u</td></tr>\n",
       "\t<tr><td>p</td><td>16.38</td><td>f</td><td>g</td><td>o</td><td>f</td><td>e</td><td></td><td>w</td><td>18.36</td><td>⋯</td><td>s</td><td>y</td><td>w</td><td>u</td><td>w</td><td>t</td><td>p</td><td></td><td>d</td><td>u</td></tr>\n",
       "\t<tr><td>p</td><td>13.30</td><td>x</td><td>h</td><td>e</td><td>f</td><td>e</td><td></td><td>w</td><td>17.60</td><td>⋯</td><td>s</td><td>y</td><td>w</td><td>u</td><td>w</td><td>t</td><td>p</td><td></td><td>d</td><td>a</td></tr>\n",
       "\t<tr><td>p</td><td>15.95</td><td>f</td><td>g</td><td>o</td><td>f</td><td>e</td><td></td><td>w</td><td>16.42</td><td>⋯</td><td>s</td><td>y</td><td>w</td><td>u</td><td>w</td><td>t</td><td>g</td><td></td><td>d</td><td>w</td></tr>\n",
       "\t<tr><td>⋮</td><td>⋮</td><td>⋮</td><td>⋮</td><td>⋮</td><td>⋮</td><td>⋮</td><td>⋮</td><td>⋮</td><td>⋮</td><td>⋱</td><td>⋮</td><td>⋮</td><td>⋮</td><td>⋮</td><td>⋮</td><td>⋮</td><td>⋮</td><td>⋮</td><td>⋮</td><td>⋮</td></tr>\n",
       "\t<tr><td>p</td><td>1.20</td><td>s</td><td>s</td><td>y</td><td>f</td><td>f</td><td>f</td><td>f</td><td>3.32</td><td>⋯</td><td></td><td></td><td>y</td><td></td><td></td><td>f</td><td>f</td><td></td><td>d</td><td>u</td></tr>\n",
       "\t<tr><td>p</td><td>1.16</td><td>x</td><td>s</td><td>y</td><td>f</td><td>f</td><td>f</td><td>f</td><td>2.57</td><td>⋯</td><td></td><td></td><td>y</td><td></td><td></td><td>f</td><td>f</td><td></td><td>d</td><td>a</td></tr>\n",
       "\t<tr><td>p</td><td>1.26</td><td>x</td><td>s</td><td>y</td><td>f</td><td>f</td><td>f</td><td>f</td><td>3.97</td><td>⋯</td><td></td><td></td><td>y</td><td></td><td></td><td>f</td><td>f</td><td></td><td>d</td><td>u</td></tr>\n",
       "\t<tr><td>p</td><td>1.16</td><td>f</td><td>s</td><td>y</td><td>f</td><td>f</td><td>f</td><td>f</td><td>3.68</td><td>⋯</td><td></td><td></td><td>y</td><td></td><td></td><td>f</td><td>f</td><td></td><td>d</td><td>a</td></tr>\n",
       "\t<tr><td>p</td><td>1.21</td><td>x</td><td>s</td><td>y</td><td>f</td><td>f</td><td>f</td><td>f</td><td>3.39</td><td>⋯</td><td></td><td></td><td>y</td><td></td><td></td><td>f</td><td>f</td><td></td><td>d</td><td>u</td></tr>\n",
       "\t<tr><td>p</td><td>1.34</td><td>x</td><td>s</td><td>y</td><td>f</td><td>f</td><td>f</td><td>f</td><td>4.01</td><td>⋯</td><td></td><td></td><td>y</td><td></td><td></td><td>f</td><td>f</td><td></td><td>d</td><td>a</td></tr>\n",
       "\t<tr><td>p</td><td>1.16</td><td>f</td><td>s</td><td>y</td><td>f</td><td>f</td><td>f</td><td>f</td><td>3.36</td><td>⋯</td><td></td><td></td><td>y</td><td></td><td></td><td>f</td><td>f</td><td></td><td>d</td><td>a</td></tr>\n",
       "\t<tr><td>p</td><td>1.20</td><td>s</td><td>s</td><td>y</td><td>f</td><td>f</td><td>f</td><td>f</td><td>3.61</td><td>⋯</td><td></td><td></td><td>y</td><td></td><td></td><td>f</td><td>f</td><td></td><td>d</td><td>u</td></tr>\n",
       "\t<tr><td>p</td><td>1.26</td><td>f</td><td>s</td><td>y</td><td>f</td><td>f</td><td>f</td><td>f</td><td>3.43</td><td>⋯</td><td></td><td></td><td>y</td><td></td><td></td><td>f</td><td>f</td><td></td><td>d</td><td>u</td></tr>\n",
       "\t<tr><td>p</td><td>1.19</td><td>x</td><td>s</td><td>y</td><td>f</td><td>f</td><td>f</td><td>f</td><td>3.24</td><td>⋯</td><td></td><td></td><td>y</td><td></td><td></td><td>f</td><td>f</td><td></td><td>d</td><td>a</td></tr>\n",
       "\t<tr><td>p</td><td>1.16</td><td>x</td><td>s</td><td>y</td><td>f</td><td>f</td><td>f</td><td>f</td><td>3.67</td><td>⋯</td><td></td><td></td><td>y</td><td></td><td></td><td>f</td><td>f</td><td></td><td>d</td><td>a</td></tr>\n",
       "\t<tr><td>p</td><td>1.15</td><td>f</td><td>s</td><td>y</td><td>f</td><td>f</td><td>f</td><td>f</td><td>3.04</td><td>⋯</td><td></td><td></td><td>y</td><td></td><td></td><td>f</td><td>f</td><td></td><td>d</td><td>u</td></tr>\n",
       "\t<tr><td>p</td><td>1.17</td><td>x</td><td>s</td><td>y</td><td>f</td><td>f</td><td>f</td><td>f</td><td>3.13</td><td>⋯</td><td></td><td></td><td>y</td><td></td><td></td><td>f</td><td>f</td><td></td><td>d</td><td>u</td></tr>\n",
       "\t<tr><td>p</td><td>1.30</td><td>f</td><td>s</td><td>y</td><td>f</td><td>f</td><td>f</td><td>f</td><td>3.34</td><td>⋯</td><td></td><td></td><td>y</td><td></td><td></td><td>f</td><td>f</td><td></td><td>d</td><td>u</td></tr>\n",
       "\t<tr><td>p</td><td>1.31</td><td>x</td><td>s</td><td>y</td><td>f</td><td>f</td><td>f</td><td>f</td><td>4.00</td><td>⋯</td><td></td><td></td><td>y</td><td></td><td></td><td>f</td><td>f</td><td></td><td>d</td><td>a</td></tr>\n",
       "\t<tr><td>p</td><td>1.20</td><td>f</td><td>s</td><td>y</td><td>f</td><td>f</td><td>f</td><td>f</td><td>2.36</td><td>⋯</td><td></td><td></td><td>y</td><td></td><td></td><td>f</td><td>f</td><td></td><td>d</td><td>u</td></tr>\n",
       "\t<tr><td>p</td><td>1.27</td><td>f</td><td>s</td><td>y</td><td>f</td><td>f</td><td>f</td><td>f</td><td>2.76</td><td>⋯</td><td></td><td></td><td>y</td><td></td><td></td><td>f</td><td>f</td><td></td><td>d</td><td>u</td></tr>\n",
       "\t<tr><td>p</td><td>1.29</td><td>x</td><td>s</td><td>y</td><td>f</td><td>f</td><td>f</td><td>f</td><td>4.08</td><td>⋯</td><td></td><td></td><td>y</td><td></td><td></td><td>f</td><td>f</td><td></td><td>d</td><td>a</td></tr>\n",
       "\t<tr><td>p</td><td>1.44</td><td>s</td><td>s</td><td>y</td><td>f</td><td>f</td><td>f</td><td>f</td><td>3.73</td><td>⋯</td><td></td><td></td><td>y</td><td></td><td></td><td>f</td><td>f</td><td></td><td>d</td><td>a</td></tr>\n",
       "\t<tr><td>p</td><td>1.19</td><td>f</td><td>s</td><td>y</td><td>f</td><td>f</td><td>f</td><td>f</td><td>3.54</td><td>⋯</td><td></td><td></td><td>y</td><td></td><td></td><td>f</td><td>f</td><td></td><td>d</td><td>a</td></tr>\n",
       "\t<tr><td>p</td><td>1.15</td><td>f</td><td>s</td><td>y</td><td>f</td><td>f</td><td>f</td><td>f</td><td>2.83</td><td>⋯</td><td></td><td></td><td>y</td><td></td><td></td><td>f</td><td>f</td><td></td><td>d</td><td>u</td></tr>\n",
       "\t<tr><td>p</td><td>1.13</td><td>x</td><td>s</td><td>y</td><td>f</td><td>f</td><td>f</td><td>f</td><td>3.06</td><td>⋯</td><td></td><td></td><td>y</td><td></td><td></td><td>f</td><td>f</td><td></td><td>d</td><td>u</td></tr>\n",
       "\t<tr><td>p</td><td>1.25</td><td>x</td><td>s</td><td>y</td><td>f</td><td>f</td><td>f</td><td>f</td><td>4.40</td><td>⋯</td><td></td><td></td><td>y</td><td></td><td></td><td>f</td><td>f</td><td></td><td>d</td><td>a</td></tr>\n",
       "\t<tr><td>p</td><td>1.25</td><td>s</td><td>s</td><td>y</td><td>f</td><td>f</td><td>f</td><td>f</td><td>3.51</td><td>⋯</td><td></td><td></td><td>y</td><td></td><td></td><td>f</td><td>f</td><td></td><td>d</td><td>u</td></tr>\n",
       "\t<tr><td>p</td><td>1.42</td><td>x</td><td>s</td><td>y</td><td>f</td><td>f</td><td>f</td><td>f</td><td>4.88</td><td>⋯</td><td></td><td></td><td>y</td><td></td><td></td><td>f</td><td>f</td><td></td><td>d</td><td>a</td></tr>\n",
       "\t<tr><td>p</td><td>1.18</td><td>s</td><td>s</td><td>y</td><td>f</td><td>f</td><td>f</td><td>f</td><td>3.93</td><td>⋯</td><td></td><td></td><td>y</td><td></td><td></td><td>f</td><td>f</td><td></td><td>d</td><td>a</td></tr>\n",
       "\t<tr><td>p</td><td>1.27</td><td>f</td><td>s</td><td>y</td><td>f</td><td>f</td><td>f</td><td>f</td><td>3.18</td><td>⋯</td><td></td><td></td><td>y</td><td></td><td></td><td>f</td><td>f</td><td></td><td>d</td><td>a</td></tr>\n",
       "\t<tr><td>p</td><td>1.27</td><td>s</td><td>s</td><td>y</td><td>f</td><td>f</td><td>f</td><td>f</td><td>3.86</td><td>⋯</td><td></td><td></td><td>y</td><td></td><td></td><td>f</td><td>f</td><td></td><td>d</td><td>u</td></tr>\n",
       "\t<tr><td>p</td><td>1.24</td><td>f</td><td>s</td><td>y</td><td>f</td><td>f</td><td>f</td><td>f</td><td>3.56</td><td>⋯</td><td></td><td></td><td>y</td><td></td><td></td><td>f</td><td>f</td><td></td><td>d</td><td>u</td></tr>\n",
       "\t<tr><td>p</td><td>1.17</td><td>s</td><td>s</td><td>y</td><td>f</td><td>f</td><td>f</td><td>f</td><td>3.25</td><td>⋯</td><td></td><td></td><td>y</td><td></td><td></td><td>f</td><td>f</td><td></td><td>d</td><td>u</td></tr>\n",
       "</tbody>\n",
       "</table>\n"
      ],
      "text/latex": [
       "A data.frame: 61069 × 21\n",
       "\\begin{tabular}{lllllllllllllllllllll}\n",
       " S & cap.diameter & cap.shape & cap.surface & cap.color & does.bruise.or.bleed & gill.attachment & gill.spacing & gill.color & stem.height & ⋯ & stem.root & stem.surface & stem.color & veil.type & veil.color & has.ring & ring.type & spore.print.color & habitat & season\\\\\n",
       " <chr> & <dbl> & <chr> & <chr> & <chr> & <chr> & <chr> & <chr> & <chr> & <dbl> & ⋯ & <chr> & <chr> & <chr> & <chr> & <chr> & <chr> & <chr> & <chr> & <chr> & <chr>\\\\\n",
       "\\hline\n",
       "\t p & 15.26 & x & g & o & f & e &  & w & 16.95 & ⋯ & s & y & w & u & w & t & g &  & d & w\\\\\n",
       "\t p & 16.60 & x & g & o & f & e &  & w & 17.99 & ⋯ & s & y & w & u & w & t & g &  & d & u\\\\\n",
       "\t p & 14.07 & x & g & o & f & e &  & w & 17.80 & ⋯ & s & y & w & u & w & t & g &  & d & w\\\\\n",
       "\t p & 14.17 & f & h & e & f & e &  & w & 15.77 & ⋯ & s & y & w & u & w & t & p &  & d & w\\\\\n",
       "\t p & 14.64 & x & h & o & f & e &  & w & 16.53 & ⋯ & s & y & w & u & w & t & p &  & d & w\\\\\n",
       "\t p & 15.34 & x & g & o & f & e &  & w & 17.84 & ⋯ & s & y & w & u & w & t & p &  & d & u\\\\\n",
       "\t p & 14.85 & f & h & o & f & e &  & w & 17.71 & ⋯ & s & y & w & u & w & t & g &  & d & w\\\\\n",
       "\t p & 14.86 & x & h & e & f & e &  & w & 17.03 & ⋯ & s & y & w & u & w & t & p &  & d & u\\\\\n",
       "\t p & 12.85 & f & g & o & f & e &  & w & 17.27 & ⋯ & s & y & w & u & w & t & p &  & d & a\\\\\n",
       "\t p & 13.55 & f & g & e & f & e &  & w & 16.04 & ⋯ & s & y & w & u & w & t & p &  & d & w\\\\\n",
       "\t p & 14.17 & f & h & e & f & e &  & w & 17.86 & ⋯ & s & y & w & u & w & t & p &  & d & a\\\\\n",
       "\t p & 13.40 & x & h & o & f & e &  & w & 17.95 & ⋯ & s & y & w & u & w & t & p &  & d & u\\\\\n",
       "\t p & 17.37 & x & h & o & f & e &  & w & 18.10 & ⋯ & s & y & w & u & w & t & g &  & d & u\\\\\n",
       "\t p & 16.56 & x & h & o & f & e &  & w & 18.89 & ⋯ & s & y & w & u & w & t & p &  & d & u\\\\\n",
       "\t p & 15.37 & x & h & e & f & e &  & w & 18.19 & ⋯ & s & y & w & u & w & t & g &  & d & a\\\\\n",
       "\t p & 15.54 & f & h & e & f & e &  & w & 18.26 & ⋯ & s & y & w & u & w & t & p &  & d & a\\\\\n",
       "\t p & 15.19 & x & g & e & f & e &  & w & 17.42 & ⋯ & s & y & w & u & w & t & p &  & d & a\\\\\n",
       "\t p & 17.40 & x & h & o & f & e &  & w & 18.48 & ⋯ & s & y & w & u & w & t & p &  & d & a\\\\\n",
       "\t p & 16.16 & x & g & o & f & e &  & w & 19.46 & ⋯ & s & y & w & u & w & t & p &  & d & w\\\\\n",
       "\t p & 16.93 & x & h & e & f & e &  & w & 18.31 & ⋯ & s & y & w & u & w & t & p &  & d & u\\\\\n",
       "\t p & 13.00 & f & g & e & f & e &  & w & 17.30 & ⋯ & s & y & w & u & w & t & g &  & d & w\\\\\n",
       "\t p & 13.06 & x & g & e & f & e &  & w & 16.90 & ⋯ & s & y & w & u & w & t & g &  & d & u\\\\\n",
       "\t p & 17.23 & x & h & o & f & e &  & w & 17.63 & ⋯ & s & y & w & u & w & t & g &  & d & w\\\\\n",
       "\t p & 14.39 & x & g & e & f & e &  & w & 16.98 & ⋯ & s & y & w & u & w & t & p &  & d & w\\\\\n",
       "\t p & 15.56 & f & g & o & f & e &  & w & 17.28 & ⋯ & s & y & w & u & w & t & p &  & d & u\\\\\n",
       "\t p & 13.20 & x & g & o & f & e &  & w & 16.91 & ⋯ & s & y & w & u & w & t & p &  & d & w\\\\\n",
       "\t p & 13.90 & f & h & e & f & e &  & w & 17.81 & ⋯ & s & y & w & u & w & t & g &  & d & u\\\\\n",
       "\t p & 16.38 & f & g & o & f & e &  & w & 18.36 & ⋯ & s & y & w & u & w & t & p &  & d & u\\\\\n",
       "\t p & 13.30 & x & h & e & f & e &  & w & 17.60 & ⋯ & s & y & w & u & w & t & p &  & d & a\\\\\n",
       "\t p & 15.95 & f & g & o & f & e &  & w & 16.42 & ⋯ & s & y & w & u & w & t & g &  & d & w\\\\\n",
       "\t ⋮ & ⋮ & ⋮ & ⋮ & ⋮ & ⋮ & ⋮ & ⋮ & ⋮ & ⋮ & ⋱ & ⋮ & ⋮ & ⋮ & ⋮ & ⋮ & ⋮ & ⋮ & ⋮ & ⋮ & ⋮\\\\\n",
       "\t p & 1.20 & s & s & y & f & f & f & f & 3.32 & ⋯ &  &  & y &  &  & f & f &  & d & u\\\\\n",
       "\t p & 1.16 & x & s & y & f & f & f & f & 2.57 & ⋯ &  &  & y &  &  & f & f &  & d & a\\\\\n",
       "\t p & 1.26 & x & s & y & f & f & f & f & 3.97 & ⋯ &  &  & y &  &  & f & f &  & d & u\\\\\n",
       "\t p & 1.16 & f & s & y & f & f & f & f & 3.68 & ⋯ &  &  & y &  &  & f & f &  & d & a\\\\\n",
       "\t p & 1.21 & x & s & y & f & f & f & f & 3.39 & ⋯ &  &  & y &  &  & f & f &  & d & u\\\\\n",
       "\t p & 1.34 & x & s & y & f & f & f & f & 4.01 & ⋯ &  &  & y &  &  & f & f &  & d & a\\\\\n",
       "\t p & 1.16 & f & s & y & f & f & f & f & 3.36 & ⋯ &  &  & y &  &  & f & f &  & d & a\\\\\n",
       "\t p & 1.20 & s & s & y & f & f & f & f & 3.61 & ⋯ &  &  & y &  &  & f & f &  & d & u\\\\\n",
       "\t p & 1.26 & f & s & y & f & f & f & f & 3.43 & ⋯ &  &  & y &  &  & f & f &  & d & u\\\\\n",
       "\t p & 1.19 & x & s & y & f & f & f & f & 3.24 & ⋯ &  &  & y &  &  & f & f &  & d & a\\\\\n",
       "\t p & 1.16 & x & s & y & f & f & f & f & 3.67 & ⋯ &  &  & y &  &  & f & f &  & d & a\\\\\n",
       "\t p & 1.15 & f & s & y & f & f & f & f & 3.04 & ⋯ &  &  & y &  &  & f & f &  & d & u\\\\\n",
       "\t p & 1.17 & x & s & y & f & f & f & f & 3.13 & ⋯ &  &  & y &  &  & f & f &  & d & u\\\\\n",
       "\t p & 1.30 & f & s & y & f & f & f & f & 3.34 & ⋯ &  &  & y &  &  & f & f &  & d & u\\\\\n",
       "\t p & 1.31 & x & s & y & f & f & f & f & 4.00 & ⋯ &  &  & y &  &  & f & f &  & d & a\\\\\n",
       "\t p & 1.20 & f & s & y & f & f & f & f & 2.36 & ⋯ &  &  & y &  &  & f & f &  & d & u\\\\\n",
       "\t p & 1.27 & f & s & y & f & f & f & f & 2.76 & ⋯ &  &  & y &  &  & f & f &  & d & u\\\\\n",
       "\t p & 1.29 & x & s & y & f & f & f & f & 4.08 & ⋯ &  &  & y &  &  & f & f &  & d & a\\\\\n",
       "\t p & 1.44 & s & s & y & f & f & f & f & 3.73 & ⋯ &  &  & y &  &  & f & f &  & d & a\\\\\n",
       "\t p & 1.19 & f & s & y & f & f & f & f & 3.54 & ⋯ &  &  & y &  &  & f & f &  & d & a\\\\\n",
       "\t p & 1.15 & f & s & y & f & f & f & f & 2.83 & ⋯ &  &  & y &  &  & f & f &  & d & u\\\\\n",
       "\t p & 1.13 & x & s & y & f & f & f & f & 3.06 & ⋯ &  &  & y &  &  & f & f &  & d & u\\\\\n",
       "\t p & 1.25 & x & s & y & f & f & f & f & 4.40 & ⋯ &  &  & y &  &  & f & f &  & d & a\\\\\n",
       "\t p & 1.25 & s & s & y & f & f & f & f & 3.51 & ⋯ &  &  & y &  &  & f & f &  & d & u\\\\\n",
       "\t p & 1.42 & x & s & y & f & f & f & f & 4.88 & ⋯ &  &  & y &  &  & f & f &  & d & a\\\\\n",
       "\t p & 1.18 & s & s & y & f & f & f & f & 3.93 & ⋯ &  &  & y &  &  & f & f &  & d & a\\\\\n",
       "\t p & 1.27 & f & s & y & f & f & f & f & 3.18 & ⋯ &  &  & y &  &  & f & f &  & d & a\\\\\n",
       "\t p & 1.27 & s & s & y & f & f & f & f & 3.86 & ⋯ &  &  & y &  &  & f & f &  & d & u\\\\\n",
       "\t p & 1.24 & f & s & y & f & f & f & f & 3.56 & ⋯ &  &  & y &  &  & f & f &  & d & u\\\\\n",
       "\t p & 1.17 & s & s & y & f & f & f & f & 3.25 & ⋯ &  &  & y &  &  & f & f &  & d & u\\\\\n",
       "\\end{tabular}\n"
      ],
      "text/markdown": [
       "\n",
       "A data.frame: 61069 × 21\n",
       "\n",
       "| S &lt;chr&gt; | cap.diameter &lt;dbl&gt; | cap.shape &lt;chr&gt; | cap.surface &lt;chr&gt; | cap.color &lt;chr&gt; | does.bruise.or.bleed &lt;chr&gt; | gill.attachment &lt;chr&gt; | gill.spacing &lt;chr&gt; | gill.color &lt;chr&gt; | stem.height &lt;dbl&gt; | ⋯ ⋯ | stem.root &lt;chr&gt; | stem.surface &lt;chr&gt; | stem.color &lt;chr&gt; | veil.type &lt;chr&gt; | veil.color &lt;chr&gt; | has.ring &lt;chr&gt; | ring.type &lt;chr&gt; | spore.print.color &lt;chr&gt; | habitat &lt;chr&gt; | season &lt;chr&gt; |\n",
       "|---|---|---|---|---|---|---|---|---|---|---|---|---|---|---|---|---|---|---|---|---|\n",
       "| p | 15.26 | x | g | o | f | e | <!----> | w | 16.95 | ⋯ | s | y | w | u | w | t | g | <!----> | d | w |\n",
       "| p | 16.60 | x | g | o | f | e | <!----> | w | 17.99 | ⋯ | s | y | w | u | w | t | g | <!----> | d | u |\n",
       "| p | 14.07 | x | g | o | f | e | <!----> | w | 17.80 | ⋯ | s | y | w | u | w | t | g | <!----> | d | w |\n",
       "| p | 14.17 | f | h | e | f | e | <!----> | w | 15.77 | ⋯ | s | y | w | u | w | t | p | <!----> | d | w |\n",
       "| p | 14.64 | x | h | o | f | e | <!----> | w | 16.53 | ⋯ | s | y | w | u | w | t | p | <!----> | d | w |\n",
       "| p | 15.34 | x | g | o | f | e | <!----> | w | 17.84 | ⋯ | s | y | w | u | w | t | p | <!----> | d | u |\n",
       "| p | 14.85 | f | h | o | f | e | <!----> | w | 17.71 | ⋯ | s | y | w | u | w | t | g | <!----> | d | w |\n",
       "| p | 14.86 | x | h | e | f | e | <!----> | w | 17.03 | ⋯ | s | y | w | u | w | t | p | <!----> | d | u |\n",
       "| p | 12.85 | f | g | o | f | e | <!----> | w | 17.27 | ⋯ | s | y | w | u | w | t | p | <!----> | d | a |\n",
       "| p | 13.55 | f | g | e | f | e | <!----> | w | 16.04 | ⋯ | s | y | w | u | w | t | p | <!----> | d | w |\n",
       "| p | 14.17 | f | h | e | f | e | <!----> | w | 17.86 | ⋯ | s | y | w | u | w | t | p | <!----> | d | a |\n",
       "| p | 13.40 | x | h | o | f | e | <!----> | w | 17.95 | ⋯ | s | y | w | u | w | t | p | <!----> | d | u |\n",
       "| p | 17.37 | x | h | o | f | e | <!----> | w | 18.10 | ⋯ | s | y | w | u | w | t | g | <!----> | d | u |\n",
       "| p | 16.56 | x | h | o | f | e | <!----> | w | 18.89 | ⋯ | s | y | w | u | w | t | p | <!----> | d | u |\n",
       "| p | 15.37 | x | h | e | f | e | <!----> | w | 18.19 | ⋯ | s | y | w | u | w | t | g | <!----> | d | a |\n",
       "| p | 15.54 | f | h | e | f | e | <!----> | w | 18.26 | ⋯ | s | y | w | u | w | t | p | <!----> | d | a |\n",
       "| p | 15.19 | x | g | e | f | e | <!----> | w | 17.42 | ⋯ | s | y | w | u | w | t | p | <!----> | d | a |\n",
       "| p | 17.40 | x | h | o | f | e | <!----> | w | 18.48 | ⋯ | s | y | w | u | w | t | p | <!----> | d | a |\n",
       "| p | 16.16 | x | g | o | f | e | <!----> | w | 19.46 | ⋯ | s | y | w | u | w | t | p | <!----> | d | w |\n",
       "| p | 16.93 | x | h | e | f | e | <!----> | w | 18.31 | ⋯ | s | y | w | u | w | t | p | <!----> | d | u |\n",
       "| p | 13.00 | f | g | e | f | e | <!----> | w | 17.30 | ⋯ | s | y | w | u | w | t | g | <!----> | d | w |\n",
       "| p | 13.06 | x | g | e | f | e | <!----> | w | 16.90 | ⋯ | s | y | w | u | w | t | g | <!----> | d | u |\n",
       "| p | 17.23 | x | h | o | f | e | <!----> | w | 17.63 | ⋯ | s | y | w | u | w | t | g | <!----> | d | w |\n",
       "| p | 14.39 | x | g | e | f | e | <!----> | w | 16.98 | ⋯ | s | y | w | u | w | t | p | <!----> | d | w |\n",
       "| p | 15.56 | f | g | o | f | e | <!----> | w | 17.28 | ⋯ | s | y | w | u | w | t | p | <!----> | d | u |\n",
       "| p | 13.20 | x | g | o | f | e | <!----> | w | 16.91 | ⋯ | s | y | w | u | w | t | p | <!----> | d | w |\n",
       "| p | 13.90 | f | h | e | f | e | <!----> | w | 17.81 | ⋯ | s | y | w | u | w | t | g | <!----> | d | u |\n",
       "| p | 16.38 | f | g | o | f | e | <!----> | w | 18.36 | ⋯ | s | y | w | u | w | t | p | <!----> | d | u |\n",
       "| p | 13.30 | x | h | e | f | e | <!----> | w | 17.60 | ⋯ | s | y | w | u | w | t | p | <!----> | d | a |\n",
       "| p | 15.95 | f | g | o | f | e | <!----> | w | 16.42 | ⋯ | s | y | w | u | w | t | g | <!----> | d | w |\n",
       "| ⋮ | ⋮ | ⋮ | ⋮ | ⋮ | ⋮ | ⋮ | ⋮ | ⋮ | ⋮ | ⋱ | ⋮ | ⋮ | ⋮ | ⋮ | ⋮ | ⋮ | ⋮ | ⋮ | ⋮ | ⋮ |\n",
       "| p | 1.20 | s | s | y | f | f | f | f | 3.32 | ⋯ | <!----> | <!----> | y | <!----> | <!----> | f | f | <!----> | d | u |\n",
       "| p | 1.16 | x | s | y | f | f | f | f | 2.57 | ⋯ | <!----> | <!----> | y | <!----> | <!----> | f | f | <!----> | d | a |\n",
       "| p | 1.26 | x | s | y | f | f | f | f | 3.97 | ⋯ | <!----> | <!----> | y | <!----> | <!----> | f | f | <!----> | d | u |\n",
       "| p | 1.16 | f | s | y | f | f | f | f | 3.68 | ⋯ | <!----> | <!----> | y | <!----> | <!----> | f | f | <!----> | d | a |\n",
       "| p | 1.21 | x | s | y | f | f | f | f | 3.39 | ⋯ | <!----> | <!----> | y | <!----> | <!----> | f | f | <!----> | d | u |\n",
       "| p | 1.34 | x | s | y | f | f | f | f | 4.01 | ⋯ | <!----> | <!----> | y | <!----> | <!----> | f | f | <!----> | d | a |\n",
       "| p | 1.16 | f | s | y | f | f | f | f | 3.36 | ⋯ | <!----> | <!----> | y | <!----> | <!----> | f | f | <!----> | d | a |\n",
       "| p | 1.20 | s | s | y | f | f | f | f | 3.61 | ⋯ | <!----> | <!----> | y | <!----> | <!----> | f | f | <!----> | d | u |\n",
       "| p | 1.26 | f | s | y | f | f | f | f | 3.43 | ⋯ | <!----> | <!----> | y | <!----> | <!----> | f | f | <!----> | d | u |\n",
       "| p | 1.19 | x | s | y | f | f | f | f | 3.24 | ⋯ | <!----> | <!----> | y | <!----> | <!----> | f | f | <!----> | d | a |\n",
       "| p | 1.16 | x | s | y | f | f | f | f | 3.67 | ⋯ | <!----> | <!----> | y | <!----> | <!----> | f | f | <!----> | d | a |\n",
       "| p | 1.15 | f | s | y | f | f | f | f | 3.04 | ⋯ | <!----> | <!----> | y | <!----> | <!----> | f | f | <!----> | d | u |\n",
       "| p | 1.17 | x | s | y | f | f | f | f | 3.13 | ⋯ | <!----> | <!----> | y | <!----> | <!----> | f | f | <!----> | d | u |\n",
       "| p | 1.30 | f | s | y | f | f | f | f | 3.34 | ⋯ | <!----> | <!----> | y | <!----> | <!----> | f | f | <!----> | d | u |\n",
       "| p | 1.31 | x | s | y | f | f | f | f | 4.00 | ⋯ | <!----> | <!----> | y | <!----> | <!----> | f | f | <!----> | d | a |\n",
       "| p | 1.20 | f | s | y | f | f | f | f | 2.36 | ⋯ | <!----> | <!----> | y | <!----> | <!----> | f | f | <!----> | d | u |\n",
       "| p | 1.27 | f | s | y | f | f | f | f | 2.76 | ⋯ | <!----> | <!----> | y | <!----> | <!----> | f | f | <!----> | d | u |\n",
       "| p | 1.29 | x | s | y | f | f | f | f | 4.08 | ⋯ | <!----> | <!----> | y | <!----> | <!----> | f | f | <!----> | d | a |\n",
       "| p | 1.44 | s | s | y | f | f | f | f | 3.73 | ⋯ | <!----> | <!----> | y | <!----> | <!----> | f | f | <!----> | d | a |\n",
       "| p | 1.19 | f | s | y | f | f | f | f | 3.54 | ⋯ | <!----> | <!----> | y | <!----> | <!----> | f | f | <!----> | d | a |\n",
       "| p | 1.15 | f | s | y | f | f | f | f | 2.83 | ⋯ | <!----> | <!----> | y | <!----> | <!----> | f | f | <!----> | d | u |\n",
       "| p | 1.13 | x | s | y | f | f | f | f | 3.06 | ⋯ | <!----> | <!----> | y | <!----> | <!----> | f | f | <!----> | d | u |\n",
       "| p | 1.25 | x | s | y | f | f | f | f | 4.40 | ⋯ | <!----> | <!----> | y | <!----> | <!----> | f | f | <!----> | d | a |\n",
       "| p | 1.25 | s | s | y | f | f | f | f | 3.51 | ⋯ | <!----> | <!----> | y | <!----> | <!----> | f | f | <!----> | d | u |\n",
       "| p | 1.42 | x | s | y | f | f | f | f | 4.88 | ⋯ | <!----> | <!----> | y | <!----> | <!----> | f | f | <!----> | d | a |\n",
       "| p | 1.18 | s | s | y | f | f | f | f | 3.93 | ⋯ | <!----> | <!----> | y | <!----> | <!----> | f | f | <!----> | d | a |\n",
       "| p | 1.27 | f | s | y | f | f | f | f | 3.18 | ⋯ | <!----> | <!----> | y | <!----> | <!----> | f | f | <!----> | d | a |\n",
       "| p | 1.27 | s | s | y | f | f | f | f | 3.86 | ⋯ | <!----> | <!----> | y | <!----> | <!----> | f | f | <!----> | d | u |\n",
       "| p | 1.24 | f | s | y | f | f | f | f | 3.56 | ⋯ | <!----> | <!----> | y | <!----> | <!----> | f | f | <!----> | d | u |\n",
       "| p | 1.17 | s | s | y | f | f | f | f | 3.25 | ⋯ | <!----> | <!----> | y | <!----> | <!----> | f | f | <!----> | d | u |\n",
       "\n"
      ],
      "text/plain": [
       "      S cap.diameter cap.shape cap.surface cap.color does.bruise.or.bleed\n",
       "1     p 15.26        x         g           o         f                   \n",
       "2     p 16.60        x         g           o         f                   \n",
       "3     p 14.07        x         g           o         f                   \n",
       "4     p 14.17        f         h           e         f                   \n",
       "5     p 14.64        x         h           o         f                   \n",
       "6     p 15.34        x         g           o         f                   \n",
       "7     p 14.85        f         h           o         f                   \n",
       "8     p 14.86        x         h           e         f                   \n",
       "9     p 12.85        f         g           o         f                   \n",
       "10    p 13.55        f         g           e         f                   \n",
       "11    p 14.17        f         h           e         f                   \n",
       "12    p 13.40        x         h           o         f                   \n",
       "13    p 17.37        x         h           o         f                   \n",
       "14    p 16.56        x         h           o         f                   \n",
       "15    p 15.37        x         h           e         f                   \n",
       "16    p 15.54        f         h           e         f                   \n",
       "17    p 15.19        x         g           e         f                   \n",
       "18    p 17.40        x         h           o         f                   \n",
       "19    p 16.16        x         g           o         f                   \n",
       "20    p 16.93        x         h           e         f                   \n",
       "21    p 13.00        f         g           e         f                   \n",
       "22    p 13.06        x         g           e         f                   \n",
       "23    p 17.23        x         h           o         f                   \n",
       "24    p 14.39        x         g           e         f                   \n",
       "25    p 15.56        f         g           o         f                   \n",
       "26    p 13.20        x         g           o         f                   \n",
       "27    p 13.90        f         h           e         f                   \n",
       "28    p 16.38        f         g           o         f                   \n",
       "29    p 13.30        x         h           e         f                   \n",
       "30    p 15.95        f         g           o         f                   \n",
       "⋮     ⋮ ⋮            ⋮         ⋮           ⋮         ⋮                   \n",
       "61040 p 1.20         s         s           y         f                   \n",
       "61041 p 1.16         x         s           y         f                   \n",
       "61042 p 1.26         x         s           y         f                   \n",
       "61043 p 1.16         f         s           y         f                   \n",
       "61044 p 1.21         x         s           y         f                   \n",
       "61045 p 1.34         x         s           y         f                   \n",
       "61046 p 1.16         f         s           y         f                   \n",
       "61047 p 1.20         s         s           y         f                   \n",
       "61048 p 1.26         f         s           y         f                   \n",
       "61049 p 1.19         x         s           y         f                   \n",
       "61050 p 1.16         x         s           y         f                   \n",
       "61051 p 1.15         f         s           y         f                   \n",
       "61052 p 1.17         x         s           y         f                   \n",
       "61053 p 1.30         f         s           y         f                   \n",
       "61054 p 1.31         x         s           y         f                   \n",
       "61055 p 1.20         f         s           y         f                   \n",
       "61056 p 1.27         f         s           y         f                   \n",
       "61057 p 1.29         x         s           y         f                   \n",
       "61058 p 1.44         s         s           y         f                   \n",
       "61059 p 1.19         f         s           y         f                   \n",
       "61060 p 1.15         f         s           y         f                   \n",
       "61061 p 1.13         x         s           y         f                   \n",
       "61062 p 1.25         x         s           y         f                   \n",
       "61063 p 1.25         s         s           y         f                   \n",
       "61064 p 1.42         x         s           y         f                   \n",
       "61065 p 1.18         s         s           y         f                   \n",
       "61066 p 1.27         f         s           y         f                   \n",
       "61067 p 1.27         s         s           y         f                   \n",
       "61068 p 1.24         f         s           y         f                   \n",
       "61069 p 1.17         s         s           y         f                   \n",
       "      gill.attachment gill.spacing gill.color stem.height ⋯ stem.root\n",
       "1     e                            w          16.95       ⋯ s        \n",
       "2     e                            w          17.99       ⋯ s        \n",
       "3     e                            w          17.80       ⋯ s        \n",
       "4     e                            w          15.77       ⋯ s        \n",
       "5     e                            w          16.53       ⋯ s        \n",
       "6     e                            w          17.84       ⋯ s        \n",
       "7     e                            w          17.71       ⋯ s        \n",
       "8     e                            w          17.03       ⋯ s        \n",
       "9     e                            w          17.27       ⋯ s        \n",
       "10    e                            w          16.04       ⋯ s        \n",
       "11    e                            w          17.86       ⋯ s        \n",
       "12    e                            w          17.95       ⋯ s        \n",
       "13    e                            w          18.10       ⋯ s        \n",
       "14    e                            w          18.89       ⋯ s        \n",
       "15    e                            w          18.19       ⋯ s        \n",
       "16    e                            w          18.26       ⋯ s        \n",
       "17    e                            w          17.42       ⋯ s        \n",
       "18    e                            w          18.48       ⋯ s        \n",
       "19    e                            w          19.46       ⋯ s        \n",
       "20    e                            w          18.31       ⋯ s        \n",
       "21    e                            w          17.30       ⋯ s        \n",
       "22    e                            w          16.90       ⋯ s        \n",
       "23    e                            w          17.63       ⋯ s        \n",
       "24    e                            w          16.98       ⋯ s        \n",
       "25    e                            w          17.28       ⋯ s        \n",
       "26    e                            w          16.91       ⋯ s        \n",
       "27    e                            w          17.81       ⋯ s        \n",
       "28    e                            w          18.36       ⋯ s        \n",
       "29    e                            w          17.60       ⋯ s        \n",
       "30    e                            w          16.42       ⋯ s        \n",
       "⋮     ⋮               ⋮            ⋮          ⋮           ⋱ ⋮        \n",
       "61040 f               f            f          3.32        ⋯          \n",
       "61041 f               f            f          2.57        ⋯          \n",
       "61042 f               f            f          3.97        ⋯          \n",
       "61043 f               f            f          3.68        ⋯          \n",
       "61044 f               f            f          3.39        ⋯          \n",
       "61045 f               f            f          4.01        ⋯          \n",
       "61046 f               f            f          3.36        ⋯          \n",
       "61047 f               f            f          3.61        ⋯          \n",
       "61048 f               f            f          3.43        ⋯          \n",
       "61049 f               f            f          3.24        ⋯          \n",
       "61050 f               f            f          3.67        ⋯          \n",
       "61051 f               f            f          3.04        ⋯          \n",
       "61052 f               f            f          3.13        ⋯          \n",
       "61053 f               f            f          3.34        ⋯          \n",
       "61054 f               f            f          4.00        ⋯          \n",
       "61055 f               f            f          2.36        ⋯          \n",
       "61056 f               f            f          2.76        ⋯          \n",
       "61057 f               f            f          4.08        ⋯          \n",
       "61058 f               f            f          3.73        ⋯          \n",
       "61059 f               f            f          3.54        ⋯          \n",
       "61060 f               f            f          2.83        ⋯          \n",
       "61061 f               f            f          3.06        ⋯          \n",
       "61062 f               f            f          4.40        ⋯          \n",
       "61063 f               f            f          3.51        ⋯          \n",
       "61064 f               f            f          4.88        ⋯          \n",
       "61065 f               f            f          3.93        ⋯          \n",
       "61066 f               f            f          3.18        ⋯          \n",
       "61067 f               f            f          3.86        ⋯          \n",
       "61068 f               f            f          3.56        ⋯          \n",
       "61069 f               f            f          3.25        ⋯          \n",
       "      stem.surface stem.color veil.type veil.color has.ring ring.type\n",
       "1     y            w          u         w          t        g        \n",
       "2     y            w          u         w          t        g        \n",
       "3     y            w          u         w          t        g        \n",
       "4     y            w          u         w          t        p        \n",
       "5     y            w          u         w          t        p        \n",
       "6     y            w          u         w          t        p        \n",
       "7     y            w          u         w          t        g        \n",
       "8     y            w          u         w          t        p        \n",
       "9     y            w          u         w          t        p        \n",
       "10    y            w          u         w          t        p        \n",
       "11    y            w          u         w          t        p        \n",
       "12    y            w          u         w          t        p        \n",
       "13    y            w          u         w          t        g        \n",
       "14    y            w          u         w          t        p        \n",
       "15    y            w          u         w          t        g        \n",
       "16    y            w          u         w          t        p        \n",
       "17    y            w          u         w          t        p        \n",
       "18    y            w          u         w          t        p        \n",
       "19    y            w          u         w          t        p        \n",
       "20    y            w          u         w          t        p        \n",
       "21    y            w          u         w          t        g        \n",
       "22    y            w          u         w          t        g        \n",
       "23    y            w          u         w          t        g        \n",
       "24    y            w          u         w          t        p        \n",
       "25    y            w          u         w          t        p        \n",
       "26    y            w          u         w          t        p        \n",
       "27    y            w          u         w          t        g        \n",
       "28    y            w          u         w          t        p        \n",
       "29    y            w          u         w          t        p        \n",
       "30    y            w          u         w          t        g        \n",
       "⋮     ⋮            ⋮          ⋮         ⋮          ⋮        ⋮        \n",
       "61040              y                               f        f        \n",
       "61041              y                               f        f        \n",
       "61042              y                               f        f        \n",
       "61043              y                               f        f        \n",
       "61044              y                               f        f        \n",
       "61045              y                               f        f        \n",
       "61046              y                               f        f        \n",
       "61047              y                               f        f        \n",
       "61048              y                               f        f        \n",
       "61049              y                               f        f        \n",
       "61050              y                               f        f        \n",
       "61051              y                               f        f        \n",
       "61052              y                               f        f        \n",
       "61053              y                               f        f        \n",
       "61054              y                               f        f        \n",
       "61055              y                               f        f        \n",
       "61056              y                               f        f        \n",
       "61057              y                               f        f        \n",
       "61058              y                               f        f        \n",
       "61059              y                               f        f        \n",
       "61060              y                               f        f        \n",
       "61061              y                               f        f        \n",
       "61062              y                               f        f        \n",
       "61063              y                               f        f        \n",
       "61064              y                               f        f        \n",
       "61065              y                               f        f        \n",
       "61066              y                               f        f        \n",
       "61067              y                               f        f        \n",
       "61068              y                               f        f        \n",
       "61069              y                               f        f        \n",
       "      spore.print.color habitat season\n",
       "1                       d       w     \n",
       "2                       d       u     \n",
       "3                       d       w     \n",
       "4                       d       w     \n",
       "5                       d       w     \n",
       "6                       d       u     \n",
       "7                       d       w     \n",
       "8                       d       u     \n",
       "9                       d       a     \n",
       "10                      d       w     \n",
       "11                      d       a     \n",
       "12                      d       u     \n",
       "13                      d       u     \n",
       "14                      d       u     \n",
       "15                      d       a     \n",
       "16                      d       a     \n",
       "17                      d       a     \n",
       "18                      d       a     \n",
       "19                      d       w     \n",
       "20                      d       u     \n",
       "21                      d       w     \n",
       "22                      d       u     \n",
       "23                      d       w     \n",
       "24                      d       w     \n",
       "25                      d       u     \n",
       "26                      d       w     \n",
       "27                      d       u     \n",
       "28                      d       u     \n",
       "29                      d       a     \n",
       "30                      d       w     \n",
       "⋮     ⋮                 ⋮       ⋮     \n",
       "61040                   d       u     \n",
       "61041                   d       a     \n",
       "61042                   d       u     \n",
       "61043                   d       a     \n",
       "61044                   d       u     \n",
       "61045                   d       a     \n",
       "61046                   d       a     \n",
       "61047                   d       u     \n",
       "61048                   d       u     \n",
       "61049                   d       a     \n",
       "61050                   d       a     \n",
       "61051                   d       u     \n",
       "61052                   d       u     \n",
       "61053                   d       u     \n",
       "61054                   d       a     \n",
       "61055                   d       u     \n",
       "61056                   d       u     \n",
       "61057                   d       a     \n",
       "61058                   d       a     \n",
       "61059                   d       a     \n",
       "61060                   d       u     \n",
       "61061                   d       u     \n",
       "61062                   d       a     \n",
       "61063                   d       u     \n",
       "61064                   d       a     \n",
       "61065                   d       a     \n",
       "61066                   d       a     \n",
       "61067                   d       u     \n",
       "61068                   d       u     \n",
       "61069                   d       u     "
      ]
     },
     "metadata": {},
     "output_type": "display_data"
    }
   ],
   "source": [
    "df <- read.csv('secondary_data.csv')\n",
    "df"
   ]
  },
  {
   "cell_type": "code",
   "execution_count": 7,
   "id": "8b8de6d0",
   "metadata": {},
   "outputs": [
    {
     "data": {
      "text/plain": [
       "      S              cap.diameter     cap.shape         cap.surface       \n",
       " Length:61069       Min.   : 0.380   Length:61069       Length:61069      \n",
       " Class :character   1st Qu.: 3.480   Class :character   Class :character  \n",
       " Mode  :character   Median : 5.860   Mode  :character   Mode  :character  \n",
       "                    Mean   : 6.734                                        \n",
       "                    3rd Qu.: 8.540                                        \n",
       "                    Max.   :62.340                                        \n",
       "  cap.color         does.bruise.or.bleed gill.attachment    gill.spacing      \n",
       " Length:61069       Length:61069         Length:61069       Length:61069      \n",
       " Class :character   Class :character     Class :character   Class :character  \n",
       " Mode  :character   Mode  :character     Mode  :character   Mode  :character  \n",
       "                                                                              \n",
       "                                                                              \n",
       "                                                                              \n",
       "  gill.color         stem.height       stem.width      stem.root        \n",
       " Length:61069       Min.   : 0.000   Min.   :  0.00   Length:61069      \n",
       " Class :character   1st Qu.: 4.640   1st Qu.:  5.21   Class :character  \n",
       " Mode  :character   Median : 5.950   Median : 10.19   Mode  :character  \n",
       "                    Mean   : 6.582   Mean   : 12.15                     \n",
       "                    3rd Qu.: 7.740   3rd Qu.: 16.57                     \n",
       "                    Max.   :33.920   Max.   :103.91                     \n",
       " stem.surface        stem.color         veil.type          veil.color       \n",
       " Length:61069       Length:61069       Length:61069       Length:61069      \n",
       " Class :character   Class :character   Class :character   Class :character  \n",
       " Mode  :character   Mode  :character   Mode  :character   Mode  :character  \n",
       "                                                                            \n",
       "                                                                            \n",
       "                                                                            \n",
       "   has.ring          ring.type         spore.print.color    habitat         \n",
       " Length:61069       Length:61069       Length:61069       Length:61069      \n",
       " Class :character   Class :character   Class :character   Class :character  \n",
       " Mode  :character   Mode  :character   Mode  :character   Mode  :character  \n",
       "                                                                            \n",
       "                                                                            \n",
       "                                                                            \n",
       "    season         \n",
       " Length:61069      \n",
       " Class :character  \n",
       " Mode  :character  \n",
       "                   \n",
       "                   \n",
       "                   "
      ]
     },
     "metadata": {},
     "output_type": "display_data"
    }
   ],
   "source": [
    "summary(df)"
   ]
  },
  {
   "cell_type": "code",
   "execution_count": 8,
   "id": "2f4a98a2",
   "metadata": {},
   "outputs": [
    {
     "name": "stdout",
     "output_type": "stream",
     "text": [
      "'data.frame':\t61069 obs. of  21 variables:\n",
      " $ S                   : chr  \"p\" \"p\" \"p\" \"p\" ...\n",
      " $ cap.diameter        : num  15.3 16.6 14.1 14.2 14.6 ...\n",
      " $ cap.shape           : chr  \"x\" \"x\" \"x\" \"f\" ...\n",
      " $ cap.surface         : chr  \"g\" \"g\" \"g\" \"h\" ...\n",
      " $ cap.color           : chr  \"o\" \"o\" \"o\" \"e\" ...\n",
      " $ does.bruise.or.bleed: chr  \"f\" \"f\" \"f\" \"f\" ...\n",
      " $ gill.attachment     : chr  \"e\" \"e\" \"e\" \"e\" ...\n",
      " $ gill.spacing        : chr  \"\" \"\" \"\" \"\" ...\n",
      " $ gill.color          : chr  \"w\" \"w\" \"w\" \"w\" ...\n",
      " $ stem.height         : num  16.9 18 17.8 15.8 16.5 ...\n",
      " $ stem.width          : num  17.1 18.2 17.7 16 17.2 ...\n",
      " $ stem.root           : chr  \"s\" \"s\" \"s\" \"s\" ...\n",
      " $ stem.surface        : chr  \"y\" \"y\" \"y\" \"y\" ...\n",
      " $ stem.color          : chr  \"w\" \"w\" \"w\" \"w\" ...\n",
      " $ veil.type           : chr  \"u\" \"u\" \"u\" \"u\" ...\n",
      " $ veil.color          : chr  \"w\" \"w\" \"w\" \"w\" ...\n",
      " $ has.ring            : chr  \"t\" \"t\" \"t\" \"t\" ...\n",
      " $ ring.type           : chr  \"g\" \"g\" \"g\" \"p\" ...\n",
      " $ spore.print.color   : chr  \"\" \"\" \"\" \"\" ...\n",
      " $ habitat             : chr  \"d\" \"d\" \"d\" \"d\" ...\n",
      " $ season              : chr  \"w\" \"u\" \"w\" \"w\" ...\n"
     ]
    }
   ],
   "source": [
    "str(df)"
   ]
  },
  {
   "cell_type": "code",
   "execution_count": 9,
   "id": "162c86bd",
   "metadata": {},
   "outputs": [
    {
     "data": {
      "text/html": [
       "<style>\n",
       ".list-inline {list-style: none; margin:0; padding: 0}\n",
       ".list-inline>li {display: inline-block}\n",
       ".list-inline>li:not(:last-child)::after {content: \"\\00b7\"; padding: 0 .5ex}\n",
       "</style>\n",
       "<ol class=list-inline><li>61069</li><li>21</li></ol>\n"
      ],
      "text/latex": [
       "\\begin{enumerate*}\n",
       "\\item 61069\n",
       "\\item 21\n",
       "\\end{enumerate*}\n"
      ],
      "text/markdown": [
       "1. 61069\n",
       "2. 21\n",
       "\n",
       "\n"
      ],
      "text/plain": [
       "[1] 61069    21"
      ]
     },
     "metadata": {},
     "output_type": "display_data"
    }
   ],
   "source": [
    "dim(df)"
   ]
  },
  {
   "cell_type": "code",
   "execution_count": 10,
   "id": "271d6ac8",
   "metadata": {},
   "outputs": [
    {
     "data": {
      "text/html": [
       "61069"
      ],
      "text/latex": [
       "61069"
      ],
      "text/markdown": [
       "61069"
      ],
      "text/plain": [
       "[1] 61069"
      ]
     },
     "metadata": {},
     "output_type": "display_data"
    }
   ],
   "source": [
    "rows_of_df <- nrow(df)\n",
    "rows_of_df"
   ]
  },
  {
   "cell_type": "code",
   "execution_count": 11,
   "id": "bb356aea",
   "metadata": {},
   "outputs": [
    {
     "data": {
      "text/html": [
       "21"
      ],
      "text/latex": [
       "21"
      ],
      "text/markdown": [
       "21"
      ],
      "text/plain": [
       "[1] 21"
      ]
     },
     "metadata": {},
     "output_type": "display_data"
    }
   ],
   "source": [
    "cols_of_df <- ncol(df)\n",
    "cols_of_df"
   ]
  },
  {
   "cell_type": "code",
   "execution_count": 12,
   "id": "9bfb851f",
   "metadata": {},
   "outputs": [],
   "source": [
    "## 21 independent and 1 dependent variable"
   ]
  },
  {
   "cell_type": "code",
   "execution_count": 13,
   "id": "5ee8c7dd",
   "metadata": {},
   "outputs": [],
   "source": [
    "# Convert character columns to factor\n",
    "df <- df %>%\n",
    "  mutate_if(is.character, as.factor)"
   ]
  },
  {
   "cell_type": "code",
   "execution_count": 14,
   "id": "5a7efb91",
   "metadata": {},
   "outputs": [
    {
     "data": {
      "text/html": [
       "0"
      ],
      "text/latex": [
       "0"
      ],
      "text/markdown": [
       "0"
      ],
      "text/plain": [
       "[1] 0"
      ]
     },
     "metadata": {},
     "output_type": "display_data"
    }
   ],
   "source": [
    "sum(is.na(df))"
   ]
  },
  {
   "cell_type": "markdown",
   "id": "4e4641fe",
   "metadata": {},
   "source": [
    "#### Remove irrelevant variables:"
   ]
  },
  {
   "cell_type": "code",
   "execution_count": 15,
   "id": "dfa439e8",
   "metadata": {},
   "outputs": [],
   "source": [
    "df <- df[, sapply(df, function(x) {\n",
    "  if (is.factor(x)) {\n",
    "    return(TRUE)  # Exclude factor variables\n",
    "  } else {\n",
    "    return(var(x) > 0)  # Calculate variance for non-factor variables\n",
    "  }\n",
    "})]"
   ]
  },
  {
   "cell_type": "code",
   "execution_count": 16,
   "id": "a6eb4295",
   "metadata": {},
   "outputs": [],
   "source": [
    "d<-dim(df)"
   ]
  },
  {
   "cell_type": "code",
   "execution_count": 17,
   "id": "7fcea8c2",
   "metadata": {},
   "outputs": [
    {
     "name": "stdout",
     "output_type": "stream",
     "text": [
      "[1] \"Number of Irrelevant Predictive/Independent Variables Removed: 0\"\n",
      "[1] \"Proportion of Irrelevant Predictive/Independent Variables Removed: 0\"\n"
     ]
    }
   ],
   "source": [
    "# Print the number and proportion of irrelevant predictive/independent variables removed\n",
    "rmvd <- cols_of_df - d[2]\n",
    "prop <- rmvd / cols_of_df\n",
    "print(paste(\"Number of Irrelevant Predictive/Independent Variables Removed:\", rmvd))\n",
    "print(paste(\"Proportion of Irrelevant Predictive/Independent Variables Removed:\", prop))"
   ]
  },
  {
   "cell_type": "markdown",
   "id": "8aad1e52",
   "metadata": {},
   "source": [
    "#### Identify and remove out outliers:"
   ]
  },
  {
   "cell_type": "code",
   "execution_count": 18,
   "id": "ca5372dc",
   "metadata": {},
   "outputs": [
    {
     "name": "stdout",
     "output_type": "stream",
     "text": [
      "'data.frame':\t61069 obs. of  21 variables:\n",
      " $ S                   : Factor w/ 2 levels \"e\",\"p\": 2 2 2 2 2 2 2 2 2 2 ...\n",
      " $ cap.diameter        : num  15.3 16.6 14.1 14.2 14.6 ...\n",
      " $ cap.shape           : Factor w/ 7 levels \"b\",\"c\",\"f\",\"o\",..: 7 7 7 3 7 7 3 7 3 3 ...\n",
      " $ cap.surface         : Factor w/ 12 levels \"\",\"d\",\"e\",\"g\",..: 4 4 4 5 5 4 5 5 4 4 ...\n",
      " $ cap.color           : Factor w/ 12 levels \"b\",\"e\",\"g\",\"k\",..: 7 7 7 2 7 7 7 2 7 2 ...\n",
      " $ does.bruise.or.bleed: Factor w/ 2 levels \"f\",\"t\": 1 1 1 1 1 1 1 1 1 1 ...\n",
      " $ gill.attachment     : Factor w/ 8 levels \"\",\"a\",\"d\",\"e\",..: 4 4 4 4 4 4 4 4 4 4 ...\n",
      " $ gill.spacing        : Factor w/ 4 levels \"\",\"c\",\"d\",\"f\": 1 1 1 1 1 1 1 1 1 1 ...\n",
      " $ gill.color          : Factor w/ 12 levels \"b\",\"e\",\"f\",\"g\",..: 11 11 11 11 11 11 11 11 11 11 ...\n",
      " $ stem.height         : num  16.9 18 17.8 15.8 16.5 ...\n",
      " $ stem.width          : num  17.1 18.2 17.7 16 17.2 ...\n",
      " $ stem.root           : Factor w/ 6 levels \"\",\"b\",\"c\",\"f\",..: 6 6 6 6 6 6 6 6 6 6 ...\n",
      " $ stem.surface        : Factor w/ 9 levels \"\",\"f\",\"g\",\"h\",..: 9 9 9 9 9 9 9 9 9 9 ...\n",
      " $ stem.color          : Factor w/ 13 levels \"b\",\"e\",\"f\",\"g\",..: 12 12 12 12 12 12 12 12 12 12 ...\n",
      " $ veil.type           : Factor w/ 2 levels \"\",\"u\": 2 2 2 2 2 2 2 2 2 2 ...\n",
      " $ veil.color          : Factor w/ 7 levels \"\",\"e\",\"k\",\"n\",..: 6 6 6 6 6 6 6 6 6 6 ...\n",
      " $ has.ring            : Factor w/ 2 levels \"f\",\"t\": 2 2 2 2 2 2 2 2 2 2 ...\n",
      " $ ring.type           : Factor w/ 9 levels \"\",\"e\",\"f\",\"g\",..: 4 4 4 7 7 7 4 7 7 7 ...\n",
      " $ spore.print.color   : Factor w/ 8 levels \"\",\"g\",\"k\",\"n\",..: 1 1 1 1 1 1 1 1 1 1 ...\n",
      " $ habitat             : Factor w/ 8 levels \"d\",\"g\",\"h\",\"l\",..: 1 1 1 1 1 1 1 1 1 1 ...\n",
      " $ season              : Factor w/ 4 levels \"a\",\"s\",\"u\",\"w\": 4 3 4 4 4 3 4 3 1 4 ...\n"
     ]
    }
   ],
   "source": [
    "str(df)"
   ]
  },
  {
   "cell_type": "code",
   "execution_count": 19,
   "id": "37a41043",
   "metadata": {},
   "outputs": [
    {
     "data": {
      "image/png": "[encoded data removed]",
      "text/plain": [
       "Plot with title “Boxplot of stem.width”"
      ]
     },
     "metadata": {
      "image/png": {
       "height": 420,
       "width": 420
      }
     },
     "output_type": "display_data"
    }
   ],
   "source": [
    "par(mfrow=c(2,2))\n",
    "\n",
    "columns_to_plot <- c('cap.diameter','stem.height','stem.width')\n",
    "\n",
    "for (col in columns_to_plot) {\n",
    "  boxplot(df[[col]], main = paste(\"Boxplot of\", col))\n",
    "}"
   ]
  },
  {
   "cell_type": "code",
   "execution_count": 20,
   "id": "a1239abf",
   "metadata": {},
   "outputs": [],
   "source": [
    "winso <- function(x) {\n",
    "  Q1 <- quantile(x, 0.25)\n",
    "  Q3 <- quantile(x, 0.75)\n",
    "  IQR <- Q3 - Q1\n",
    "  lower_threshold <- Q1 - 1.5 * IQR\n",
    "  upper_threshold <- Q3 + 1.5 * IQR\n",
    "  outliers <- x < lower_threshold | x > upper_threshold\n",
    "  return(outliers)\n",
    "}"
   ]
  },
  {
   "cell_type": "code",
   "execution_count": 21,
   "id": "02ea0a78",
   "metadata": {},
   "outputs": [
    {
     "data": {
      "text/html": [
       "7536"
      ],
      "text/latex": [
       "7536"
      ],
      "text/markdown": [
       "7536"
      ],
      "text/plain": [
       "[1] 7536"
      ]
     },
     "metadata": {},
     "output_type": "display_data"
    }
   ],
   "source": [
    "# assign numerical variables to nuim_vars\n",
    "num_vars <- sapply(df, is.numeric)\n",
    "\n",
    "# identify outliers i the dataframe\n",
    "outlier <- sapply(df[, num_vars], winso)\n",
    "\n",
    "# sum of outliers\n",
    "total <- sum(rowSums(outlier))\n",
    "total"
   ]
  },
  {
   "cell_type": "code",
   "execution_count": 22,
   "id": "678c97cf",
   "metadata": {},
   "outputs": [],
   "source": [
    "new_df <- as.data.frame(lapply(df[, num_vars], winso))"
   ]
  },
  {
   "cell_type": "code",
   "execution_count": 23,
   "id": "e14140fd",
   "metadata": {},
   "outputs": [],
   "source": [
    "# Count the number of outliers filtered\n",
    "fltrd <- sum(new_df != df[, num_vars])"
   ]
  },
  {
   "cell_type": "code",
   "execution_count": 24,
   "id": "fb654fcd",
   "metadata": {},
   "outputs": [],
   "source": [
    "# Calculate the proportion of outliers filtered\n",
    "prop <- fltrd / (nrow(df) * length(num_vars))"
   ]
  },
  {
   "cell_type": "code",
   "execution_count": 25,
   "id": "18ca3f70",
   "metadata": {},
   "outputs": [
    {
     "name": "stdout",
     "output_type": "stream",
     "text": [
      "Number of outliers filtered: 181089 \n",
      "Proportion of outliers filtered: 0.1412056 \n"
     ]
    }
   ],
   "source": [
    "# Output the results\n",
    "cat(\"Number of outliers filtered:\", fltrd, \"\\n\")\n",
    "cat(\"Proportion of outliers filtered:\", prop, \"\\n\")"
   ]
  },
  {
   "cell_type": "markdown",
   "id": "0987496b",
   "metadata": {},
   "source": [
    "#### Romove duplicates"
   ]
  },
  {
   "cell_type": "code",
   "execution_count": 26,
   "id": "d9408149",
   "metadata": {},
   "outputs": [],
   "source": [
    "dimention <- dim(new_df)"
   ]
  },
  {
   "cell_type": "code",
   "execution_count": 27,
   "id": "233c7f04",
   "metadata": {},
   "outputs": [],
   "source": [
    "new_df <- unique(df)"
   ]
  },
  {
   "cell_type": "code",
   "execution_count": 28,
   "id": "505d478e",
   "metadata": {},
   "outputs": [],
   "source": [
    "dimention_after <- dim(new_df)"
   ]
  },
  {
   "cell_type": "code",
   "execution_count": 29,
   "id": "502a4ff2",
   "metadata": {},
   "outputs": [
    {
     "name": "stdout",
     "output_type": "stream",
     "text": [
      "[1] \"Number of Duplicate Records Removed: 146\"   \n",
      "[2] \"Number of Duplicate Records Removed: -60920\"\n",
      "[1] \"Proportion of Duplicate Records Removed: 0.00239073834515057\"\n",
      "[2] \"Proportion of Duplicate Records Removed: -20306.6666666667\"  \n"
     ]
    }
   ],
   "source": [
    "removed <- dimention - dimention_after[1]\n",
    "prop <- removed / dimention\n",
    "print(paste(\"Number of Duplicate Records Removed:\", removed))\n",
    "print(paste(\"Proportion of Duplicate Records Removed:\", prop))"
   ]
  },
  {
   "cell_type": "markdown",
   "id": "f35bcb10",
   "metadata": {},
   "source": [
    "#### Dimensionality reduction based on PCA"
   ]
  },
  {
   "cell_type": "code",
   "execution_count": 30,
   "id": "ce9147c1",
   "metadata": {},
   "outputs": [],
   "source": [
    "# numeric variables\n",
    "num_cols <- sapply(new_df, is.numeric)"
   ]
  },
  {
   "cell_type": "code",
   "execution_count": 31,
   "id": "281f7d95",
   "metadata": {},
   "outputs": [],
   "source": [
    "# PCA \n",
    "pca <- prcomp(new_df[, num_cols], scale. = TRUE)"
   ]
  },
  {
   "cell_type": "code",
   "execution_count": 32,
   "id": "3587a7e3",
   "metadata": {},
   "outputs": [
    {
     "data": {
      "text/plain": [
       "Importance of components:\n",
       "                          PC1    PC2    PC3\n",
       "Standard deviation     1.4300 0.8065 0.5521\n",
       "Proportion of Variance 0.6816 0.2168 0.1016\n",
       "Cumulative Proportion  0.6816 0.8984 1.0000"
      ]
     },
     "metadata": {},
     "output_type": "display_data"
    }
   ],
   "source": [
    "# Summary of PCA results\n",
    "summary(pca)"
   ]
  },
  {
   "cell_type": "code",
   "execution_count": 33,
   "id": "87539029",
   "metadata": {},
   "outputs": [],
   "source": [
    "# Extract the principal components\n",
    "principal_components <- pca$x"
   ]
  },
  {
   "cell_type": "code",
   "execution_count": 34,
   "id": "3c0f24a1",
   "metadata": {},
   "outputs": [
    {
     "data": {
      "image/png": "[encoded data removed]",
      "text/plain": [
       "Plot with title “pca”"
      ]
     },
     "metadata": {
      "image/png": {
       "height": 420,
       "width": 420
      }
     },
     "output_type": "display_data"
    }
   ],
   "source": [
    "# Optional: Scree plot\n",
    "plot(pca)"
   ]
  },
  {
   "cell_type": "code",
   "execution_count": 35,
   "id": "f1ff4f65",
   "metadata": {},
   "outputs": [],
   "source": [
    "# Assuming 'pca_result' contains the PCA-transformed features and 'new_df' is the original dataset\n",
    "df_new <- cbind(new_df, principal_components)"
   ]
  },
  {
   "cell_type": "markdown",
   "id": "73d114b4",
   "metadata": {},
   "source": [
    "#### Correlation matrix"
   ]
  },
  {
   "cell_type": "code",
   "execution_count": 36,
   "id": "a73042e0",
   "metadata": {},
   "outputs": [],
   "source": [
    "# convert factor to numeric\n",
    "factor_columns <- sapply(df_new, is.factor)\n",
    "df_new[factor_columns] <- lapply(df_new[factor_columns], as.numeric)\n",
    "\n",
    "# correlation matrix\n",
    "cormat <- round(cor(df_new), 2)"
   ]
  },
  {
   "cell_type": "code",
   "execution_count": 37,
   "id": "43f44476",
   "metadata": {},
   "outputs": [],
   "source": [
    "get_upper_tri <- function(cormat)\n",
    "    \n",
    "{   \n",
    "    cormat[lower.tri(cormat)]<- NA\n",
    "    return(cormat)\n",
    "}"
   ]
  },
  {
   "cell_type": "code",
   "execution_count": 38,
   "id": "e5bf5fec",
   "metadata": {},
   "outputs": [],
   "source": [
    "upper_tri <- get_upper_tri(cormat)"
   ]
  },
  {
   "cell_type": "code",
   "execution_count": 39,
   "id": "05112428",
   "metadata": {},
   "outputs": [],
   "source": [
    "# Melt the correlation matrix\n",
    "library(reshape2)\n",
    "cor_melt <- melt(upper_tri, na.rm = TRUE)"
   ]
  },
  {
   "cell_type": "code",
   "execution_count": 40,
   "id": "40171d6b",
   "metadata": {},
   "outputs": [
    {
     "data": {
      "image/png": "[encoded data removed]",
      "text/plain": [
       "plot without title"
      ]
     },
     "metadata": {
      "image/png": {
       "height": 420,
       "width": 420
      }
     },
     "output_type": "display_data"
    }
   ],
   "source": [
    "# Heatmap\n",
    "library(ggplot2)\n",
    "\n",
    "ggplot(data = cor_melt, aes(Var2, Var1, fill = value))+\n",
    " geom_tile(color = \"white\")+\n",
    " scale_fill_gradient2(low = \"blue\", high = \"red\", mid = \"white\", \n",
    "   midpoint = 0, limit = c(-1,1), space = \"Lab\", \n",
    "   name=\"Pearson\\nCorrelation\") +\n",
    "  theme_minimal()+ \n",
    " theme(axis.text.x = element_text(angle = 45, vjust = 1, \n",
    "    size = 12, hjust = 1))+\n",
    " coord_fixed()"
   ]
  },
  {
   "cell_type": "markdown",
   "id": "9f5c69c3",
   "metadata": {},
   "source": [
    "#### Normalise the data"
   ]
  },
  {
   "cell_type": "code",
   "execution_count": 41,
   "id": "64fde120",
   "metadata": {},
   "outputs": [],
   "source": [
    "# Normalize numerical variables using Min-Max scaling\n",
    "\n",
    "df_new[, sapply(df_new, is.numeric)] <- \n",
    "                apply(df_new[, sapply(df_new, is.numeric)], \n",
    "                2, function(x) (x - min(x)) / (max(x) - min(x)))"
   ]
  },
  {
   "cell_type": "code",
   "execution_count": 42,
   "id": "0c19af7e",
   "metadata": {},
   "outputs": [
    {
     "name": "stdout",
     "output_type": "stream",
     "text": [
      "[1] \"Min-Max Scaled Data:\"\n",
      "  S cap.diameter cap.shape cap.surface  cap.color does.bruise.or.bleed\n",
      "1 1    0.2401549 1.0000000   0.2727273 0.54545455                    0\n",
      "2 1    0.2617818 1.0000000   0.2727273 0.54545455                    0\n",
      "3 1    0.2209490 1.0000000   0.2727273 0.54545455                    0\n",
      "4 1    0.2225629 0.3333333   0.3636364 0.09090909                    0\n",
      "5 1    0.2301485 1.0000000   0.3636364 0.54545455                    0\n",
      "6 1    0.2414461 1.0000000   0.2727273 0.54545455                    0\n",
      "  gill.attachment gill.spacing gill.color stem.height stem.width stem.root\n",
      "1       0.4285714            0  0.9090909   0.4997052  0.1644693         1\n",
      "2       0.4285714            0  0.9090909   0.5303656  0.1750553         1\n",
      "3       0.4285714            0  0.9090909   0.5247642  0.1707247         1\n",
      "4       0.4285714            0  0.9090909   0.4649175  0.1537869         1\n",
      "5       0.4285714            0  0.9090909   0.4873231  0.1655279         1\n",
      "6       0.4285714            0  0.9090909   0.5259434  0.1808296         1\n",
      "  stem.surface stem.color veil.type veil.color has.ring ring.type\n",
      "1            1  0.9166667         1  0.8333333        1     0.375\n",
      "2            1  0.9166667         1  0.8333333        1     0.375\n",
      "3            1  0.9166667         1  0.8333333        1     0.375\n",
      "4            1  0.9166667         1  0.8333333        1     0.750\n",
      "5            1  0.9166667         1  0.8333333        1     0.750\n",
      "6            1  0.9166667         1  0.8333333        1     0.750\n",
      "  spore.print.color habitat    season       PC1       PC2       PC3\n",
      "1                 0       0 1.0000000 0.6093383 0.3543967 0.5227068\n",
      "2                 0       0 0.6666667 0.5805886 0.3418067 0.5331454\n",
      "3                 0       0 1.0000000 0.6071577 0.3286401 0.5030298\n",
      "4                 0       0 1.0000000 0.6375187 0.3718783 0.5155377\n",
      "5                 0       0 1.0000000 0.6190625 0.3606995 0.5135794\n",
      "6                 0       0 0.6666667 0.5906105 0.3391262 0.5123497\n"
     ]
    }
   ],
   "source": [
    "print(\"Min-Max Scaled Data:\")\n",
    "print(head(df_new))"
   ]
  },
  {
   "cell_type": "markdown",
   "id": "472b263c",
   "metadata": {},
   "source": [
    "#### Balance the data"
   ]
  },
  {
   "cell_type": "code",
   "execution_count": 43,
   "id": "948acfea",
   "metadata": {},
   "outputs": [],
   "source": [
    "df_new <- ovun.sample(S ~ ., data = df_new, method = \"both\", N = nrow(df), seed = 123)$data"
   ]
  },
  {
   "cell_type": "code",
   "execution_count": 44,
   "id": "07f24f7e",
   "metadata": {},
   "outputs": [],
   "source": [
    "write.csv(df_new, file = \"Mushroom_r_preprocessed.csv\", row.names = FALSE) "
   ]
  },
  {
   "cell_type": "code",
   "execution_count": 46,
   "id": "1cdb87ce",
   "metadata": {},
   "outputs": [
    {
     "data": {
      "text/html": [
       "<style>\n",
       ".list-inline {list-style: none; margin:0; padding: 0}\n",
       ".list-inline>li {display: inline-block}\n",
       ".list-inline>li:not(:last-child)::after {content: \"\\00b7\"; padding: 0 .5ex}\n",
       "</style>\n",
       "<ol class=list-inline><li>61069</li><li>24</li></ol>\n"
      ],
      "text/latex": [
       "\\begin{enumerate*}\n",
       "\\item 61069\n",
       "\\item 24\n",
       "\\end{enumerate*}\n"
      ],
      "text/markdown": [
       "1. 61069\n",
       "2. 24\n",
       "\n",
       "\n"
      ],
      "text/plain": [
       "[1] 61069    24"
      ]
     },
     "metadata": {},
     "output_type": "display_data"
    },
    {
     "name": "stdout",
     "output_type": "stream",
     "text": [
      "'data.frame':\t61069 obs. of  24 variables:\n",
      " $ S                   : num  1 1 1 1 1 1 1 1 1 1 ...\n",
      " $ cap.diameter        : num  0.2318 0.1624 0.0975 0.1637 0.1104 ...\n",
      " $ cap.shape           : num  1 0.5 1 1 1 ...\n",
      " $ cap.surface         : num  0.364 0 0 0.182 0.182 ...\n",
      " $ cap.color           : num  0.455 0.455 1 0.455 0.455 ...\n",
      " $ does.bruise.or.bleed: num  1 0 0 1 0 0 0 1 0 0 ...\n",
      " $ gill.attachment     : num  0.714 0.571 0.857 0.714 0.143 ...\n",
      " $ gill.spacing        : num  0 1 0.667 0 0 ...\n",
      " $ gill.color          : num  0.0909 0.1818 1 0.5455 0.4545 ...\n",
      " $ stem.height         : num  0.256 0.135 0.157 0.226 0.292 ...\n",
      " $ stem.width          : num  0.308 0.249 0.123 0.258 0.138 ...\n",
      " $ stem.root           : num  0.4 0 0 0 1 0 0 1 0 0 ...\n",
      " $ stem.surface        : num  0 0.25 0.5 0 0 0 0 0 0 1 ...\n",
      " $ stem.color          : num  1 0.5 1 0.833 0.5 ...\n",
      " $ veil.type           : num  0 0 0 0 0 0 0 0 0 0 ...\n",
      " $ veil.color          : num  0 0 0 0 0.167 ...\n",
      " $ has.ring            : num  0 0 0 0 0 0 0 1 0 1 ...\n",
      " $ ring.type           : num  0.25 0.25 0.25 0.25 0.25 0.25 0.25 0.5 0.25 0 ...\n",
      " $ spore.print.color   : num  0 0 0 0 0 0 0 0 0 0 ...\n",
      " $ habitat             : num  0 0 0 0 0 ...\n",
      " $ season              : num  0 0.333 0 0.667 0 ...\n",
      " $ PC1                 : num  0.639 0.751 0.84 0.711 0.773 ...\n",
      " $ PC2                 : num  0.593 0.644 0.559 0.574 0.461 ...\n",
      " $ PC3                 : num  0.407 0.391 0.431 0.387 0.432 ...\n"
     ]
    }
   ],
   "source": [
    "dim(df_new)\n",
    "str(df_new)"
   ]
  },
  {
   "cell_type": "markdown",
   "id": "bc306a81",
   "metadata": {},
   "source": [
    "#### Modelling "
   ]
  },
  {
   "cell_type": "markdown",
   "id": "3c0da968",
   "metadata": {},
   "source": [
    "#### Train Test Split"
   ]
  },
  {
   "cell_type": "code",
   "execution_count": 45,
   "id": "512bfc90",
   "metadata": {},
   "outputs": [
    {
     "name": "stdout",
     "output_type": "stream",
     "text": [
      "[1] \"Class Distribution:\"\n",
      "\n",
      "    e     p \n",
      "27181 33742 \n"
     ]
    }
   ],
   "source": [
    "class_distribution <- table(new_df$S)\n",
    "print(\"Class Distribution:\")\n",
    "print(class_distribution)"
   ]
  },
  {
   "cell_type": "code",
   "execution_count": 43,
   "id": "019c2506",
   "metadata": {},
   "outputs": [],
   "source": [
    "# Train test Split\n",
    "set.seed(123)  \n",
    "trainIndex <- createDataPartition(df_new[[\"S\"]], p = 0.7, list = FALSE)\n",
    "train_data <- df_new[trainIndex, , drop = FALSE] \n",
    "test_data <- df_new[-trainIndex, , drop = FALSE]  \n"
   ]
  },
  {
   "cell_type": "code",
   "execution_count": 44,
   "id": "6fc58abe",
   "metadata": {},
   "outputs": [
    {
     "name": "stdout",
     "output_type": "stream",
     "text": [
      "[1] \"Train Class Distribution:\"\n",
      "\n",
      "    0     1 \n",
      "21178 21571 \n",
      "[1] \"Test Class Distribution:\"\n",
      "\n",
      "   0    1 \n",
      "9070 9250 \n"
     ]
    }
   ],
   "source": [
    "train_class_distribution <- table(train_data$S)\n",
    "test_class_distribution <- table(test_data$S)\n",
    "\n",
    "print(\"Train Class Distribution:\")\n",
    "print(train_class_distribution)\n",
    "print(\"Test Class Distribution:\")\n",
    "print(test_class_distribution)"
   ]
  },
  {
   "cell_type": "code",
   "execution_count": 45,
   "id": "154e6220",
   "metadata": {},
   "outputs": [
    {
     "data": {
      "text/html": [
       "'numeric'"
      ],
      "text/latex": [
       "'numeric'"
      ],
      "text/markdown": [
       "'numeric'"
      ],
      "text/plain": [
       "[1] \"numeric\""
      ]
     },
     "metadata": {},
     "output_type": "display_data"
    },
    {
     "data": {
      "text/html": [
       "'numeric'"
      ],
      "text/latex": [
       "'numeric'"
      ],
      "text/markdown": [
       "'numeric'"
      ],
      "text/plain": [
       "[1] \"numeric\""
      ]
     },
     "metadata": {},
     "output_type": "display_data"
    }
   ],
   "source": [
    "class(train_data$S)\n",
    "class(test_data$S)"
   ]
  },
  {
   "cell_type": "code",
   "execution_count": 46,
   "id": "d3384d34",
   "metadata": {},
   "outputs": [],
   "source": [
    "train_data$S <- as.factor(train_data$S)\n",
    "test_data$S <- as.factor(test_data$S)"
   ]
  },
  {
   "cell_type": "markdown",
   "id": "7ee132c0",
   "metadata": {},
   "source": [
    "#### Random Forest"
   ]
  },
  {
   "cell_type": "code",
   "execution_count": 47,
   "id": "fdf92aa0",
   "metadata": {},
   "outputs": [],
   "source": [
    "rf <- randomForest(\n",
    "  S ~ ., \n",
    "  data = train_data,\n",
    "  ntree = 1000\n",
    ")\n"
   ]
  },
  {
   "cell_type": "code",
   "execution_count": 65,
   "id": "c603909a",
   "metadata": {},
   "outputs": [
    {
     "data": {
      "text/plain": [
       "                Length Class  Mode     \n",
       "call                4  -none- call     \n",
       "type                1  -none- character\n",
       "predicted       42749  factor numeric  \n",
       "err.rate         3000  -none- numeric  \n",
       "confusion           6  -none- numeric  \n",
       "votes           85498  matrix numeric  \n",
       "oob.times       42749  -none- numeric  \n",
       "classes             2  -none- character\n",
       "importance         23  -none- numeric  \n",
       "importanceSD        0  -none- NULL     \n",
       "localImportance     0  -none- NULL     \n",
       "proximity           0  -none- NULL     \n",
       "ntree               1  -none- numeric  \n",
       "mtry                1  -none- numeric  \n",
       "forest             14  -none- list     \n",
       "y               42749  factor numeric  \n",
       "test                0  -none- NULL     \n",
       "inbag               0  -none- NULL     \n",
       "terms               3  terms  call     "
      ]
     },
     "metadata": {},
     "output_type": "display_data"
    }
   ],
   "source": [
    "summary(rf)"
   ]
  },
  {
   "cell_type": "code",
   "execution_count": 48,
   "id": "9be81adb",
   "metadata": {},
   "outputs": [],
   "source": [
    "# Make predictions on test data\n",
    "pred_test <- predict(rf, newdata = test_data, type= \"class\")"
   ]
  },
  {
   "cell_type": "code",
   "execution_count": 49,
   "id": "d8488666",
   "metadata": {},
   "outputs": [
    {
     "data": {
      "text/plain": [
       "Confusion Matrix and Statistics\n",
       "\n",
       "         \n",
       "pred_test    0    1\n",
       "        0 9069    1\n",
       "        1    1 9249\n",
       "                                     \n",
       "               Accuracy : 0.9999     \n",
       "                 95% CI : (0.9996, 1)\n",
       "    No Information Rate : 0.5049     \n",
       "    P-Value [Acc > NIR] : <2e-16     \n",
       "                                     \n",
       "                  Kappa : 0.9998     \n",
       "                                     \n",
       " Mcnemar's Test P-Value : 1          \n",
       "                                     \n",
       "            Sensitivity : 0.9999     \n",
       "            Specificity : 0.9999     \n",
       "         Pos Pred Value : 0.9999     \n",
       "         Neg Pred Value : 0.9999     \n",
       "             Prevalence : 0.4951     \n",
       "         Detection Rate : 0.4950     \n",
       "   Detection Prevalence : 0.4951     \n",
       "      Balanced Accuracy : 0.9999     \n",
       "                                     \n",
       "       'Positive' Class : 0          \n",
       "                                     "
      ]
     },
     "metadata": {},
     "output_type": "display_data"
    }
   ],
   "source": [
    "confusionMatrix(table(pred_test,test_data$S)) "
   ]
  },
  {
   "cell_type": "code",
   "execution_count": 69,
   "id": "3c9f8d1a",
   "metadata": {},
   "outputs": [
    {
     "name": "stdout",
     "output_type": "stream",
     "text": [
      "F1 Score class 0: 0.9998897 \n",
      "F1 Score class 1: 0.9998919 \n"
     ]
    }
   ],
   "source": [
    "precision_0 <- 9069 / (9069 + 1)\n",
    "recall_0 <- 9069 / (9069 + 1)\n",
    "precision_1 <- 9249 / (9249 + 1)\n",
    "recall_1 <- 9249 / (9249 + 1)\n",
    "\n",
    "f1_0 <- 2 * (precision_0 * recall_0) / (precision_0 + recall_0)\n",
    "\n",
    "f1_1 <- 2 * (precision_1 * recall_1) / (precision_1 + recall_1)\n",
    "\n",
    "cat(\"F1 Score class 0:\", f1_0, \"\\n\")\n",
    "cat(\"F1 Score class 1:\", f1_1, \"\\n\")"
   ]
  },
  {
   "cell_type": "markdown",
   "id": "2ad05a67",
   "metadata": {},
   "source": [
    "#### Gradient Boosting"
   ]
  },
  {
   "cell_type": "code",
   "execution_count": 50,
   "id": "a4bf03a3",
   "metadata": {},
   "outputs": [],
   "source": [
    "# Set seed for reproducibility\n",
    "set.seed(123)"
   ]
  },
  {
   "cell_type": "code",
   "execution_count": 51,
   "id": "fc2651f5",
   "metadata": {},
   "outputs": [],
   "source": [
    "# Split the data into training and testing sets\n",
    "split <- sample.split(df_new, SplitRatio = 0.8) "
   ]
  },
  {
   "cell_type": "code",
   "execution_count": 52,
   "id": "9602c0a9",
   "metadata": {},
   "outputs": [],
   "source": [
    "# Create the training set\n",
    "train_data <- subset(df_new, split == TRUE)"
   ]
  },
  {
   "cell_type": "code",
   "execution_count": 53,
   "id": "df136fb9",
   "metadata": {},
   "outputs": [],
   "source": [
    "# Create the testing set\n",
    "test_data <- subset(df_new, split == FALSE)"
   ]
  },
  {
   "cell_type": "code",
   "execution_count": 54,
   "id": "5e4bc59f",
   "metadata": {},
   "outputs": [],
   "source": [
    "# Perform one-hot encoding on factor variables\n",
    "train_data_encoded <- model.matrix(~ . - 1, data = train_data[, -which(names(train_data) == \"S\")])\n",
    "test_data_encoded <- model.matrix(~ . - 1, data = test_data[, -which(names(test_data) == \"S\")])"
   ]
  },
  {
   "cell_type": "code",
   "execution_count": 55,
   "id": "949336e6",
   "metadata": {},
   "outputs": [],
   "source": [
    "# Encode the target variable as a factor\n",
    "train_data$S <- as.factor(train_data$S)"
   ]
  },
  {
   "cell_type": "code",
   "execution_count": 56,
   "id": "112735d6",
   "metadata": {},
   "outputs": [],
   "source": [
    "# Convert factor levels to numeric (0 and 1)\n",
    "train_data$S <- as.numeric(train_data$S) - 1"
   ]
  },
  {
   "cell_type": "code",
   "execution_count": 57,
   "id": "dbb84361",
   "metadata": {
    "scrolled": true
   },
   "outputs": [
    {
     "name": "stdout",
     "output_type": "stream",
     "text": [
      "[1]\ttrain-logloss:0.577706 \n",
      "[2]\ttrain-logloss:0.507415 \n",
      "[3]\ttrain-logloss:0.452474 \n",
      "[4]\ttrain-logloss:0.403706 \n",
      "[5]\ttrain-logloss:0.337202 \n",
      "[6]\ttrain-logloss:0.304761 \n",
      "[7]\ttrain-logloss:0.285157 \n",
      "[8]\ttrain-logloss:0.241040 \n",
      "[9]\ttrain-logloss:0.227769 \n",
      "[10]\ttrain-logloss:0.208772 \n",
      "[11]\ttrain-logloss:0.174708 \n",
      "[12]\ttrain-logloss:0.158661 \n",
      "[13]\ttrain-logloss:0.142716 \n",
      "[14]\ttrain-logloss:0.133445 \n",
      "[15]\ttrain-logloss:0.120286 \n",
      "[16]\ttrain-logloss:0.111374 \n",
      "[17]\ttrain-logloss:0.102018 \n",
      "[18]\ttrain-logloss:0.094190 \n",
      "[19]\ttrain-logloss:0.087090 \n",
      "[20]\ttrain-logloss:0.082085 \n",
      "[21]\ttrain-logloss:0.076925 \n",
      "[22]\ttrain-logloss:0.068989 \n",
      "[23]\ttrain-logloss:0.061366 \n",
      "[24]\ttrain-logloss:0.057543 \n",
      "[25]\ttrain-logloss:0.052723 \n",
      "[26]\ttrain-logloss:0.050940 \n",
      "[27]\ttrain-logloss:0.045653 \n",
      "[28]\ttrain-logloss:0.042500 \n",
      "[29]\ttrain-logloss:0.040271 \n",
      "[30]\ttrain-logloss:0.037208 \n",
      "[31]\ttrain-logloss:0.033836 \n",
      "[32]\ttrain-logloss:0.032168 \n",
      "[33]\ttrain-logloss:0.030346 \n",
      "[34]\ttrain-logloss:0.028382 \n",
      "[35]\ttrain-logloss:0.027123 \n",
      "[36]\ttrain-logloss:0.024278 \n",
      "[37]\ttrain-logloss:0.023297 \n",
      "[38]\ttrain-logloss:0.022222 \n",
      "[39]\ttrain-logloss:0.020283 \n",
      "[40]\ttrain-logloss:0.018305 \n",
      "[41]\ttrain-logloss:0.017768 \n",
      "[42]\ttrain-logloss:0.015961 \n",
      "[43]\ttrain-logloss:0.015619 \n",
      "[44]\ttrain-logloss:0.015012 \n",
      "[45]\ttrain-logloss:0.013462 \n",
      "[46]\ttrain-logloss:0.012867 \n",
      "[47]\ttrain-logloss:0.011522 \n",
      "[48]\ttrain-logloss:0.011290 \n",
      "[49]\ttrain-logloss:0.011015 \n",
      "[50]\ttrain-logloss:0.010699 \n",
      "[51]\ttrain-logloss:0.010359 \n",
      "[52]\ttrain-logloss:0.008954 \n",
      "[53]\ttrain-logloss:0.008260 \n",
      "[54]\ttrain-logloss:0.007985 \n",
      "[55]\ttrain-logloss:0.007264 \n",
      "[56]\ttrain-logloss:0.006783 \n",
      "[57]\ttrain-logloss:0.006001 \n",
      "[58]\ttrain-logloss:0.005631 \n",
      "[59]\ttrain-logloss:0.005286 \n",
      "[60]\ttrain-logloss:0.005167 \n",
      "[61]\ttrain-logloss:0.004891 \n",
      "[62]\ttrain-logloss:0.004328 \n",
      "[63]\ttrain-logloss:0.004155 \n",
      "[64]\ttrain-logloss:0.004007 \n",
      "[65]\ttrain-logloss:0.003835 \n",
      "[66]\ttrain-logloss:0.003690 \n",
      "[67]\ttrain-logloss:0.003576 \n",
      "[68]\ttrain-logloss:0.003491 \n",
      "[69]\ttrain-logloss:0.003383 \n",
      "[70]\ttrain-logloss:0.003236 \n",
      "[71]\ttrain-logloss:0.003112 \n",
      "[72]\ttrain-logloss:0.003053 \n",
      "[73]\ttrain-logloss:0.002880 \n",
      "[74]\ttrain-logloss:0.002582 \n",
      "[75]\ttrain-logloss:0.002472 \n",
      "[76]\ttrain-logloss:0.002347 \n",
      "[77]\ttrain-logloss:0.002311 \n",
      "[78]\ttrain-logloss:0.002220 \n",
      "[79]\ttrain-logloss:0.002150 \n",
      "[80]\ttrain-logloss:0.002118 \n",
      "[81]\ttrain-logloss:0.001952 \n",
      "[82]\ttrain-logloss:0.001931 \n",
      "[83]\ttrain-logloss:0.001873 \n",
      "[84]\ttrain-logloss:0.001841 \n",
      "[85]\ttrain-logloss:0.001790 \n",
      "[86]\ttrain-logloss:0.001675 \n",
      "[87]\ttrain-logloss:0.001649 \n",
      "[88]\ttrain-logloss:0.001618 \n",
      "[89]\ttrain-logloss:0.001520 \n",
      "[90]\ttrain-logloss:0.001471 \n",
      "[91]\ttrain-logloss:0.001428 \n",
      "[92]\ttrain-logloss:0.001335 \n",
      "[93]\ttrain-logloss:0.001259 \n",
      "[94]\ttrain-logloss:0.001234 \n",
      "[95]\ttrain-logloss:0.001210 \n",
      "[96]\ttrain-logloss:0.001197 \n",
      "[97]\ttrain-logloss:0.001171 \n",
      "[98]\ttrain-logloss:0.001121 \n",
      "[99]\ttrain-logloss:0.001074 \n",
      "[100]\ttrain-logloss:0.001061 \n"
     ]
    }
   ],
   "source": [
    "# Train the XGBoost model\n",
    "xgb <- xgboost(\n",
    "  data = train_data_encoded,\n",
    "  label = train_data$S,\n",
    "  nrounds = 100,\n",
    "  objective = \"binary:logistic\")"
   ]
  },
  {
   "cell_type": "code",
   "execution_count": 58,
   "id": "0bc43cac",
   "metadata": {},
   "outputs": [
    {
     "data": {
      "text/plain": [
       "               Length Class              Mode       \n",
       "handle              1 xgb.Booster.handle externalptr\n",
       "raw            251994 -none-             raw        \n",
       "niter               1 -none-             numeric    \n",
       "evaluation_log      2 data.table         list       \n",
       "call               14 -none-             call       \n",
       "params              2 -none-             list       \n",
       "callbacks           2 -none-             list       \n",
       "feature_names      23 -none-             character  \n",
       "nfeatures           1 -none-             numeric    "
      ]
     },
     "metadata": {},
     "output_type": "display_data"
    }
   ],
   "source": [
    "summary(xgb)"
   ]
  },
  {
   "cell_type": "code",
   "execution_count": 59,
   "id": "b9bfb5a7",
   "metadata": {},
   "outputs": [
    {
     "name": "stdout",
     "output_type": "stream",
     "text": [
      "##### xgb.Booster\n",
      "raw: 246.1 Kb \n",
      "call:\n",
      "  xgb.train(params = params, data = dtrain, nrounds = nrounds, \n",
      "    watchlist = watchlist, verbose = verbose, print_every_n = print_every_n, \n",
      "    early_stopping_rounds = early_stopping_rounds, maximize = maximize, \n",
      "    save_period = save_period, save_name = save_name, xgb_model = xgb_model, \n",
      "    callbacks = callbacks, objective = \"binary:logistic\")\n",
      "params (as set within xgb.train):\n",
      "  objective = \"binary:logistic\", validate_parameters = \"TRUE\"\n",
      "xgb.attributes:\n",
      "  niter\n",
      "callbacks:\n",
      "  cb.print.evaluation(period = print_every_n)\n",
      "  cb.evaluation.log()\n",
      "# of features: 23 \n",
      "niter: 100\n",
      "nfeatures : 23 \n",
      "evaluation_log:\n",
      "     iter train_logloss\n",
      "    <num>         <num>\n",
      "        1   0.577705952\n",
      "        2   0.507414540\n",
      "---                    \n",
      "       99   0.001073971\n",
      "      100   0.001061344\n"
     ]
    }
   ],
   "source": [
    "print(xgb)"
   ]
  },
  {
   "cell_type": "code",
   "execution_count": 60,
   "id": "cc3724b7",
   "metadata": {},
   "outputs": [],
   "source": [
    "pred <- predict(xgb, test_data_encoded)"
   ]
  },
  {
   "cell_type": "code",
   "execution_count": 61,
   "id": "0c7a1ad3",
   "metadata": {},
   "outputs": [],
   "source": [
    "pred_binary <- ifelse(pred > 0.5, 1, 0)"
   ]
  },
  {
   "cell_type": "code",
   "execution_count": 62,
   "id": "219555b4",
   "metadata": {},
   "outputs": [],
   "source": [
    "conf_mat <- table(Actual = test_data$S, Predicted = pred_binary)"
   ]
  },
  {
   "cell_type": "code",
   "execution_count": 63,
   "id": "676c13e2",
   "metadata": {},
   "outputs": [],
   "source": [
    "accuracy <- sum(diag(conf_mat)) / sum(conf_mat)"
   ]
  },
  {
   "cell_type": "code",
   "execution_count": 64,
   "id": "9f12b321",
   "metadata": {},
   "outputs": [
    {
     "name": "stdout",
     "output_type": "stream",
     "text": [
      "[1] \"Confusion Matrix:\"\n",
      "      Predicted\n",
      "Actual    0    1\n",
      "     0 6299    2\n",
      "     1    0 6421\n",
      "[1] \"Accuracy: 0.999842792013834\"\n"
     ]
    }
   ],
   "source": [
    "print(\"Confusion Matrix:\")\n",
    "print(conf_mat)\n",
    "print(paste(\"Accuracy:\", accuracy))"
   ]
  },
  {
   "cell_type": "code",
   "execution_count": 71,
   "id": "55dde20a",
   "metadata": {},
   "outputs": [
    {
     "name": "stdout",
     "output_type": "stream",
     "text": [
      "F1 Score class 0: 0.9998413 \n",
      "F1 Score class 1: 1 \n"
     ]
    }
   ],
   "source": [
    "precision_0 <- 6299 / (6299 + 0)\n",
    "recall_0 <- 6299 / (6299 + 2)\n",
    "precision_1 <- 6421 / (6421 + 0)\n",
    "recall_1 <- 6421 / (6421 + 0)\n",
    "\n",
    "f1_0 <- 2 * (precision_0 * recall_0) / (precision_0 + recall_0)\n",
    "\n",
    "f1_1 <- 2 * (precision_1 * recall_1) / (precision_1 + recall_1)\n",
    "\n",
    "cat(\"F1 Score class 0:\", f1_0, \"\\n\")\n",
    "cat(\"F1 Score class 1:\", f1_1, \"\\n\")"
   ]
  },
  {
   "cell_type": "code",
   "execution_count": null,
   "id": "11105e58",
   "metadata": {},
   "outputs": [],
   "source": []
  },
  {
   "cell_type": "code",
   "execution_count": null,
   "id": "c2963f72",
   "metadata": {},
   "outputs": [],
   "source": []
  }
 ],
 "metadata": {
  "kernelspec": {
   "display_name": "R",
   "language": "R",
   "name": "ir"
  },
  "language_info": {
   "codemirror_mode": "r",
   "file_extension": ".r",
   "mimetype": "text/x-r-source",
   "name": "R",
   "pygments_lexer": "r",
   "version": "4.3.2"
  }
 },
 "nbformat": 4,
 "nbformat_minor": 5
}
